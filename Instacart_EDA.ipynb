{
 "cells": [
  {
   "cell_type": "markdown",
   "id": "d189e612",
   "metadata": {},
   "source": [
    "<div style=\"border:solid green 2px; padding: 20px\">\n",
    "    \n",
    "<b>Hello, Olivia!</b> We're glad to see you in code-reviewer territory. You've done a great job on the project, but let's get to know each other and make it even better! We have our own atmosphere here and a few rules:\n",
    "\n",
    "\n",
    "1.  I work as a code reviewer, and my main goal is not to point out your mistakes, but to share my experience and help you become a data analyst.\n",
    "2. We speak on a first-come-first-served basis.\n",
    "3. if you want to write or ask a question, don't be shy. Just choose your color for your comment.  \n",
    "4. this is a training project, you don't have to be afraid of making a mistake.  \n",
    "5. You have an unlimited number of attempts to pass the project.  \n",
    "6. Let's Go!\n",
    "\n",
    "\n",
    "---\n",
    "I'll be color-coding comments, please don't delete them:\n",
    "\n",
    "<div class=\"alert alert-block alert-danger\">✍\n",
    "    \n",
    "\n",
    "__Reviewer's comment №1__\n",
    "\n",
    "Needs fixing. The block requires some corrections. Work can't be accepted with the red comments.\n",
    "</div>\n",
    "    \n",
    "---\n",
    "\n",
    "<div class=\"alert alert-block alert-warning\">📝\n",
    "    \n",
    "\n",
    "__Reviewer's comment №1__\n",
    "\n",
    "\n",
    "Remarks. Some recommendations.\n",
    "</div>\n",
    "\n",
    "---\n",
    "\n",
    "<div class=\"alert alert-block alert-success\">✔️\n",
    "    \n",
    "\n",
    "__Reviewer's comment №1__\n",
    "\n",
    "Success. Everything is done succesfully.\n",
    "</div>\n",
    "    \n",
    "---\n",
    "    \n",
    "I suggest that we work on the project in dialogue: if you change something in the project or respond to my comments, write about it. It will be easier for me to track changes if you highlight your comments:   \n",
    "    \n",
    "<div class=\"alert alert-info\"> <b>Student сomments:</b> Student answer..</div>\n",
    "    \n",
    "All this will help to make the recheck of your project faster. If you have any questions about my comments, let me know, we'll figure it out together :)   \n",
    "    \n",
    "---"
   ]
  },
  {
   "cell_type": "markdown",
   "id": "f81f8058",
   "metadata": {},
   "source": []
  },
  {
   "cell_type": "markdown",
   "id": "230e6fd5",
   "metadata": {},
   "source": [
    "<div class=\"alert alert-block alert-danger\">✍\n",
    "    \n",
    "\n",
    "__Reviewer's comment №1__\n",
    "\n",
    "An excellent practice is to describe the goal and main steps in your own words (a skill that will help a lot on a final project). It would be good to add the progress and purpose of the study.\n",
    "    \n",
    "    \n",
    "please see an example\n",
    "    \n",
    "    For this project, you’ll work with data from Instacart.\n",
    "\n",
    "    Instacart is a grocery delivery platform where customers can place a grocery order and have it delivered to them, similar to how Uber Eats and Door Dash work. This particular dataset was publicly released by Instacart in 2017 for a Kaggle competition.\n",
    "\n",
    "    Your mission is to clean up the data and prepare a report that gives insight into the shopping habits of Instacart customers."
   ]
  },
  {
   "cell_type": "markdown",
   "id": "060e2855",
   "metadata": {},
   "source": [
    "<div class=\"alert alert-info\"> <b>Student сomments:\n",
    "\n",
    "    \n",
    "Let me know if this is how you want me to make comments and answers"
   ]
  },
  {
   "cell_type": "markdown",
   "id": "31d0416a",
   "metadata": {},
   "source": [
    "<div class=\"alert alert-info\"> <b>Student answer..</div>\n",
    "\n",
    "In this analysis of Instacart data I will aim to do the following:\n",
    "\n",
    "1. Clean the data\n",
    "\n",
    "2. Identify trends and insights which could better help the company understand their customers' shopping habits and most popular products\n",
    "\n",
    "3. Provide visualized feedback for reference"
   ]
  },
  {
   "cell_type": "markdown",
   "id": "de2656e1",
   "metadata": {},
   "source": [
    "<div class=\"alert alert-block alert-success\">✔️\n",
    "    \n",
    "\n",
    "__Reviewer's comment №2__\n",
    "\n",
    "Well done!"
   ]
  },
  {
   "cell_type": "markdown",
   "id": "dafcfda4-03ec-40b7-9a59-6e21ad6a2447",
   "metadata": {
    "id": "dafcfda4-03ec-40b7-9a59-6e21ad6a2447"
   },
   "source": [
    "# Instacart Market Basket Analysis"
   ]
  },
  {
   "cell_type": "markdown",
   "id": "7c513406-9b90-479c-ab2f-a02f79ade6fc",
   "metadata": {
    "id": "7c513406-9b90-479c-ab2f-a02f79ade6fc"
   },
   "source": [
    "## Importing the required libraries"
   ]
  },
  {
   "cell_type": "code",
   "execution_count": 1,
   "id": "fbf1adab",
   "metadata": {
    "id": "fbf1adab",
    "trusted": false
   },
   "outputs": [],
   "source": [
    "# Import the libraries you'll need for this analysis\n",
    "import pandas as pd\n",
    "import matplotlib.pyplot as plt"
   ]
  },
  {
   "cell_type": "code",
   "execution_count": 2,
   "id": "fe188ef3-27b2-4825-b955-232cdd326307",
   "metadata": {
    "id": "fe188ef3-27b2-4825-b955-232cdd326307",
    "trusted": false
   },
   "outputs": [],
   "source": [
    "# Load the datasets\n",
    "# Note: These files use semicolon (;) as the separator instead of comma\n",
    "orders         = pd.read_csv('/datasets/instacart_orders.csv', sep=';')\n",
    "products       = pd.read_csv('/datasets/products.csv', sep=';')\n",
    "departments    = pd.read_csv('/datasets/departments.csv', sep=';')\n",
    "aisles         = pd.read_csv('/datasets/aisles.csv', sep=';')\n",
    "order_products = pd.read_csv('/datasets/order_products.csv', sep=';')"
   ]
  },
  {
   "cell_type": "markdown",
   "id": "9a38987c-bf93-4219-b61a-d31781438c8e",
   "metadata": {
    "id": "9a38987c-bf93-4219-b61a-d31781438c8e"
   },
   "source": [
    "## Analyze your data"
   ]
  },
  {
   "cell_type": "markdown",
   "id": "04d4b1a9-a75f-4c89-a297-3a6002b0e53d",
   "metadata": {
    "id": "04d4b1a9-a75f-4c89-a297-3a6002b0e53d"
   },
   "source": [
    "In the cells below, display the datasets using `.info()` and `.head()` to gain insights into their structure and content.\n",
    "\n",
    "- `.info()`: Provides a concise summary of the dataset, including the data types, non-null counts, and memory usage.\n",
    "- `.head()`: Displays the first few rows of the dataset, offering a quick overview of the data values."
   ]
  },
  {
   "cell_type": "code",
   "execution_count": 3,
   "id": "10cc6096-d5ba-40b9-ba42-967e2fb7dec1",
   "metadata": {
    "id": "10cc6096-d5ba-40b9-ba42-967e2fb7dec1",
    "trusted": false
   },
   "outputs": [
    {
     "name": "stdout",
     "output_type": "stream",
     "text": [
      "<class 'pandas.core.frame.DataFrame'>\n",
      "RangeIndex: 478967 entries, 0 to 478966\n",
      "Data columns (total 6 columns):\n",
      " #   Column                  Non-Null Count   Dtype  \n",
      "---  ------                  --------------   -----  \n",
      " 0   order_id                478967 non-null  int64  \n",
      " 1   user_id                 478967 non-null  int64  \n",
      " 2   order_number            478967 non-null  int64  \n",
      " 3   order_dow               478967 non-null  int64  \n",
      " 4   order_hour_of_day       478967 non-null  int64  \n",
      " 5   days_since_prior_order  450148 non-null  float64\n",
      "dtypes: float64(1), int64(5)\n",
      "memory usage: 21.9 MB\n"
     ]
    },
    {
     "data": {
      "text/html": [
       "<div>\n",
       "<style scoped>\n",
       "    .dataframe tbody tr th:only-of-type {\n",
       "        vertical-align: middle;\n",
       "    }\n",
       "\n",
       "    .dataframe tbody tr th {\n",
       "        vertical-align: top;\n",
       "    }\n",
       "\n",
       "    .dataframe thead th {\n",
       "        text-align: right;\n",
       "    }\n",
       "</style>\n",
       "<table border=\"1\" class=\"dataframe\">\n",
       "  <thead>\n",
       "    <tr style=\"text-align: right;\">\n",
       "      <th></th>\n",
       "      <th>order_id</th>\n",
       "      <th>user_id</th>\n",
       "      <th>order_number</th>\n",
       "      <th>order_dow</th>\n",
       "      <th>order_hour_of_day</th>\n",
       "      <th>days_since_prior_order</th>\n",
       "    </tr>\n",
       "  </thead>\n",
       "  <tbody>\n",
       "    <tr>\n",
       "      <th>0</th>\n",
       "      <td>1515936</td>\n",
       "      <td>183418</td>\n",
       "      <td>11</td>\n",
       "      <td>6</td>\n",
       "      <td>13</td>\n",
       "      <td>30.0</td>\n",
       "    </tr>\n",
       "    <tr>\n",
       "      <th>1</th>\n",
       "      <td>1690866</td>\n",
       "      <td>163593</td>\n",
       "      <td>5</td>\n",
       "      <td>5</td>\n",
       "      <td>12</td>\n",
       "      <td>9.0</td>\n",
       "    </tr>\n",
       "    <tr>\n",
       "      <th>2</th>\n",
       "      <td>1454967</td>\n",
       "      <td>39980</td>\n",
       "      <td>4</td>\n",
       "      <td>5</td>\n",
       "      <td>19</td>\n",
       "      <td>2.0</td>\n",
       "    </tr>\n",
       "    <tr>\n",
       "      <th>3</th>\n",
       "      <td>1768857</td>\n",
       "      <td>82516</td>\n",
       "      <td>56</td>\n",
       "      <td>0</td>\n",
       "      <td>20</td>\n",
       "      <td>10.0</td>\n",
       "    </tr>\n",
       "    <tr>\n",
       "      <th>4</th>\n",
       "      <td>3007858</td>\n",
       "      <td>196724</td>\n",
       "      <td>2</td>\n",
       "      <td>4</td>\n",
       "      <td>12</td>\n",
       "      <td>17.0</td>\n",
       "    </tr>\n",
       "    <tr>\n",
       "      <th>5</th>\n",
       "      <td>1843871</td>\n",
       "      <td>20084</td>\n",
       "      <td>5</td>\n",
       "      <td>0</td>\n",
       "      <td>11</td>\n",
       "      <td>15.0</td>\n",
       "    </tr>\n",
       "    <tr>\n",
       "      <th>6</th>\n",
       "      <td>2511640</td>\n",
       "      <td>148233</td>\n",
       "      <td>40</td>\n",
       "      <td>3</td>\n",
       "      <td>8</td>\n",
       "      <td>2.0</td>\n",
       "    </tr>\n",
       "    <tr>\n",
       "      <th>7</th>\n",
       "      <td>2521283</td>\n",
       "      <td>97711</td>\n",
       "      <td>2</td>\n",
       "      <td>0</td>\n",
       "      <td>18</td>\n",
       "      <td>22.0</td>\n",
       "    </tr>\n",
       "    <tr>\n",
       "      <th>8</th>\n",
       "      <td>2266494</td>\n",
       "      <td>34954</td>\n",
       "      <td>40</td>\n",
       "      <td>5</td>\n",
       "      <td>15</td>\n",
       "      <td>4.0</td>\n",
       "    </tr>\n",
       "    <tr>\n",
       "      <th>9</th>\n",
       "      <td>446014</td>\n",
       "      <td>15356</td>\n",
       "      <td>2</td>\n",
       "      <td>4</td>\n",
       "      <td>8</td>\n",
       "      <td>10.0</td>\n",
       "    </tr>\n",
       "  </tbody>\n",
       "</table>\n",
       "</div>"
      ],
      "text/plain": [
       "   order_id  user_id  order_number  order_dow  order_hour_of_day  \\\n",
       "0   1515936   183418            11          6                 13   \n",
       "1   1690866   163593             5          5                 12   \n",
       "2   1454967    39980             4          5                 19   \n",
       "3   1768857    82516            56          0                 20   \n",
       "4   3007858   196724             2          4                 12   \n",
       "5   1843871    20084             5          0                 11   \n",
       "6   2511640   148233            40          3                  8   \n",
       "7   2521283    97711             2          0                 18   \n",
       "8   2266494    34954            40          5                 15   \n",
       "9    446014    15356             2          4                  8   \n",
       "\n",
       "   days_since_prior_order  \n",
       "0                    30.0  \n",
       "1                     9.0  \n",
       "2                     2.0  \n",
       "3                    10.0  \n",
       "4                    17.0  \n",
       "5                    15.0  \n",
       "6                     2.0  \n",
       "7                    22.0  \n",
       "8                     4.0  \n",
       "9                    10.0  "
      ]
     },
     "execution_count": 3,
     "metadata": {},
     "output_type": "execute_result"
    }
   ],
   "source": [
    "# In this cell, type \"orders\" below this line and execute the cell\n",
    "\n",
    "orders.info() #display dtypes, Nans/non-null, and content\n",
    "\n",
    "orders.head(10) #display formatting"
   ]
  },
  {
   "cell_type": "markdown",
   "id": "fe841576",
   "metadata": {},
   "source": [
    "Orders summary:\n",
    "\n",
    "* 478,967 rows × 6 columns.\n",
    "\n",
    "Content:\n",
    "* Tracks each user's orders — when and how they placed them.\n",
    "* Columns include: order ID, user ID, day of week (DOW), hour of day, and how many days since their previous order.\n",
    "\n",
    "Data Types:\n",
    "* Mostly int64, except for days_since_prior_order which is a float64 because it contains missing values.\n",
    "\n",
    "Missing Data:\n",
    "* days_since_prior_order has missing values (about 28,819 missing).\n",
    "* first-time orders likely don't have a \"prior\" order to calculate from.\n",
    "\n",
    "Insight:\n",
    "* Order patterns can be studied across different days and times\n",
    "* Users have multiple orders"
   ]
  },
  {
   "cell_type": "code",
   "execution_count": 4,
   "id": "5130e05e",
   "metadata": {
    "id": "5130e05e",
    "trusted": false
   },
   "outputs": [
    {
     "name": "stdout",
     "output_type": "stream",
     "text": [
      "<class 'pandas.core.frame.DataFrame'>\n",
      "RangeIndex: 49694 entries, 0 to 49693\n",
      "Data columns (total 4 columns):\n",
      " #   Column         Non-Null Count  Dtype \n",
      "---  ------         --------------  ----- \n",
      " 0   product_id     49694 non-null  int64 \n",
      " 1   product_name   48436 non-null  object\n",
      " 2   aisle_id       49694 non-null  int64 \n",
      " 3   department_id  49694 non-null  int64 \n",
      "dtypes: int64(3), object(1)\n",
      "memory usage: 1.5+ MB\n"
     ]
    },
    {
     "data": {
      "text/html": [
       "<div>\n",
       "<style scoped>\n",
       "    .dataframe tbody tr th:only-of-type {\n",
       "        vertical-align: middle;\n",
       "    }\n",
       "\n",
       "    .dataframe tbody tr th {\n",
       "        vertical-align: top;\n",
       "    }\n",
       "\n",
       "    .dataframe thead th {\n",
       "        text-align: right;\n",
       "    }\n",
       "</style>\n",
       "<table border=\"1\" class=\"dataframe\">\n",
       "  <thead>\n",
       "    <tr style=\"text-align: right;\">\n",
       "      <th></th>\n",
       "      <th>product_id</th>\n",
       "      <th>product_name</th>\n",
       "      <th>aisle_id</th>\n",
       "      <th>department_id</th>\n",
       "    </tr>\n",
       "  </thead>\n",
       "  <tbody>\n",
       "    <tr>\n",
       "      <th>0</th>\n",
       "      <td>1</td>\n",
       "      <td>Chocolate Sandwich Cookies</td>\n",
       "      <td>61</td>\n",
       "      <td>19</td>\n",
       "    </tr>\n",
       "    <tr>\n",
       "      <th>1</th>\n",
       "      <td>2</td>\n",
       "      <td>All-Seasons Salt</td>\n",
       "      <td>104</td>\n",
       "      <td>13</td>\n",
       "    </tr>\n",
       "    <tr>\n",
       "      <th>2</th>\n",
       "      <td>3</td>\n",
       "      <td>Robust Golden Unsweetened Oolong Tea</td>\n",
       "      <td>94</td>\n",
       "      <td>7</td>\n",
       "    </tr>\n",
       "    <tr>\n",
       "      <th>3</th>\n",
       "      <td>4</td>\n",
       "      <td>Smart Ones Classic Favorites Mini Rigatoni Wit...</td>\n",
       "      <td>38</td>\n",
       "      <td>1</td>\n",
       "    </tr>\n",
       "    <tr>\n",
       "      <th>4</th>\n",
       "      <td>5</td>\n",
       "      <td>Green Chile Anytime Sauce</td>\n",
       "      <td>5</td>\n",
       "      <td>13</td>\n",
       "    </tr>\n",
       "    <tr>\n",
       "      <th>5</th>\n",
       "      <td>6</td>\n",
       "      <td>Dry Nose Oil</td>\n",
       "      <td>11</td>\n",
       "      <td>11</td>\n",
       "    </tr>\n",
       "    <tr>\n",
       "      <th>6</th>\n",
       "      <td>7</td>\n",
       "      <td>Pure Coconut Water With Orange</td>\n",
       "      <td>98</td>\n",
       "      <td>7</td>\n",
       "    </tr>\n",
       "    <tr>\n",
       "      <th>7</th>\n",
       "      <td>8</td>\n",
       "      <td>Cut Russet Potatoes Steam N' Mash</td>\n",
       "      <td>116</td>\n",
       "      <td>1</td>\n",
       "    </tr>\n",
       "    <tr>\n",
       "      <th>8</th>\n",
       "      <td>9</td>\n",
       "      <td>Light Strawberry Blueberry Yogurt</td>\n",
       "      <td>120</td>\n",
       "      <td>16</td>\n",
       "    </tr>\n",
       "    <tr>\n",
       "      <th>9</th>\n",
       "      <td>10</td>\n",
       "      <td>Sparkling Orange Juice &amp; Prickly Pear Beverage</td>\n",
       "      <td>115</td>\n",
       "      <td>7</td>\n",
       "    </tr>\n",
       "  </tbody>\n",
       "</table>\n",
       "</div>"
      ],
      "text/plain": [
       "   product_id                                       product_name  aisle_id  \\\n",
       "0           1                         Chocolate Sandwich Cookies        61   \n",
       "1           2                                   All-Seasons Salt       104   \n",
       "2           3               Robust Golden Unsweetened Oolong Tea        94   \n",
       "3           4  Smart Ones Classic Favorites Mini Rigatoni Wit...        38   \n",
       "4           5                          Green Chile Anytime Sauce         5   \n",
       "5           6                                       Dry Nose Oil        11   \n",
       "6           7                     Pure Coconut Water With Orange        98   \n",
       "7           8                  Cut Russet Potatoes Steam N' Mash       116   \n",
       "8           9                  Light Strawberry Blueberry Yogurt       120   \n",
       "9          10     Sparkling Orange Juice & Prickly Pear Beverage       115   \n",
       "\n",
       "   department_id  \n",
       "0             19  \n",
       "1             13  \n",
       "2              7  \n",
       "3              1  \n",
       "4             13  \n",
       "5             11  \n",
       "6              7  \n",
       "7              1  \n",
       "8             16  \n",
       "9              7  "
      ]
     },
     "execution_count": 4,
     "metadata": {},
     "output_type": "execute_result"
    }
   ],
   "source": [
    "# In this cell, type \"products\" below this line and execute the cell\n",
    "products.info(show_counts=True) #display dtypes, Nans/non-null, and content\n",
    "\n",
    "\n",
    "products.head(10) #display formatting"
   ]
  },
  {
   "cell_type": "markdown",
   "id": "0c799a92",
   "metadata": {},
   "source": [
    "Products Summary:\n",
    "\n",
    "* 49,694 rows × 4 columns.\n",
    "\n",
    "Content:\n",
    "* Lists all the products being sold.\n",
    "* Includes product ID, product name, aisle ID and department ID.\n",
    "\n",
    "Data Types:\n",
    "* int64 for IDs \n",
    "* object for product names\n",
    "\n",
    "Missing Data:\n",
    "* product_name is missing for some products (1,258 missing entries)\n",
    "\n",
    "Insights:\n",
    "* Product names vary in length and type (some provide brand name, some don't. Use of special characters like \"-\" and \"'\").\n",
    "* Each product uniquely identifies a grocery aisle and grocery department"
   ]
  },
  {
   "cell_type": "markdown",
   "id": "5143e30d-f791-4596-b1f2-3c64cf8d2243",
   "metadata": {
    "id": "5143e30d-f791-4596-b1f2-3c64cf8d2243"
   },
   "source": [
    "Repeat this process for each dataset to understand the structure, including the types of columns and rows they contain. Add additional code cells as needed for your analysis."
   ]
  },
  {
   "cell_type": "code",
   "execution_count": 5,
   "id": "e1efbd5b",
   "metadata": {
    "trusted": false
   },
   "outputs": [
    {
     "name": "stdout",
     "output_type": "stream",
     "text": [
      "<class 'pandas.core.frame.DataFrame'>\n",
      "RangeIndex: 134 entries, 0 to 133\n",
      "Data columns (total 2 columns):\n",
      " #   Column    Non-Null Count  Dtype \n",
      "---  ------    --------------  ----- \n",
      " 0   aisle_id  134 non-null    int64 \n",
      " 1   aisle     134 non-null    object\n",
      "dtypes: int64(1), object(1)\n",
      "memory usage: 2.2+ KB\n"
     ]
    },
    {
     "data": {
      "text/html": [
       "<div>\n",
       "<style scoped>\n",
       "    .dataframe tbody tr th:only-of-type {\n",
       "        vertical-align: middle;\n",
       "    }\n",
       "\n",
       "    .dataframe tbody tr th {\n",
       "        vertical-align: top;\n",
       "    }\n",
       "\n",
       "    .dataframe thead th {\n",
       "        text-align: right;\n",
       "    }\n",
       "</style>\n",
       "<table border=\"1\" class=\"dataframe\">\n",
       "  <thead>\n",
       "    <tr style=\"text-align: right;\">\n",
       "      <th></th>\n",
       "      <th>aisle_id</th>\n",
       "      <th>aisle</th>\n",
       "    </tr>\n",
       "  </thead>\n",
       "  <tbody>\n",
       "    <tr>\n",
       "      <th>0</th>\n",
       "      <td>1</td>\n",
       "      <td>prepared soups salads</td>\n",
       "    </tr>\n",
       "    <tr>\n",
       "      <th>1</th>\n",
       "      <td>2</td>\n",
       "      <td>specialty cheeses</td>\n",
       "    </tr>\n",
       "    <tr>\n",
       "      <th>2</th>\n",
       "      <td>3</td>\n",
       "      <td>energy granola bars</td>\n",
       "    </tr>\n",
       "    <tr>\n",
       "      <th>3</th>\n",
       "      <td>4</td>\n",
       "      <td>instant foods</td>\n",
       "    </tr>\n",
       "    <tr>\n",
       "      <th>4</th>\n",
       "      <td>5</td>\n",
       "      <td>marinades meat preparation</td>\n",
       "    </tr>\n",
       "  </tbody>\n",
       "</table>\n",
       "</div>"
      ],
      "text/plain": [
       "   aisle_id                       aisle\n",
       "0         1       prepared soups salads\n",
       "1         2           specialty cheeses\n",
       "2         3         energy granola bars\n",
       "3         4               instant foods\n",
       "4         5  marinades meat preparation"
      ]
     },
     "execution_count": 5,
     "metadata": {},
     "output_type": "execute_result"
    }
   ],
   "source": [
    "aisles.info() #display dtypes, Nans/non-null, and content\n",
    "\n",
    "aisles.head() #display formatting"
   ]
  },
  {
   "cell_type": "markdown",
   "id": "dffb9c94",
   "metadata": {},
   "source": [
    "Aisles Summary:\n",
    "* 134 rows × 2 columns.\n",
    "\n",
    "Content:\n",
    "* Small table that links each aisle_id to its aisle name.\n",
    "\n",
    "Data Types:\n",
    "* int64 for ID \n",
    "* object for name\n",
    "\n",
    "Missing Data:\n",
    "* No missing data — all aisles and IDs are present\n",
    "\n",
    "Insights:\n",
    "* Aisles have diverse names — prepared foods, cheeses, granola bars, etc.\n",
    "* Useful for grouping products into broader shopping categories like dairy or snack_foods"
   ]
  },
  {
   "cell_type": "code",
   "execution_count": 6,
   "id": "78f7f7e2",
   "metadata": {
    "trusted": false
   },
   "outputs": [
    {
     "name": "stdout",
     "output_type": "stream",
     "text": [
      "<class 'pandas.core.frame.DataFrame'>\n",
      "RangeIndex: 21 entries, 0 to 20\n",
      "Data columns (total 2 columns):\n",
      " #   Column         Non-Null Count  Dtype \n",
      "---  ------         --------------  ----- \n",
      " 0   department_id  21 non-null     int64 \n",
      " 1   department     21 non-null     object\n",
      "dtypes: int64(1), object(1)\n",
      "memory usage: 464.0+ bytes\n"
     ]
    },
    {
     "data": {
      "text/html": [
       "<div>\n",
       "<style scoped>\n",
       "    .dataframe tbody tr th:only-of-type {\n",
       "        vertical-align: middle;\n",
       "    }\n",
       "\n",
       "    .dataframe tbody tr th {\n",
       "        vertical-align: top;\n",
       "    }\n",
       "\n",
       "    .dataframe thead th {\n",
       "        text-align: right;\n",
       "    }\n",
       "</style>\n",
       "<table border=\"1\" class=\"dataframe\">\n",
       "  <thead>\n",
       "    <tr style=\"text-align: right;\">\n",
       "      <th></th>\n",
       "      <th>department_id</th>\n",
       "      <th>department</th>\n",
       "    </tr>\n",
       "  </thead>\n",
       "  <tbody>\n",
       "    <tr>\n",
       "      <th>0</th>\n",
       "      <td>1</td>\n",
       "      <td>frozen</td>\n",
       "    </tr>\n",
       "    <tr>\n",
       "      <th>1</th>\n",
       "      <td>2</td>\n",
       "      <td>other</td>\n",
       "    </tr>\n",
       "    <tr>\n",
       "      <th>2</th>\n",
       "      <td>3</td>\n",
       "      <td>bakery</td>\n",
       "    </tr>\n",
       "    <tr>\n",
       "      <th>3</th>\n",
       "      <td>4</td>\n",
       "      <td>produce</td>\n",
       "    </tr>\n",
       "    <tr>\n",
       "      <th>4</th>\n",
       "      <td>5</td>\n",
       "      <td>alcohol</td>\n",
       "    </tr>\n",
       "  </tbody>\n",
       "</table>\n",
       "</div>"
      ],
      "text/plain": [
       "   department_id department\n",
       "0              1     frozen\n",
       "1              2      other\n",
       "2              3     bakery\n",
       "3              4    produce\n",
       "4              5    alcohol"
      ]
     },
     "execution_count": 6,
     "metadata": {},
     "output_type": "execute_result"
    }
   ],
   "source": [
    "departments.info() #display dtypes, Nans/non-null, and content\n",
    "\n",
    "departments.head() #display formatting"
   ]
  },
  {
   "cell_type": "markdown",
   "id": "8509f22a",
   "metadata": {},
   "source": [
    "Depts Summary:\n",
    "* 21 rows × 2 columns.\n",
    "\n",
    "Content:\n",
    "* Small lookup table: maps each department_id to a department name.\n",
    "\n",
    "Data Types:\n",
    "* int64 for ID\n",
    "* object for department name\n",
    "\n",
    "Missing Data:\n",
    "* None — all department IDs and names are complete.\n",
    "\n",
    "Insights:\n",
    "* Departments are more general categories that aisles (frozen, bakery, produce, etc.)."
   ]
  },
  {
   "cell_type": "code",
   "execution_count": 7,
   "id": "b741635f",
   "metadata": {
    "trusted": false
   },
   "outputs": [
    {
     "name": "stdout",
     "output_type": "stream",
     "text": [
      "<class 'pandas.core.frame.DataFrame'>\n",
      "RangeIndex: 4545007 entries, 0 to 4545006\n",
      "Data columns (total 4 columns):\n",
      " #   Column             Dtype  \n",
      "---  ------             -----  \n",
      " 0   order_id           int64  \n",
      " 1   product_id         int64  \n",
      " 2   add_to_cart_order  float64\n",
      " 3   reordered          int64  \n",
      "dtypes: float64(1), int64(3)\n",
      "memory usage: 138.7 MB\n"
     ]
    },
    {
     "data": {
      "text/html": [
       "<div>\n",
       "<style scoped>\n",
       "    .dataframe tbody tr th:only-of-type {\n",
       "        vertical-align: middle;\n",
       "    }\n",
       "\n",
       "    .dataframe tbody tr th {\n",
       "        vertical-align: top;\n",
       "    }\n",
       "\n",
       "    .dataframe thead th {\n",
       "        text-align: right;\n",
       "    }\n",
       "</style>\n",
       "<table border=\"1\" class=\"dataframe\">\n",
       "  <thead>\n",
       "    <tr style=\"text-align: right;\">\n",
       "      <th></th>\n",
       "      <th>order_id</th>\n",
       "      <th>product_id</th>\n",
       "      <th>add_to_cart_order</th>\n",
       "      <th>reordered</th>\n",
       "    </tr>\n",
       "  </thead>\n",
       "  <tbody>\n",
       "    <tr>\n",
       "      <th>0</th>\n",
       "      <td>2141543</td>\n",
       "      <td>11440</td>\n",
       "      <td>17.0</td>\n",
       "      <td>0</td>\n",
       "    </tr>\n",
       "    <tr>\n",
       "      <th>1</th>\n",
       "      <td>567889</td>\n",
       "      <td>1560</td>\n",
       "      <td>1.0</td>\n",
       "      <td>1</td>\n",
       "    </tr>\n",
       "    <tr>\n",
       "      <th>2</th>\n",
       "      <td>2261212</td>\n",
       "      <td>26683</td>\n",
       "      <td>1.0</td>\n",
       "      <td>1</td>\n",
       "    </tr>\n",
       "    <tr>\n",
       "      <th>3</th>\n",
       "      <td>491251</td>\n",
       "      <td>8670</td>\n",
       "      <td>35.0</td>\n",
       "      <td>1</td>\n",
       "    </tr>\n",
       "    <tr>\n",
       "      <th>4</th>\n",
       "      <td>2571142</td>\n",
       "      <td>1940</td>\n",
       "      <td>5.0</td>\n",
       "      <td>1</td>\n",
       "    </tr>\n",
       "  </tbody>\n",
       "</table>\n",
       "</div>"
      ],
      "text/plain": [
       "   order_id  product_id  add_to_cart_order  reordered\n",
       "0   2141543       11440               17.0          0\n",
       "1    567889        1560                1.0          1\n",
       "2   2261212       26683                1.0          1\n",
       "3    491251        8670               35.0          1\n",
       "4   2571142        1940                5.0          1"
      ]
     },
     "execution_count": 7,
     "metadata": {},
     "output_type": "execute_result"
    }
   ],
   "source": [
    "order_products.info() #display dtypes, Nans/non-null, and content\n",
    "\n",
    "order_products.head() #display formatting"
   ]
  },
  {
   "cell_type": "markdown",
   "id": "a4095f69",
   "metadata": {},
   "source": [
    "Order_Products Summary:\n",
    "* 4,545,007 rows × 4 columns (very large).\n",
    "\n",
    "Content:\n",
    "\n",
    "* Connects specific products to specific orders - organized as numbers rather than names (each row = 1 item placed in a single order)\n",
    "* order_id: unique identifier for each order\n",
    "* product_id: ID num that uniquely identifies each product\n",
    "* add_to_cart_order_ Tells what products were bought, order they were added to cart, and whether they were reordered.\n",
    "\n",
    "Data Types:\n",
    "\n",
    "* int64 for most\n",
    "* add_to_cart_order is a float64 — expect to be integers, could indicate Nans\n",
    "\n",
    "Missing Data:\n",
    "\n",
    "* Seems to be no missing data, but float could indicate null values\n",
    "\n",
    "Insights:\n",
    "\n",
    "* Captures shopping behavior (e.g., first items added, reorders).\n",
    "* Good for understanding customer habits"
   ]
  },
  {
   "cell_type": "markdown",
   "id": "cb6f4bf5",
   "metadata": {},
   "source": [
    "<div class=\"alert alert-block alert-success\">✔️\n",
    "    \n",
    "\n",
    "__Reviewer's comment №1__\n",
    "\n",
    "\n",
    "Great. First look at the data is done"
   ]
  },
  {
   "cell_type": "markdown",
   "id": "1e46de76",
   "metadata": {
    "id": "1e46de76"
   },
   "source": [
    "## Find and Remove Missing Values\n",
    "\n",
    "We noticed that some columns contain missing values.\n",
    "\n",
    "Here are some useful code snippets:\n",
    "\n",
    "```python\n",
    "# Identify missing values in each column\n",
    "print(dataset.isnull().sum())\n",
    "\n",
    "# Display rows where a specific column has missing values\n",
    "print(dataset[dataset['column_name'].isna()])\n",
    "\n",
    "# Confirm no missing values remain\n",
    "print(dataset.isnull().sum())\n",
    "```"
   ]
  },
  {
   "cell_type": "markdown",
   "id": "c0aebd78",
   "metadata": {
    "id": "c0aebd78"
   },
   "source": [
    "### `products` Data Frame\n",
    "\n",
    "We will begin by addressing the missing values in the `products` data frame."
   ]
  },
  {
   "cell_type": "code",
   "execution_count": 8,
   "id": "fe4a8b0f",
   "metadata": {
    "id": "fe4a8b0f",
    "trusted": false
   },
   "outputs": [
    {
     "name": "stdout",
     "output_type": "stream",
     "text": [
      "product_id          0\n",
      "product_name     1258\n",
      "aisle_id            0\n",
      "department_id       0\n",
      "dtype: int64\n"
     ]
    }
   ],
   "source": [
    "# Display rows where the product_name column has missing values\n",
    "print(products.isnull().sum())"
   ]
  },
  {
   "cell_type": "markdown",
   "id": "b077fb59-f1f2-4390-a2bd-cdccadd5a747",
   "metadata": {
    "id": "b077fb59-f1f2-4390-a2bd-cdccadd5a747"
   },
   "source": [
    "It seems suspicious that all rows with missing `product_name` might be associated with `aisle_id` 100 and `department_id` 21. Let’s verify this by checking if any rows with missing `product_name` have an `aisle_id` different from 100 and 21. This will help us confirm if the issue is isolated to this aisle or spread across others."
   ]
  },
  {
   "cell_type": "code",
   "execution_count": 9,
   "id": "16aff2f3",
   "metadata": {
    "trusted": false
   },
   "outputs": [
    {
     "data": {
      "text/plain": [
       "21    1258\n",
       "Name: department_id, dtype: int64"
      ]
     },
     "execution_count": 9,
     "metadata": {},
     "output_type": "execute_result"
    }
   ],
   "source": [
    "products[products['product_name'].isnull()]['department_id'].value_counts()"
   ]
  },
  {
   "cell_type": "code",
   "execution_count": 10,
   "id": "e96167bc",
   "metadata": {
    "id": "e96167bc",
    "trusted": false
   },
   "outputs": [
    {
     "data": {
      "text/html": [
       "<div>\n",
       "<style scoped>\n",
       "    .dataframe tbody tr th:only-of-type {\n",
       "        vertical-align: middle;\n",
       "    }\n",
       "\n",
       "    .dataframe tbody tr th {\n",
       "        vertical-align: top;\n",
       "    }\n",
       "\n",
       "    .dataframe thead th {\n",
       "        text-align: right;\n",
       "    }\n",
       "</style>\n",
       "<table border=\"1\" class=\"dataframe\">\n",
       "  <thead>\n",
       "    <tr style=\"text-align: right;\">\n",
       "      <th></th>\n",
       "      <th>product_id</th>\n",
       "      <th>product_name</th>\n",
       "      <th>aisle_id</th>\n",
       "      <th>department_id</th>\n",
       "    </tr>\n",
       "  </thead>\n",
       "  <tbody>\n",
       "  </tbody>\n",
       "</table>\n",
       "</div>"
      ],
      "text/plain": [
       "Empty DataFrame\n",
       "Columns: [product_id, product_name, aisle_id, department_id]\n",
       "Index: []"
      ]
     },
     "execution_count": 10,
     "metadata": {},
     "output_type": "execute_result"
    }
   ],
   "source": [
    "# Combine conditions to check for missing product names in aisles other than 100\n",
    "missing_pns = products[(products['product_name'].isna()) & (products['aisle_id']!=100)]\n",
    "missing_pns #print rows with missing product_name and aisle_id is not 100"
   ]
  },
  {
   "cell_type": "code",
   "execution_count": 11,
   "id": "8fd0a541",
   "metadata": {
    "id": "8fd0a541",
    "trusted": false
   },
   "outputs": [
    {
     "data": {
      "text/html": [
       "<div>\n",
       "<style scoped>\n",
       "    .dataframe tbody tr th:only-of-type {\n",
       "        vertical-align: middle;\n",
       "    }\n",
       "\n",
       "    .dataframe tbody tr th {\n",
       "        vertical-align: top;\n",
       "    }\n",
       "\n",
       "    .dataframe thead th {\n",
       "        text-align: right;\n",
       "    }\n",
       "</style>\n",
       "<table border=\"1\" class=\"dataframe\">\n",
       "  <thead>\n",
       "    <tr style=\"text-align: right;\">\n",
       "      <th></th>\n",
       "      <th>product_id</th>\n",
       "      <th>product_name</th>\n",
       "      <th>aisle_id</th>\n",
       "      <th>department_id</th>\n",
       "    </tr>\n",
       "  </thead>\n",
       "  <tbody>\n",
       "  </tbody>\n",
       "</table>\n",
       "</div>"
      ],
      "text/plain": [
       "Empty DataFrame\n",
       "Columns: [product_id, product_name, aisle_id, department_id]\n",
       "Index: []"
      ]
     },
     "execution_count": 11,
     "metadata": {},
     "output_type": "execute_result"
    }
   ],
   "source": [
    "# Combine conditions to check for missing product names in departments other than 21\n",
    "products[(products['product_name'].isna())&(products['department_id']!=21)]"
   ]
  },
  {
   "cell_type": "markdown",
   "id": "2c74c53f-a139-4d83-9be9-628fca74ce7c",
   "metadata": {
    "id": "2c74c53f-a139-4d83-9be9-628fca74ce7c"
   },
   "source": [
    "To better understand the missing product_name values, let’s determine what department_id 21 and aisle_id 100 represent by referencing the departments and aisles tables."
   ]
  },
  {
   "cell_type": "code",
   "execution_count": 12,
   "id": "325c3464",
   "metadata": {
    "id": "325c3464",
    "trusted": false
   },
   "outputs": [
    {
     "name": "stdout",
     "output_type": "stream",
     "text": [
      "99    missing\n",
      "Name: aisle, dtype: object\n",
      "20    missing\n",
      "Name: department, dtype: object\n"
     ]
    }
   ],
   "source": [
    "# What is this aisle and department?\n",
    "print(aisles[aisles['aisle_id']==100]['aisle'])\n",
    "print(departments[departments['department_id']==21]['department'])"
   ]
  },
  {
   "cell_type": "code",
   "execution_count": 13,
   "id": "6b295120",
   "metadata": {
    "id": "6b295120",
    "trusted": false
   },
   "outputs": [],
   "source": [
    "# Fill missing product names with 'Unknown'\n",
    "products['product_name'] = products['product_name'].fillna(\"Unknown\")"
   ]
  },
  {
   "cell_type": "markdown",
   "id": "5a0f9c4b",
   "metadata": {},
   "source": [
    "<div class=\"alert alert-block alert-success\">✔️\n",
    "    \n",
    "\n",
    "__Reviewer's comment №1__\n",
    "\n",
    "You chose the most correct way to replace the omissions in the categorical column. Well done!)"
   ]
  },
  {
   "cell_type": "markdown",
   "id": "7eb45c86",
   "metadata": {
    "id": "7eb45c86"
   },
   "source": [
    "### `orders` data frame\n",
    "\n",
    "Now let's fill in missing values from the `orders` table."
   ]
  },
  {
   "cell_type": "code",
   "execution_count": 14,
   "id": "93e41d96",
   "metadata": {
    "id": "93e41d96",
    "trusted": false
   },
   "outputs": [
    {
     "data": {
      "text/html": [
       "<div>\n",
       "<style scoped>\n",
       "    .dataframe tbody tr th:only-of-type {\n",
       "        vertical-align: middle;\n",
       "    }\n",
       "\n",
       "    .dataframe tbody tr th {\n",
       "        vertical-align: top;\n",
       "    }\n",
       "\n",
       "    .dataframe thead th {\n",
       "        text-align: right;\n",
       "    }\n",
       "</style>\n",
       "<table border=\"1\" class=\"dataframe\">\n",
       "  <thead>\n",
       "    <tr style=\"text-align: right;\">\n",
       "      <th></th>\n",
       "      <th>order_id</th>\n",
       "      <th>user_id</th>\n",
       "      <th>order_number</th>\n",
       "      <th>order_dow</th>\n",
       "      <th>order_hour_of_day</th>\n",
       "      <th>days_since_prior_order</th>\n",
       "    </tr>\n",
       "  </thead>\n",
       "  <tbody>\n",
       "    <tr>\n",
       "      <th>28</th>\n",
       "      <td>133707</td>\n",
       "      <td>182261</td>\n",
       "      <td>1</td>\n",
       "      <td>3</td>\n",
       "      <td>10</td>\n",
       "      <td>NaN</td>\n",
       "    </tr>\n",
       "    <tr>\n",
       "      <th>96</th>\n",
       "      <td>787445</td>\n",
       "      <td>25685</td>\n",
       "      <td>1</td>\n",
       "      <td>6</td>\n",
       "      <td>18</td>\n",
       "      <td>NaN</td>\n",
       "    </tr>\n",
       "    <tr>\n",
       "      <th>100</th>\n",
       "      <td>294410</td>\n",
       "      <td>111449</td>\n",
       "      <td>1</td>\n",
       "      <td>0</td>\n",
       "      <td>19</td>\n",
       "      <td>NaN</td>\n",
       "    </tr>\n",
       "    <tr>\n",
       "      <th>103</th>\n",
       "      <td>2869915</td>\n",
       "      <td>123958</td>\n",
       "      <td>1</td>\n",
       "      <td>4</td>\n",
       "      <td>16</td>\n",
       "      <td>NaN</td>\n",
       "    </tr>\n",
       "    <tr>\n",
       "      <th>104</th>\n",
       "      <td>2521921</td>\n",
       "      <td>42286</td>\n",
       "      <td>1</td>\n",
       "      <td>3</td>\n",
       "      <td>18</td>\n",
       "      <td>NaN</td>\n",
       "    </tr>\n",
       "    <tr>\n",
       "      <th>...</th>\n",
       "      <td>...</td>\n",
       "      <td>...</td>\n",
       "      <td>...</td>\n",
       "      <td>...</td>\n",
       "      <td>...</td>\n",
       "      <td>...</td>\n",
       "    </tr>\n",
       "    <tr>\n",
       "      <th>478895</th>\n",
       "      <td>2589657</td>\n",
       "      <td>205028</td>\n",
       "      <td>1</td>\n",
       "      <td>0</td>\n",
       "      <td>16</td>\n",
       "      <td>NaN</td>\n",
       "    </tr>\n",
       "    <tr>\n",
       "      <th>478896</th>\n",
       "      <td>2222353</td>\n",
       "      <td>141211</td>\n",
       "      <td>1</td>\n",
       "      <td>2</td>\n",
       "      <td>13</td>\n",
       "      <td>NaN</td>\n",
       "    </tr>\n",
       "    <tr>\n",
       "      <th>478922</th>\n",
       "      <td>2272807</td>\n",
       "      <td>204154</td>\n",
       "      <td>1</td>\n",
       "      <td>1</td>\n",
       "      <td>15</td>\n",
       "      <td>NaN</td>\n",
       "    </tr>\n",
       "    <tr>\n",
       "      <th>478926</th>\n",
       "      <td>2499542</td>\n",
       "      <td>68810</td>\n",
       "      <td>1</td>\n",
       "      <td>4</td>\n",
       "      <td>19</td>\n",
       "      <td>NaN</td>\n",
       "    </tr>\n",
       "    <tr>\n",
       "      <th>478945</th>\n",
       "      <td>1387033</td>\n",
       "      <td>22496</td>\n",
       "      <td>1</td>\n",
       "      <td>5</td>\n",
       "      <td>14</td>\n",
       "      <td>NaN</td>\n",
       "    </tr>\n",
       "  </tbody>\n",
       "</table>\n",
       "<p>28819 rows × 6 columns</p>\n",
       "</div>"
      ],
      "text/plain": [
       "        order_id  user_id  order_number  order_dow  order_hour_of_day  \\\n",
       "28        133707   182261             1          3                 10   \n",
       "96        787445    25685             1          6                 18   \n",
       "100       294410   111449             1          0                 19   \n",
       "103      2869915   123958             1          4                 16   \n",
       "104      2521921    42286             1          3                 18   \n",
       "...          ...      ...           ...        ...                ...   \n",
       "478895   2589657   205028             1          0                 16   \n",
       "478896   2222353   141211             1          2                 13   \n",
       "478922   2272807   204154             1          1                 15   \n",
       "478926   2499542    68810             1          4                 19   \n",
       "478945   1387033    22496             1          5                 14   \n",
       "\n",
       "        days_since_prior_order  \n",
       "28                         NaN  \n",
       "96                         NaN  \n",
       "100                        NaN  \n",
       "103                        NaN  \n",
       "104                        NaN  \n",
       "...                        ...  \n",
       "478895                     NaN  \n",
       "478896                     NaN  \n",
       "478922                     NaN  \n",
       "478926                     NaN  \n",
       "478945                     NaN  \n",
       "\n",
       "[28819 rows x 6 columns]"
      ]
     },
     "execution_count": 14,
     "metadata": {},
     "output_type": "execute_result"
    }
   ],
   "source": [
    "# Display rows where the days_since_prior_order column has missing values\n",
    "orders[orders['days_since_prior_order'].isna()]"
   ]
  },
  {
   "cell_type": "code",
   "execution_count": 15,
   "id": "166e5a86",
   "metadata": {
    "id": "166e5a86",
    "trusted": false
   },
   "outputs": [
    {
     "data": {
      "text/html": [
       "<div>\n",
       "<style scoped>\n",
       "    .dataframe tbody tr th:only-of-type {\n",
       "        vertical-align: middle;\n",
       "    }\n",
       "\n",
       "    .dataframe tbody tr th {\n",
       "        vertical-align: top;\n",
       "    }\n",
       "\n",
       "    .dataframe thead th {\n",
       "        text-align: right;\n",
       "    }\n",
       "</style>\n",
       "<table border=\"1\" class=\"dataframe\">\n",
       "  <thead>\n",
       "    <tr style=\"text-align: right;\">\n",
       "      <th></th>\n",
       "      <th>order_id</th>\n",
       "      <th>user_id</th>\n",
       "      <th>order_number</th>\n",
       "      <th>order_dow</th>\n",
       "      <th>order_hour_of_day</th>\n",
       "      <th>days_since_prior_order</th>\n",
       "    </tr>\n",
       "  </thead>\n",
       "  <tbody>\n",
       "  </tbody>\n",
       "</table>\n",
       "</div>"
      ],
      "text/plain": [
       "Empty DataFrame\n",
       "Columns: [order_id, user_id, order_number, order_dow, order_hour_of_day, days_since_prior_order]\n",
       "Index: []"
      ]
     },
     "execution_count": 15,
     "metadata": {},
     "output_type": "execute_result"
    }
   ],
   "source": [
    "# Are there any missing values where it's not a customer's first order?\n",
    "orders[(orders['days_since_prior_order'].isna()) & (orders['order_number']>1)]"
   ]
  },
  {
   "cell_type": "markdown",
   "id": "4e23d089",
   "metadata": {
    "id": "4e23d089"
   },
   "source": [
    "All of the missing `'days_since_prior_order'` values correspond to a customer's first ever order. This makes sense because there is no prior order! We'll leave the values as `NaN` so the column can remain numeric. Also, the `NaN` values shouldn't interfere with any calculations we might do using this column."
   ]
  },
  {
   "cell_type": "markdown",
   "id": "69dc9ca4",
   "metadata": {
    "id": "69dc9ca4"
   },
   "source": [
    "### `order_products` data frame\n",
    "\n",
    "Now let's fill in missing values from the order_products table."
   ]
  },
  {
   "cell_type": "code",
   "execution_count": 16,
   "id": "b8240253",
   "metadata": {
    "id": "b8240253",
    "trusted": false
   },
   "outputs": [
    {
     "data": {
      "text/html": [
       "<div>\n",
       "<style scoped>\n",
       "    .dataframe tbody tr th:only-of-type {\n",
       "        vertical-align: middle;\n",
       "    }\n",
       "\n",
       "    .dataframe tbody tr th {\n",
       "        vertical-align: top;\n",
       "    }\n",
       "\n",
       "    .dataframe thead th {\n",
       "        text-align: right;\n",
       "    }\n",
       "</style>\n",
       "<table border=\"1\" class=\"dataframe\">\n",
       "  <thead>\n",
       "    <tr style=\"text-align: right;\">\n",
       "      <th></th>\n",
       "      <th>order_id</th>\n",
       "      <th>product_id</th>\n",
       "      <th>add_to_cart_order</th>\n",
       "      <th>reordered</th>\n",
       "    </tr>\n",
       "  </thead>\n",
       "  <tbody>\n",
       "    <tr>\n",
       "      <th>737</th>\n",
       "      <td>2449164</td>\n",
       "      <td>5068</td>\n",
       "      <td>NaN</td>\n",
       "      <td>0</td>\n",
       "    </tr>\n",
       "    <tr>\n",
       "      <th>9926</th>\n",
       "      <td>1968313</td>\n",
       "      <td>43867</td>\n",
       "      <td>NaN</td>\n",
       "      <td>0</td>\n",
       "    </tr>\n",
       "    <tr>\n",
       "      <th>14394</th>\n",
       "      <td>2926893</td>\n",
       "      <td>11688</td>\n",
       "      <td>NaN</td>\n",
       "      <td>0</td>\n",
       "    </tr>\n",
       "    <tr>\n",
       "      <th>16418</th>\n",
       "      <td>1717990</td>\n",
       "      <td>4142</td>\n",
       "      <td>NaN</td>\n",
       "      <td>0</td>\n",
       "    </tr>\n",
       "    <tr>\n",
       "      <th>30114</th>\n",
       "      <td>1959075</td>\n",
       "      <td>42828</td>\n",
       "      <td>NaN</td>\n",
       "      <td>1</td>\n",
       "    </tr>\n",
       "    <tr>\n",
       "      <th>...</th>\n",
       "      <td>...</td>\n",
       "      <td>...</td>\n",
       "      <td>...</td>\n",
       "      <td>...</td>\n",
       "    </tr>\n",
       "    <tr>\n",
       "      <th>4505662</th>\n",
       "      <td>1800005</td>\n",
       "      <td>7411</td>\n",
       "      <td>NaN</td>\n",
       "      <td>0</td>\n",
       "    </tr>\n",
       "    <tr>\n",
       "      <th>4511400</th>\n",
       "      <td>1633337</td>\n",
       "      <td>260</td>\n",
       "      <td>NaN</td>\n",
       "      <td>0</td>\n",
       "    </tr>\n",
       "    <tr>\n",
       "      <th>4517562</th>\n",
       "      <td>404157</td>\n",
       "      <td>9517</td>\n",
       "      <td>NaN</td>\n",
       "      <td>0</td>\n",
       "    </tr>\n",
       "    <tr>\n",
       "      <th>4534112</th>\n",
       "      <td>1673227</td>\n",
       "      <td>17835</td>\n",
       "      <td>NaN</td>\n",
       "      <td>0</td>\n",
       "    </tr>\n",
       "    <tr>\n",
       "      <th>4535739</th>\n",
       "      <td>1832957</td>\n",
       "      <td>17949</td>\n",
       "      <td>NaN</td>\n",
       "      <td>1</td>\n",
       "    </tr>\n",
       "  </tbody>\n",
       "</table>\n",
       "<p>836 rows × 4 columns</p>\n",
       "</div>"
      ],
      "text/plain": [
       "         order_id  product_id  add_to_cart_order  reordered\n",
       "737       2449164        5068                NaN          0\n",
       "9926      1968313       43867                NaN          0\n",
       "14394     2926893       11688                NaN          0\n",
       "16418     1717990        4142                NaN          0\n",
       "30114     1959075       42828                NaN          1\n",
       "...           ...         ...                ...        ...\n",
       "4505662   1800005        7411                NaN          0\n",
       "4511400   1633337         260                NaN          0\n",
       "4517562    404157        9517                NaN          0\n",
       "4534112   1673227       17835                NaN          0\n",
       "4535739   1832957       17949                NaN          1\n",
       "\n",
       "[836 rows x 4 columns]"
      ]
     },
     "execution_count": 16,
     "metadata": {},
     "output_type": "execute_result"
    }
   ],
   "source": [
    "# Display rows where the add_to_cart_order column has missing values\n",
    "order_products[order_products['add_to_cart_order'].isnull()]"
   ]
  },
  {
   "cell_type": "code",
   "execution_count": 17,
   "id": "9a78e5ee",
   "metadata": {
    "id": "9a78e5ee",
    "trusted": false
   },
   "outputs": [
    {
     "name": "stdout",
     "output_type": "stream",
     "text": [
      "1.0\n",
      "64.0\n"
     ]
    }
   ],
   "source": [
    "# Use .min() and .max() to find the minimum and maximum values for this column.\n",
    "\n",
    "print(order_products['add_to_cart_order'].min()) \n",
    "print(order_products['add_to_cart_order'].max())"
   ]
  },
  {
   "cell_type": "code",
   "execution_count": 18,
   "id": "ab9d0c2b",
   "metadata": {
    "id": "ab9d0c2b",
    "scrolled": true,
    "trusted": false
   },
   "outputs": [
    {
     "data": {
      "text/plain": [
       "array([2449164, 1968313, 2926893, 1717990, 1959075,  844733,   61355,\n",
       "        936852,  264710, 1564093,  129627,  293169, 2849370, 1386261,\n",
       "       3308010,  903110, 2136777, 3347453, 1888628,  165801, 2094761,\n",
       "       1038146, 2997021,  813364, 2256933,  171934, 2409109, 1730767,\n",
       "       1169835,  733526,  404157, 3125735,  747668, 1800005, 1961723,\n",
       "        871281,  388234, 1648217, 1477139,  102236, 1021563, 1832957,\n",
       "       2721963,  678116, 1220886, 1673227, 2999801, 1633337, 2470674,\n",
       "       2625444, 1677118, 2479011, 3383594, 1183255, 1713430, 2652650,\n",
       "       1598369, 1916118,  854647, 1302315,  888470,  180546, 2621907,\n",
       "       1308785, 2729254,    9310, 2170451, 2979697, 1625713, 1529171])"
      ]
     },
     "execution_count": 18,
     "metadata": {},
     "output_type": "execute_result"
    }
   ],
   "source": [
    "# Save all order IDs with at least one missing value in 'add_to_cart_order'\n",
    "missing_order_ids = order_products.loc[order_products['add_to_cart_order'].isnull(), 'order_id'].unique()\n",
    "missing_order_ids"
   ]
  },
  {
   "cell_type": "code",
   "execution_count": 19,
   "id": "54c31695",
   "metadata": {
    "id": "54c31695",
    "trusted": false
   },
   "outputs": [
    {
     "data": {
      "text/plain": [
       "True"
      ]
     },
     "execution_count": 19,
     "metadata": {},
     "output_type": "execute_result"
    }
   ],
   "source": [
    "# Do all orders with missing values have more than 64 products?\n",
    "missing_orders = order_products[order_products['order_id'].isin(missing_order_ids)]\n",
    "order_counts = missing_orders.groupby('order_id').size()\n",
    "orders_over_64 = (order_counts > 64).all()\n",
    "orders_over_64"
   ]
  },
  {
   "cell_type": "code",
   "execution_count": 20,
   "id": "7a987d08",
   "metadata": {
    "id": "7a987d08",
    "trusted": false
   },
   "outputs": [
    {
     "data": {
      "text/plain": [
       "0          17\n",
       "1           1\n",
       "2           1\n",
       "3          35\n",
       "4           5\n",
       "           ..\n",
       "4545002    12\n",
       "4545003     9\n",
       "4545004     4\n",
       "4545005     8\n",
       "4545006     9\n",
       "Name: add_to_cart_order, Length: 4545007, dtype: Int64"
      ]
     },
     "execution_count": 20,
     "metadata": {},
     "output_type": "execute_result"
    }
   ],
   "source": [
    "# Replace missing values with 999 and convert column to integer type\n",
    "#order_products['add_to_cart_order'] = order_products['add_to_cart_order'].fillna(999)\n",
    "\n",
    "# changed replacement method to ensure that later analysis won't be effected\n",
    "order_products['add_to_cart_order'] = order_products['add_to_cart_order'].astype('Int64', errors='ignore') \n",
    "order_products['add_to_cart_order']"
   ]
  },
  {
   "cell_type": "markdown",
   "id": "0b111d19",
   "metadata": {},
   "source": [
    "<div class=\"alert alert-block alert-warning\">📝\n",
    "    \n",
    "\n",
    "__Reviewer's comment №1__\n",
    "\n",
    "\n",
    "Replacing it with 999/-1 etc is not really good. Tip for the future, look, it's not good to try to fill in the blanks left and right. In real work - replace with zero now, then forget and average count a month later. Plus there may be times when a bonus purchase or gift, will cost zero. In general, if it is possible to leave skips as skips - and here it can be done, it is better to do so, the results, even if we want to calculate something - it will not affect the results\n",
    "\n",
    "It is better to use this code construction:\n",
    "    \n",
    "    data[''] = data[''].astype('Int64', errors='ignore')\n",
    "</div>"
   ]
  },
  {
   "cell_type": "markdown",
   "id": "b2410c46",
   "metadata": {},
   "source": [
    "<div class=\"alert alert-info\"> <b>Student сomments:\n",
    "\n",
    "I'm glad you mentioned this, as I was wondering the same thing. I was worried that if I changed it to 0, it would look like I didn't follow the course directions. I've updated above"
   ]
  },
  {
   "cell_type": "markdown",
   "id": "dc9d38c4",
   "metadata": {},
   "source": [
    "<div class=\"alert alert-block alert-success\">✔️\n",
    "    \n",
    "\n",
    "__Reviewer's comment №2__\n",
    "\n",
    "Great!"
   ]
  },
  {
   "cell_type": "markdown",
   "id": "fea4bcc7",
   "metadata": {
    "id": "fea4bcc7"
   },
   "source": [
    "For some reason, any item placed in the cart 65th or later has a missing value in the `'add_to_cart_order'` column. Maybe the data type of that column in the database could only hold integer values from 1 to 64. We've decided to replace the missing values with a code value, 999, that represents an unknown placed in cart order above 64. We also converted the column to integer data type. We just need to be careful to remember this if we perform calculations using this column during our analysis.\n",
    "\n",
    "Other sensible code values we could've used are 0 or -1 because they don't show up elsewhere in the dataset and they don't have any real physical meaning for this variable.\n",
    "\n",
    "Also note that, for orders with exactly 65 items, we could replace the missing value with 65. But we're going to neglect that for now since we can't determine the 65th item for all orders with 66 items or more."
   ]
  },
  {
   "cell_type": "markdown",
   "id": "07357848-dc64-4156-9cc3-01ff4365226d",
   "metadata": {
    "id": "07357848-dc64-4156-9cc3-01ff4365226d"
   },
   "source": [
    "## Find and Remove Duplicate Values from All the Datasets\n",
    "\n",
    "Each dataset may contain duplicate rows, which can lead to redundancy and affect the accuracy of our analysis. To handle this:\n",
    "\n",
    "1. Use the `.duplicated()` method to identify duplicate rows. This method returns a Boolean series where `True` indicates a duplicate row.\n",
    "2. Apply the `.drop_duplicates()` method to remove these duplicate rows, ensuring a cleaner dataset.\n",
    "3. Optionally, you can set the `keep` parameter in `.drop_duplicates()` to specify which duplicate to retain (`'first'` or `'last'`).\n",
    "\n",
    "Here is some example code for reference:\n",
    "```python\n",
    "# Check for duplicates\n",
    "print(dataset.duplicated().sum())  # Number of duplicate rows\n",
    "\n",
    "# View duplicate rows\n",
    "print(dataset[dataset.duplicated()]\n",
    "\n",
    "# Remove duplicates\n",
    "dataset = dataset.drop_duplicates().reset_index(drop=True)\n",
    "\n",
    "# Confirm removal\n",
    "print(dataset.duplicated().sum())  # Should return 0\n",
    "```\n",
    "\n",
    "Repeat this process for all datasets to ensure they are free of duplicate rows."
   ]
  },
  {
   "cell_type": "markdown",
   "id": "f179f0a9",
   "metadata": {
    "id": "f179f0a9"
   },
   "source": [
    "### `orders` data frame"
   ]
  },
  {
   "cell_type": "code",
   "execution_count": 21,
   "id": "bb1a8c31-0a95-487a-98fc-c040228245f6",
   "metadata": {
    "id": "bb1a8c31-0a95-487a-98fc-c040228245f6",
    "trusted": false
   },
   "outputs": [
    {
     "data": {
      "text/plain": [
       "15"
      ]
     },
     "execution_count": 21,
     "metadata": {},
     "output_type": "execute_result"
    }
   ],
   "source": [
    "# Find the number of duplicate rows in the orders dataframe\n",
    "orders.duplicated().sum()"
   ]
  },
  {
   "cell_type": "code",
   "execution_count": 22,
   "id": "b99297a5-405a-463d-8535-9adc3da4ad74",
   "metadata": {
    "id": "b99297a5-405a-463d-8535-9adc3da4ad74",
    "trusted": false
   },
   "outputs": [
    {
     "data": {
      "text/html": [
       "<div>\n",
       "<style scoped>\n",
       "    .dataframe tbody tr th:only-of-type {\n",
       "        vertical-align: middle;\n",
       "    }\n",
       "\n",
       "    .dataframe tbody tr th {\n",
       "        vertical-align: top;\n",
       "    }\n",
       "\n",
       "    .dataframe thead th {\n",
       "        text-align: right;\n",
       "    }\n",
       "</style>\n",
       "<table border=\"1\" class=\"dataframe\">\n",
       "  <thead>\n",
       "    <tr style=\"text-align: right;\">\n",
       "      <th></th>\n",
       "      <th>order_id</th>\n",
       "      <th>user_id</th>\n",
       "      <th>order_number</th>\n",
       "      <th>order_dow</th>\n",
       "      <th>order_hour_of_day</th>\n",
       "      <th>days_since_prior_order</th>\n",
       "    </tr>\n",
       "  </thead>\n",
       "  <tbody>\n",
       "    <tr>\n",
       "      <th>145574</th>\n",
       "      <td>794638</td>\n",
       "      <td>50898</td>\n",
       "      <td>24</td>\n",
       "      <td>3</td>\n",
       "      <td>2</td>\n",
       "      <td>2.0</td>\n",
       "    </tr>\n",
       "    <tr>\n",
       "      <th>223105</th>\n",
       "      <td>2160484</td>\n",
       "      <td>107525</td>\n",
       "      <td>16</td>\n",
       "      <td>3</td>\n",
       "      <td>2</td>\n",
       "      <td>30.0</td>\n",
       "    </tr>\n",
       "    <tr>\n",
       "      <th>230807</th>\n",
       "      <td>1918001</td>\n",
       "      <td>188546</td>\n",
       "      <td>14</td>\n",
       "      <td>3</td>\n",
       "      <td>2</td>\n",
       "      <td>16.0</td>\n",
       "    </tr>\n",
       "    <tr>\n",
       "      <th>266232</th>\n",
       "      <td>1782114</td>\n",
       "      <td>106752</td>\n",
       "      <td>1</td>\n",
       "      <td>3</td>\n",
       "      <td>2</td>\n",
       "      <td>NaN</td>\n",
       "    </tr>\n",
       "    <tr>\n",
       "      <th>273805</th>\n",
       "      <td>1112182</td>\n",
       "      <td>202304</td>\n",
       "      <td>84</td>\n",
       "      <td>3</td>\n",
       "      <td>2</td>\n",
       "      <td>6.0</td>\n",
       "    </tr>\n",
       "    <tr>\n",
       "      <th>284038</th>\n",
       "      <td>2845099</td>\n",
       "      <td>31189</td>\n",
       "      <td>11</td>\n",
       "      <td>3</td>\n",
       "      <td>2</td>\n",
       "      <td>7.0</td>\n",
       "    </tr>\n",
       "    <tr>\n",
       "      <th>311713</th>\n",
       "      <td>1021560</td>\n",
       "      <td>53767</td>\n",
       "      <td>3</td>\n",
       "      <td>3</td>\n",
       "      <td>2</td>\n",
       "      <td>9.0</td>\n",
       "    </tr>\n",
       "    <tr>\n",
       "      <th>321100</th>\n",
       "      <td>408114</td>\n",
       "      <td>68324</td>\n",
       "      <td>4</td>\n",
       "      <td>3</td>\n",
       "      <td>2</td>\n",
       "      <td>18.0</td>\n",
       "    </tr>\n",
       "    <tr>\n",
       "      <th>323900</th>\n",
       "      <td>1919531</td>\n",
       "      <td>191501</td>\n",
       "      <td>32</td>\n",
       "      <td>3</td>\n",
       "      <td>2</td>\n",
       "      <td>7.0</td>\n",
       "    </tr>\n",
       "    <tr>\n",
       "      <th>345917</th>\n",
       "      <td>2232988</td>\n",
       "      <td>82565</td>\n",
       "      <td>1</td>\n",
       "      <td>3</td>\n",
       "      <td>2</td>\n",
       "      <td>NaN</td>\n",
       "    </tr>\n",
       "    <tr>\n",
       "      <th>371905</th>\n",
       "      <td>391768</td>\n",
       "      <td>57671</td>\n",
       "      <td>19</td>\n",
       "      <td>3</td>\n",
       "      <td>2</td>\n",
       "      <td>10.0</td>\n",
       "    </tr>\n",
       "    <tr>\n",
       "      <th>394347</th>\n",
       "      <td>467134</td>\n",
       "      <td>63189</td>\n",
       "      <td>21</td>\n",
       "      <td>3</td>\n",
       "      <td>2</td>\n",
       "      <td>2.0</td>\n",
       "    </tr>\n",
       "    <tr>\n",
       "      <th>411408</th>\n",
       "      <td>1286742</td>\n",
       "      <td>183220</td>\n",
       "      <td>48</td>\n",
       "      <td>3</td>\n",
       "      <td>2</td>\n",
       "      <td>4.0</td>\n",
       "    </tr>\n",
       "    <tr>\n",
       "      <th>415163</th>\n",
       "      <td>2282673</td>\n",
       "      <td>86751</td>\n",
       "      <td>49</td>\n",
       "      <td>3</td>\n",
       "      <td>2</td>\n",
       "      <td>2.0</td>\n",
       "    </tr>\n",
       "    <tr>\n",
       "      <th>441599</th>\n",
       "      <td>2125197</td>\n",
       "      <td>14050</td>\n",
       "      <td>48</td>\n",
       "      <td>3</td>\n",
       "      <td>2</td>\n",
       "      <td>3.0</td>\n",
       "    </tr>\n",
       "  </tbody>\n",
       "</table>\n",
       "</div>"
      ],
      "text/plain": [
       "        order_id  user_id  order_number  order_dow  order_hour_of_day  \\\n",
       "145574    794638    50898            24          3                  2   \n",
       "223105   2160484   107525            16          3                  2   \n",
       "230807   1918001   188546            14          3                  2   \n",
       "266232   1782114   106752             1          3                  2   \n",
       "273805   1112182   202304            84          3                  2   \n",
       "284038   2845099    31189            11          3                  2   \n",
       "311713   1021560    53767             3          3                  2   \n",
       "321100    408114    68324             4          3                  2   \n",
       "323900   1919531   191501            32          3                  2   \n",
       "345917   2232988    82565             1          3                  2   \n",
       "371905    391768    57671            19          3                  2   \n",
       "394347    467134    63189            21          3                  2   \n",
       "411408   1286742   183220            48          3                  2   \n",
       "415163   2282673    86751            49          3                  2   \n",
       "441599   2125197    14050            48          3                  2   \n",
       "\n",
       "        days_since_prior_order  \n",
       "145574                     2.0  \n",
       "223105                    30.0  \n",
       "230807                    16.0  \n",
       "266232                     NaN  \n",
       "273805                     6.0  \n",
       "284038                     7.0  \n",
       "311713                     9.0  \n",
       "321100                    18.0  \n",
       "323900                     7.0  \n",
       "345917                     NaN  \n",
       "371905                    10.0  \n",
       "394347                     2.0  \n",
       "411408                     4.0  \n",
       "415163                     2.0  \n",
       "441599                     3.0  "
      ]
     },
     "execution_count": 22,
     "metadata": {},
     "output_type": "execute_result"
    }
   ],
   "source": [
    "# View the duplicate rows\n",
    "orders[orders.duplicated()]"
   ]
  },
  {
   "cell_type": "code",
   "execution_count": 23,
   "id": "480563c7",
   "metadata": {
    "id": "480563c7",
    "trusted": false
   },
   "outputs": [],
   "source": [
    "# Remove duplicate orders\n",
    "orders = orders.drop_duplicates().reset_index(drop=True)"
   ]
  },
  {
   "cell_type": "code",
   "execution_count": 24,
   "id": "0b2396a2",
   "metadata": {
    "id": "0b2396a2",
    "trusted": false
   },
   "outputs": [
    {
     "name": "stdout",
     "output_type": "stream",
     "text": [
      "0\n"
     ]
    }
   ],
   "source": [
    "# Double check for duplicate rows\n",
    "print(orders.duplicated().sum())"
   ]
  },
  {
   "cell_type": "markdown",
   "id": "916f9740",
   "metadata": {},
   "source": [
    "<div class=\"alert alert-block alert-success\">✔️\n",
    "    \n",
    "\n",
    "__Reviewer's comment №1__\n",
    "\n",
    "Duplicate checking is the basis of data preprocessing"
   ]
  },
  {
   "cell_type": "markdown",
   "id": "45e6bc46",
   "metadata": {
    "id": "45e6bc46"
   },
   "source": [
    "### `products` data frame"
   ]
  },
  {
   "cell_type": "code",
   "execution_count": 25,
   "id": "5f526b5b-8175-46fa-a0fd-441767d50e64",
   "metadata": {
    "id": "5f526b5b-8175-46fa-a0fd-441767d50e64",
    "trusted": false
   },
   "outputs": [
    {
     "data": {
      "text/plain": [
       "0"
      ]
     },
     "execution_count": 25,
     "metadata": {},
     "output_type": "execute_result"
    }
   ],
   "source": [
    "# Check for fully duplicate rows\n",
    "products.duplicated().sum()"
   ]
  },
  {
   "cell_type": "code",
   "execution_count": 26,
   "id": "88daa4f4",
   "metadata": {
    "id": "88daa4f4",
    "trusted": false
   },
   "outputs": [
    {
     "data": {
      "text/plain": [
       "0"
      ]
     },
     "execution_count": 26,
     "metadata": {},
     "output_type": "execute_result"
    }
   ],
   "source": [
    "# Check for just duplicate product IDs using subset='product_id' in duplicated()\n",
    "products['product_id'].duplicated().sum()"
   ]
  },
  {
   "cell_type": "markdown",
   "id": "03c82be5-3463-4adb-a5eb-1755f011faa0",
   "metadata": {
    "id": "03c82be5-3463-4adb-a5eb-1755f011faa0"
   },
   "source": [
    "Hint: To identify duplicate product names more effectively, convert the names to lowercase for consistent comparison. Use the .str.lower() method on the product_name column to standardize the text before checking for duplicates."
   ]
  },
  {
   "cell_type": "code",
   "execution_count": 27,
   "id": "c773f0bf",
   "metadata": {
    "id": "c773f0bf",
    "trusted": false
   },
   "outputs": [
    {
     "data": {
      "text/plain": [
       "1361"
      ]
     },
     "execution_count": 27,
     "metadata": {},
     "output_type": "execute_result"
    }
   ],
   "source": [
    "# Check for just duplicate product names (convert names to lowercase to compare better)\n",
    "products['product_name'] = products['product_name'].str.lower()\n",
    "products['product_name'].duplicated().sum()"
   ]
  },
  {
   "cell_type": "markdown",
   "id": "c502f00b-979b-4f6a-9457-569f412e1183",
   "metadata": {
    "id": "c502f00b-979b-4f6a-9457-569f412e1183"
   },
   "source": [
    "Let's see what that looks like in our dataset :"
   ]
  },
  {
   "cell_type": "code",
   "execution_count": 28,
   "id": "515b21b1-f458-4428-ba10-2820fef6158d",
   "metadata": {
    "id": "515b21b1-f458-4428-ba10-2820fef6158d",
    "trusted": false
   },
   "outputs": [
    {
     "data": {
      "text/html": [
       "<div>\n",
       "<style scoped>\n",
       "    .dataframe tbody tr th:only-of-type {\n",
       "        vertical-align: middle;\n",
       "    }\n",
       "\n",
       "    .dataframe tbody tr th {\n",
       "        vertical-align: top;\n",
       "    }\n",
       "\n",
       "    .dataframe thead th {\n",
       "        text-align: right;\n",
       "    }\n",
       "</style>\n",
       "<table border=\"1\" class=\"dataframe\">\n",
       "  <thead>\n",
       "    <tr style=\"text-align: right;\">\n",
       "      <th></th>\n",
       "      <th>product_id</th>\n",
       "      <th>product_name</th>\n",
       "      <th>aisle_id</th>\n",
       "      <th>department_id</th>\n",
       "    </tr>\n",
       "  </thead>\n",
       "  <tbody>\n",
       "    <tr>\n",
       "      <th>22540</th>\n",
       "      <td>22541</td>\n",
       "      <td>high performance energy drink</td>\n",
       "      <td>64</td>\n",
       "      <td>7</td>\n",
       "    </tr>\n",
       "    <tr>\n",
       "      <th>49689</th>\n",
       "      <td>49690</td>\n",
       "      <td>high performance energy drink</td>\n",
       "      <td>64</td>\n",
       "      <td>7</td>\n",
       "    </tr>\n",
       "  </tbody>\n",
       "</table>\n",
       "</div>"
      ],
      "text/plain": [
       "       product_id                   product_name  aisle_id  department_id\n",
       "22540       22541  high performance energy drink        64              7\n",
       "49689       49690  high performance energy drink        64              7"
      ]
     },
     "execution_count": 28,
     "metadata": {},
     "output_type": "execute_result"
    }
   ],
   "source": [
    "products[products['product_name'].str.lower() == 'high performance energy drink']"
   ]
  },
  {
   "cell_type": "code",
   "execution_count": 29,
   "id": "51a0e65f-2c0d-42f7-98d6-fd962a599a18",
   "metadata": {
    "id": "51a0e65f-2c0d-42f7-98d6-fd962a599a18",
    "trusted": false
   },
   "outputs": [],
   "source": [
    "# Drop duplicate product names (case insensitive)\n",
    "products['product_name'] = products['product_name'].drop_duplicates()"
   ]
  },
  {
   "cell_type": "markdown",
   "id": "60f30db1",
   "metadata": {
    "id": "60f30db1"
   },
   "source": [
    "### `departments` data frame"
   ]
  },
  {
   "cell_type": "code",
   "execution_count": 30,
   "id": "fb410ad4-0fbf-4b80-bb09-23fdea79afe3",
   "metadata": {
    "id": "fb410ad4-0fbf-4b80-bb09-23fdea79afe3",
    "trusted": false
   },
   "outputs": [
    {
     "data": {
      "text/plain": [
       "0"
      ]
     },
     "execution_count": 30,
     "metadata": {},
     "output_type": "execute_result"
    }
   ],
   "source": [
    "# Check for duplicate entries in the departments dataframe\n",
    "departments.duplicated().sum()"
   ]
  },
  {
   "cell_type": "markdown",
   "id": "889349c1",
   "metadata": {
    "id": "889349c1"
   },
   "source": [
    "### `aisles` data frame"
   ]
  },
  {
   "cell_type": "code",
   "execution_count": 31,
   "id": "9da89fb9-4679-40f5-ad0d-c34df753a3f8",
   "metadata": {
    "id": "9da89fb9-4679-40f5-ad0d-c34df753a3f8",
    "trusted": false
   },
   "outputs": [
    {
     "data": {
      "text/plain": [
       "0"
      ]
     },
     "execution_count": 31,
     "metadata": {},
     "output_type": "execute_result"
    }
   ],
   "source": [
    "# Check for aisles entries in the aisles dataframe\n",
    "aisles.duplicated().sum()"
   ]
  },
  {
   "cell_type": "markdown",
   "id": "274cd06a",
   "metadata": {
    "id": "274cd06a"
   },
   "source": [
    "### `order_products` data frame"
   ]
  },
  {
   "cell_type": "code",
   "execution_count": 32,
   "id": "52326689-84a8-4b8f-a881-7c68780f62c9",
   "metadata": {
    "id": "52326689-84a8-4b8f-a881-7c68780f62c9",
    "trusted": false
   },
   "outputs": [
    {
     "data": {
      "text/plain": [
       "0"
      ]
     },
     "execution_count": 32,
     "metadata": {},
     "output_type": "execute_result"
    }
   ],
   "source": [
    "# Check for duplicate entries in the order_products dataframe\n",
    "order_products.duplicated().sum()"
   ]
  },
  {
   "cell_type": "markdown",
   "id": "e5952f1b-3a4a-4144-a58e-77d72e1ed599",
   "metadata": {
    "id": "e5952f1b-3a4a-4144-a58e-77d72e1ed599"
   },
   "source": [
    "We have now successfully cleaned our data. Let's begin our exploratory data analysis."
   ]
  },
  {
   "cell_type": "markdown",
   "id": "turkish-kidney",
   "metadata": {
    "id": "turkish-kidney"
   },
   "source": [
    "# [A] Easy (must complete all to pass)"
   ]
  },
  {
   "cell_type": "markdown",
   "id": "short-capability",
   "metadata": {
    "id": "short-capability"
   },
   "source": [
    "### [A1] Verify that the `'order_hour_of_day'` and `'order_dow'` values in the `orders` tables are sensible (i.e. `'order_hour_of_day'` ranges from 0 to 23 and `'order_dow'` ranges from 0 to 6)\n",
    "\n",
    "To verify that the values in the `order_hour_of_day` and `order_dow` columns are sensible:\n",
    "\n",
    "1. **Check unique values**: Use `.unique()` on each column to extract all distinct values present.\n",
    "2. **Sort the results**: Use `sorted()` to arrange the unique values in ascending order for easier verification.\n",
    "3. **Validate ranges**:\n",
    "   - Ensure `order_hour_of_day` values range from 0 to 23 (representing hours of the day).\n",
    "   - Ensure `order_dow` values range from 0 to 6 (representing days of the week).\n",
    "\n",
    "This process confirms that the data aligns with expected ranges and there are no out-of-bound or invalid entries."
   ]
  },
  {
   "cell_type": "code",
   "execution_count": 33,
   "id": "growing-fruit",
   "metadata": {
    "id": "growing-fruit",
    "trusted": false
   },
   "outputs": [
    {
     "name": "stdout",
     "output_type": "stream",
     "text": [
      "[0, 1, 2, 3, 4, 5, 6, 7, 8, 9, 10, 11, 12, 13, 14, 15, 16, 17, 18, 19, 20, 21, 22, 23]\n"
     ]
    }
   ],
   "source": [
    "orders['order_hour_of_day'].unique()\n",
    "print(sorted(orders['order_hour_of_day'].unique()))"
   ]
  },
  {
   "cell_type": "code",
   "execution_count": 34,
   "id": "accessory-malaysia",
   "metadata": {
    "id": "accessory-malaysia",
    "trusted": false
   },
   "outputs": [
    {
     "name": "stdout",
     "output_type": "stream",
     "text": [
      "[0, 1, 2, 3, 4, 5, 6]\n"
     ]
    }
   ],
   "source": [
    "orders['order_dow'].unique()\n",
    "print(sorted(orders['order_dow'].unique()))"
   ]
  },
  {
   "cell_type": "markdown",
   "id": "a6743a70",
   "metadata": {
    "id": "a6743a70"
   },
   "source": [
    "### [A2] What time of day do people shop for groceries?\n",
    "\n",
    "To determine the time of day people shop for groceries, analyze the order_hour_of_day column in the orders dataset. Use .value_counts() to count the number of orders placed at each hour, and then sort the results by the hour for a clear chronological order.\n",
    "\n",
    "Finally, visualize the data with a bar plot to easily observe the shopping trends across different times of the day."
   ]
  },
  {
   "cell_type": "code",
   "execution_count": 35,
   "id": "a36cca27",
   "metadata": {
    "id": "a36cca27",
    "trusted": false
   },
   "outputs": [
    {
     "data": {
      "image/png": "[encoded data removed]",
      "text/plain": [
       "<Figure size 640x480 with 1 Axes>"
      ]
     },
     "metadata": {},
     "output_type": "display_data"
    }
   ],
   "source": [
    "orders['order_hour_of_day'].value_counts().sort_index()\n",
    "order_per_hour = orders['order_hour_of_day'].value_counts().sort_index()\n",
    "order_per_hour.plot(kind='bar')\n",
    "plt.xlabel('Hour of Day')     \n",
    "plt.ylabel('Orders Placed') \n",
    "plt.title('Orders Placed by Hour of Day')\n",
    "plt.show()"
   ]
  },
  {
   "cell_type": "markdown",
   "id": "11270eed",
   "metadata": {
    "id": "11270eed"
   },
   "source": [
    "Most orders occur between 9:00 AM and 5:00 PM, with peaks at 10:00 AM and 3:00 PM"
   ]
  },
  {
   "cell_type": "markdown",
   "id": "b0a43353",
   "metadata": {},
   "source": [
    "<div class=\"alert alert-block alert-success\">✔️\n",
    "    \n",
    "\n",
    "__Reviewer's comment №1__\n",
    "\n",
    "Great"
   ]
  },
  {
   "cell_type": "markdown",
   "id": "documented-command",
   "metadata": {
    "id": "documented-command"
   },
   "source": [
    "### [A3] What day of the week do people shop for groceries?\n",
    "\n",
    "To figure out what day of the week people shop for groceries, analyze the order_dow column in the orders dataset. Use .value_counts() to count the number of orders for each day of the week, and then sort the results by the day index to maintain the correct order.\n",
    "\n",
    "Visualize the data with a bar plot to clearly observe shopping patterns across the days of the week."
   ]
  },
  {
   "cell_type": "code",
   "execution_count": 36,
   "id": "chief-digit",
   "metadata": {
    "id": "chief-digit",
    "trusted": false
   },
   "outputs": [
    {
     "data": {
      "image/png": "[encoded data removed]",
      "text/plain": [
       "<Figure size 640x480 with 1 Axes>"
      ]
     },
     "metadata": {},
     "output_type": "display_data"
    }
   ],
   "source": [
    "orders['order_dow'].value_counts().sort_index()\n",
    "orders_by_day = orders['order_dow'].value_counts().sort_index()\n",
    "orders_by_day.plot(kind='bar')\n",
    "plt.xlabel('Day of Week')     \n",
    "plt.ylabel('Orders Placed') \n",
    "plt.title('Orders Placed by Day of Week')\n",
    "plt.show()"
   ]
  },
  {
   "cell_type": "markdown",
   "id": "dominant-lightning",
   "metadata": {
    "id": "dominant-lightning"
   },
   "source": [
    "The data dictionary does not state which integer corresponds to which day of the week. Assuming Sunday = 0, then people place more orders at the beginning of the week (Sunday and Monday)."
   ]
  },
  {
   "cell_type": "markdown",
   "id": "b54798ea",
   "metadata": {},
   "source": [
    "<div class=\"alert alert-block alert-success\">✔️\n",
    "    \n",
    "\n",
    "__Reviewer's comment №1__\n",
    "\n",
    "You're right to sign the charts"
   ]
  },
  {
   "cell_type": "markdown",
   "id": "cutting-concert",
   "metadata": {
    "id": "cutting-concert"
   },
   "source": [
    "### [A4] How long do people wait until placing another order?\n",
    "\n",
    "To understand how long people wait before placing another order, analyze the days_since_prior_order column in the orders dataset. Use .value_counts() to count how many orders were placed for each interval of days, then sort the results by the number of days for clarity.\n",
    "\n",
    "Visualize the data using a bar plot to observe patterns in ordering frequency over time."
   ]
  },
  {
   "cell_type": "code",
   "execution_count": 37,
   "id": "c231f523",
   "metadata": {
    "id": "c231f523",
    "trusted": false
   },
   "outputs": [
    {
     "data": {
      "image/png": "[encoded data removed]",
      "text/plain": [
       "<Figure size 640x480 with 1 Axes>"
      ]
     },
     "metadata": {},
     "output_type": "display_data"
    }
   ],
   "source": [
    "days_waited = orders['days_since_prior_order'].value_counts()\n",
    "days_waited = days_waited.sort_index()\n",
    "days_waited.plot(kind='bar')\n",
    "\n",
    "\n",
    "plt.xlabel('Days Since Prior Order')\n",
    "plt.ylabel('Number of Orders')\n",
    "plt.title('How Long Customers Wait Before Reordering')\n",
    "plt.show()"
   ]
  },
  {
   "cell_type": "markdown",
   "id": "discrete-vertex",
   "metadata": {
    "id": "discrete-vertex"
   },
   "source": [
    "The 0 values probably correspond to customers who placed more than one order on the same day.\n",
    "\n",
    "The max value of 30 days and the high spike at that value is puzzling though. The spike might be explained by people who set up recurring subscriptions to automatically order once a month. But that doesn't explain why there are no values above 30 days. I would expect many customers to place orders less often than once a month. Maybe those customers were intentionally excluded from the dataset."
   ]
  },
  {
   "cell_type": "markdown",
   "id": "8d926614",
   "metadata": {
    "id": "8d926614"
   },
   "source": [
    "Disregarding the spike at 30 days, most people wait between 2 to 10 days in between orders. The most common wait time is 7 days. In other words, it's common for people to place weekly grocery orders. Interestingly, in the tail of the distribution we also see small spikes at 14, 21, and 28 days. These would correspond to orders every 2, 3, or 4 weeks."
   ]
  },
  {
   "cell_type": "markdown",
   "id": "8b4bc8b5",
   "metadata": {},
   "source": [
    "<div class=\"alert alert-block alert-success\">✔️\n",
    "    \n",
    "\n",
    "__Reviewer's comment №1__\n",
    "\n",
    "The 0 values probably correspond to customers who placed more than one order on the same day."
   ]
  },
  {
   "cell_type": "markdown",
   "id": "tight-staff",
   "metadata": {
    "id": "tight-staff"
   },
   "source": [
    "# [B] Medium (must complete all to pass)"
   ]
  },
  {
   "cell_type": "markdown",
   "id": "packed-classic",
   "metadata": {
    "id": "packed-classic"
   },
   "source": [
    "### [B1] Is there a difference in `'order_hour_of_day'` distributions on Wednesdays and Saturdays? Plot the histograms for both days and describe the differences that you see.\n",
    "\n",
    "To determine if there’s a difference in the `order_hour_of_day` distributions on Wednesdays and Saturdays, follow these steps:\n",
    "\n",
    "1. **Create masks** for Wednesday (`order_dow == 3`) and Saturday (`order_dow == 6`) to filter the orders data.\n",
    "2. **Count the order hours** for each day using `.value_counts()` and sort them by hour with `.sort_index()` for clarity.\n",
    "3. **Combine the counts** for both days into a single DataFrame using `pd.concat()`, and label the columns for easier interpretation.\n",
    "\n",
    "After preparing the data, plot histograms for both days to visually compare the distribution of order times. Look for patterns such as peaks or differences in the busiest times."
   ]
  },
  {
   "cell_type": "code",
   "execution_count": 38,
   "id": "d89b8403",
   "metadata": {
    "id": "d89b8403",
    "trusted": false
   },
   "outputs": [],
   "source": [
    "weds_orders = orders[orders['order_dow'] == 3]\n",
    "sat_orders = orders[orders['order_dow'] == 6]"
   ]
  },
  {
   "cell_type": "code",
   "execution_count": 39,
   "id": "94e54e8a",
   "metadata": {
    "id": "94e54e8a",
    "trusted": false
   },
   "outputs": [],
   "source": [
    "weds_counts = weds_orders['order_hour_of_day'].value_counts().sort_index()\n",
    "sat_counts = sat_orders['order_hour_of_day'].value_counts().sort_index()"
   ]
  },
  {
   "cell_type": "code",
   "execution_count": 40,
   "id": "797c90a8",
   "metadata": {
    "id": "797c90a8",
    "trusted": false
   },
   "outputs": [],
   "source": [
    "order_hours_comparison = pd.concat(\n",
    "    [weds_counts, sat_counts], \n",
    "    axis=1,\n",
    "    keys=['Wednesday', 'Saturday']\n",
    ")"
   ]
  },
  {
   "cell_type": "code",
   "execution_count": 41,
   "id": "35bcea30",
   "metadata": {
    "id": "35bcea30",
    "trusted": false
   },
   "outputs": [
    {
     "data": {
      "image/png": "[encoded data removed]",
      "text/plain": [
       "<Figure size 640x480 with 1 Axes>"
      ]
     },
     "metadata": {},
     "output_type": "display_data"
    }
   ],
   "source": [
    "order_hours_comparison.plot(kind = 'bar', legend = True)\n",
    "plt.xlabel('Hour of Day')\n",
    "plt.ylabel('Number of Orders')\n",
    "plt.title('Orders per hour: Wednesday vs. Saturday')\n",
    "plt.legend(title='Day of Week')\n",
    "plt.show()"
   ]
  },
  {
   "cell_type": "markdown",
   "id": "charitable-congo",
   "metadata": {
    "id": "charitable-congo"
   },
   "source": [
    "There's a small dip from 11h to 13h on Wednesdays. This dip is absent on Saturdays. Maybe this dip can be attributed to people who don't use Instacart because they have lunch somewhere between 11h and 13h."
   ]
  },
  {
   "cell_type": "markdown",
   "id": "e3891143",
   "metadata": {
    "id": "e3891143"
   },
   "source": [
    "### [B2] What's the distribution for the number of orders per customer?\n",
    "\n",
    "To explore the distribution of the number of orders per customer:\n",
    "\n",
    "1. **Group the data** by `user_id` to calculate the total number of orders for each customer. Use `.groupby('user_id')` and count the `order_id` for each group.\n",
    "2. **Sort the results** using `.sort_values()` for better readability.\n",
    "3. **Visualize the distribution** using a histogram to observe how many orders most customers typically place.\n",
    "\n",
    "Adjust the number of bins in the histogram to refine the visualization and better capture the pattern."
   ]
  },
  {
   "cell_type": "code",
   "execution_count": 42,
   "id": "d8c26c23",
   "metadata": {
    "id": "d8c26c23",
    "trusted": false
   },
   "outputs": [
    {
     "data": {
      "text/plain": [
       "user_id\n",
       "152331     1\n",
       "139876     1\n",
       "60408      1\n",
       "139873     1\n",
       "139871     1\n",
       "          ..\n",
       "66664     24\n",
       "148162    24\n",
       "78375     25\n",
       "193164    26\n",
       "149605    28\n",
       "Name: order_id, Length: 157437, dtype: int64"
      ]
     },
     "execution_count": 42,
     "metadata": {},
     "output_type": "execute_result"
    }
   ],
   "source": [
    "orders.groupby('user_id')['order_id'].count().sort_values()"
   ]
  },
  {
   "cell_type": "code",
   "execution_count": 43,
   "id": "c9f163a2",
   "metadata": {
    "trusted": false
   },
   "outputs": [
    {
     "data": {
      "image/png": "[encoded data removed]",
      "text/plain": [
       "<Figure size 640x480 with 1 Axes>"
      ]
     },
     "metadata": {},
     "output_type": "display_data"
    }
   ],
   "source": [
    "orders.groupby('user_id')['order_id'].count().plot(kind='hist', bins=30, title='Orders per Customer')\n",
    "plt.show()\n"
   ]
  },
  {
   "cell_type": "markdown",
   "id": "d2eff7d5",
   "metadata": {
    "id": "d2eff7d5"
   },
   "source": [
    "Most customers in the dataset have placed between 1 and 10 orders, with number of orders per customer sharply decreasing after just 1 order."
   ]
  },
  {
   "cell_type": "markdown",
   "id": "54a0319c",
   "metadata": {
    "id": "54a0319c"
   },
   "source": [
    "### [B3] What are the top 20 popular products (display their id and name)?\n",
    "\n",
    "To identify the top 20 most popular products:\n",
    "\n",
    "1. **Merge the datasets**: Combine `order_products` and `products` on `product_id` to access both the product IDs and names in a single DataFrame.\n",
    "2. **Group the data**: Group by both `product_id` and `product_name` to aggregate the order counts for each product using `.size()`.\n",
    "3. **Sort the results**: Use `.sort_values(ascending=False)` to rank products by their popularity.\n",
    "4. **Display the top 20**: Use `.head(20)` to focus on the most frequently ordered products.\n",
    "5. **Visualize the results**: Create a bar chart to highlight the top products and their order counts.\n",
    "\n",
    "This will give you a clear view of the most popular products and their ranking.\n"
   ]
  },
  {
   "cell_type": "code",
   "execution_count": 44,
   "id": "exterior-arizona",
   "metadata": {
    "id": "exterior-arizona",
    "scrolled": true,
    "trusted": false
   },
   "outputs": [],
   "source": [
    "merged_prods = order_products.merge(products, on='product_id', how='inner')"
   ]
  },
  {
   "cell_type": "code",
   "execution_count": 45,
   "id": "universal-facial",
   "metadata": {
    "id": "universal-facial",
    "trusted": false
   },
   "outputs": [],
   "source": [
    "top_products = merged_prods.groupby(['product_id', 'product_name']).size().sort_values(ascending=False).head(20)"
   ]
  },
  {
   "cell_type": "code",
   "execution_count": 46,
   "id": "bbcdd20b",
   "metadata": {
    "id": "bbcdd20b",
    "trusted": false
   },
   "outputs": [
    {
     "data": {
      "text/plain": [
       "product_id  product_name            \n",
       "24852       banana                      66050\n",
       "13176       bag of organic bananas      53297\n",
       "21137       organic strawberries        37039\n",
       "21903       organic baby spinach        33971\n",
       "47209       organic hass avocado        29773\n",
       "47766       organic avocado             24689\n",
       "47626       large lemon                 21495\n",
       "16797       strawberries                20018\n",
       "26209       limes                       19690\n",
       "27845       organic whole milk          19600\n",
       "27966       organic raspberries         19197\n",
       "22935       organic yellow onion        15898\n",
       "24964       organic garlic              15292\n",
       "45007       organic zucchini            14584\n",
       "39275       organic blueberries         13879\n",
       "49683       cucumber kirby              13675\n",
       "28204       organic fuji apple          12544\n",
       "5876        organic lemon               12232\n",
       "8277        apple honeycrisp organic    11993\n",
       "40706       organic grape tomatoes      11781\n",
       "dtype: int64"
      ]
     },
     "execution_count": 46,
     "metadata": {},
     "output_type": "execute_result"
    }
   ],
   "source": [
    "top_products"
   ]
  },
  {
   "cell_type": "markdown",
   "id": "7df00f47",
   "metadata": {
    "id": "7df00f47"
   },
   "source": [
    "The top 20 items are all produce, except for the milk. Looks like people want delicious and nutritious!"
   ]
  },
  {
   "cell_type": "markdown",
   "id": "gross-theme",
   "metadata": {
    "id": "gross-theme"
   },
   "source": [
    "# [C] Hard (must complete at least two to pass)"
   ]
  },
  {
   "cell_type": "markdown",
   "id": "romantic-deposit",
   "metadata": {
    "id": "romantic-deposit"
   },
   "source": [
    "### [C1] How many items do people typically buy in one order? What does the distribution look like?\n",
    "To analyze how many items people typically buy in one order:\n",
    "\n",
    "1. **Group the data** by `order_id` and count the number of products (`product_id`) in each order using `.count()`. This gives the number of items in each order.\n",
    "2. **Aggregate the counts**: Use `.value_counts()` to determine how frequently different order sizes occur, and then sort the results with `.sort_index()` to organize by the number of items.\n",
    "3. **Visualize the distribution**: Use a bar plot to show the frequency of orders for each size, with the x-axis representing the number of items and the y-axis representing the number of orders.\n",
    "\n",
    "This will help you understand the typical size of a grocery order and identify any trends in purchasing behavior."
   ]
  },
  {
   "cell_type": "code",
   "execution_count": 47,
   "id": "virtual-punch",
   "metadata": {
    "id": "virtual-punch",
    "trusted": false
   },
   "outputs": [
    {
     "data": {
      "text/plain": [
       "1      21847\n",
       "2      26292\n",
       "3      29046\n",
       "4      31054\n",
       "5      31923\n",
       "       ...  \n",
       "98         1\n",
       "104        1\n",
       "108        1\n",
       "115        1\n",
       "127        1\n",
       "Name: product_id, Length: 90, dtype: int64"
      ]
     },
     "execution_count": 47,
     "metadata": {},
     "output_type": "execute_result"
    }
   ],
   "source": [
    "order_products.groupby('order_id')['product_id'].count().value_counts().sort_index()"
   ]
  },
  {
   "cell_type": "markdown",
   "id": "bd4ed530",
   "metadata": {
    "id": "bd4ed530"
   },
   "source": [
    "Most of the order numbers are in the tail of the distribution. To get a better look at the non-tail part, let's choose a value in the tail as a cutoff and just plot order with fewer than that many items. An order size of 35 items is far enough into the tail for this."
   ]
  },
  {
   "cell_type": "code",
   "execution_count": 48,
   "id": "completed-frank",
   "metadata": {
    "id": "completed-frank",
    "trusted": false
   },
   "outputs": [
    {
     "data": {
      "text/plain": [
       "1     21847\n",
       "2     26292\n",
       "3     29046\n",
       "4     31054\n",
       "5     31923\n",
       "6     31698\n",
       "7     30822\n",
       "8     28539\n",
       "9     25742\n",
       "10    23248\n",
       "11    20406\n",
       "12    18539\n",
       "13    16497\n",
       "14    14472\n",
       "15    12696\n",
       "16    11465\n",
       "17    10002\n",
       "18     8726\n",
       "19     7612\n",
       "20     6771\n",
       "21     5738\n",
       "22     5096\n",
       "23     4422\n",
       "24     3838\n",
       "25     3382\n",
       "26     2812\n",
       "27     2458\n",
       "28     2137\n",
       "29     1899\n",
       "30     1618\n",
       "31     1328\n",
       "32     1171\n",
       "33     1003\n",
       "34      845\n",
       "35      686\n",
       "Name: product_id, dtype: int64"
      ]
     },
     "execution_count": 48,
     "metadata": {},
     "output_type": "execute_result"
    }
   ],
   "source": [
    "(order_products.groupby('order_id')['product_id'].count().value_counts().sort_index().loc[1:35])"
   ]
  },
  {
   "cell_type": "code",
   "execution_count": 49,
   "id": "00847001",
   "metadata": {
    "trusted": false
   },
   "outputs": [
    {
     "data": {
      "text/plain": [
       "<AxesSubplot:title={'center':'Typical Order Size'}, xlabel='Number of Items', ylabel='Number of Orders'>"
      ]
     },
     "execution_count": 49,
     "metadata": {},
     "output_type": "execute_result"
    },
    {
     "data": {
      "image/png": "[encoded data removed]",
      "text/plain": [
       "<Figure size 640x480 with 1 Axes>"
      ]
     },
     "metadata": {},
     "output_type": "display_data"
    }
   ],
   "source": [
    "order_size_dist = order_products.groupby('order_id')['product_id'].count().value_counts().sort_index().loc[1:35]\n",
    "order_size_dist.plot(kind='bar', \n",
    "                     xlabel='Number of Items', \n",
    "                     ylabel='Number of Orders', \n",
    "                     title='Typical Order Size')"
   ]
  },
  {
   "cell_type": "markdown",
   "id": "designed-mortality",
   "metadata": {
    "id": "designed-mortality"
   },
   "source": [
    "The typical order contains 5 or 6 items, with most orders having between 1 and 20 items."
   ]
  },
  {
   "cell_type": "markdown",
   "id": "5e6b5537",
   "metadata": {
    "id": "5e6b5537"
   },
   "source": [
    "### [C2] What are the top 20 items that are reordered most frequently (display their names and product IDs)?\n",
    "\n",
    "To find the top 20 most frequently reordered items:\n",
    "\n",
    "1. **Filter the data**: Use `order_products['reordered'] == 1` to isolate only the products that have been reordered.\n",
    "2. **Merge the datasets**: Combine the filtered `order_products` with the `products` dataset on `product_id` to get both the product names and IDs.\n",
    "3. **Group the data**: Group by both `product_id` and `product_name` to calculate how many times each product was reordered, using `.size()`.\n",
    "4. **Sort the results**: Use `.sort_values(ascending=False)` to rank the products by reorder frequency.\n",
    "5. **Display the top 20**: Use `.head(20)` to focus on the most frequently reordered products.\n",
    "6. **Visualize the data**: Create a bar chart to showcase the top reordered items and their frequencies.\n",
    "\n",
    "This process highlights the products that customers consistently return to and reorder."
   ]
  },
  {
   "cell_type": "code",
   "execution_count": 50,
   "id": "9374e55a",
   "metadata": {
    "id": "9374e55a",
    "trusted": false
   },
   "outputs": [],
   "source": [
    "reordered_products = order_products[order_products['reordered'] == 1]"
   ]
  },
  {
   "cell_type": "code",
   "execution_count": 51,
   "id": "possible-change",
   "metadata": {
    "id": "possible-change",
    "scrolled": true,
    "trusted": false
   },
   "outputs": [],
   "source": [
    "merged_prod_orders = reordered_products.merge(products, on='product_id', how='inner')"
   ]
  },
  {
   "cell_type": "code",
   "execution_count": 52,
   "id": "professional-surfing",
   "metadata": {
    "id": "professional-surfing",
    "scrolled": true,
    "trusted": false
   },
   "outputs": [
    {
     "data": {
      "text/plain": [
       "product_id  product_name            \n",
       "24852       banana                      55763\n",
       "13176       bag of organic bananas      44450\n",
       "21137       organic strawberries        28639\n",
       "21903       organic baby spinach        26233\n",
       "47209       organic hass avocado        23629\n",
       "47766       organic avocado             18743\n",
       "27845       organic whole milk          16251\n",
       "47626       large lemon                 15044\n",
       "27966       organic raspberries         14748\n",
       "16797       strawberries                13945\n",
       "26209       limes                       13327\n",
       "22935       organic yellow onion        11145\n",
       "24964       organic garlic              10411\n",
       "45007       organic zucchini            10076\n",
       "49683       cucumber kirby               9538\n",
       "28204       organic fuji apple           8989\n",
       "8277        apple honeycrisp organic     8836\n",
       "39275       organic blueberries          8799\n",
       "5876        organic lemon                8412\n",
       "49235       organic half & half          8389\n",
       "dtype: int64"
      ]
     },
     "execution_count": 52,
     "metadata": {},
     "output_type": "execute_result"
    }
   ],
   "source": [
    "reorder_freq = merged_prod_orders.groupby(['product_id', 'product_name']).size().sort_values(ascending=False).head(20)\n",
    "reorder_freq"
   ]
  },
  {
   "cell_type": "code",
   "execution_count": 53,
   "id": "48dd3658",
   "metadata": {
    "id": "48dd3658",
    "trusted": false
   },
   "outputs": [
    {
     "data": {
      "text/plain": [
       "<AxesSubplot:title={'center':'Top 20 Reordered Items'}, xlabel='Product Name', ylabel='Frequency'>"
      ]
     },
     "execution_count": 53,
     "metadata": {},
     "output_type": "execute_result"
    },
    {
     "data": {
      "image/png": "[encoded data removed]",
      "text/plain": [
       "<Figure size 1200x600 with 1 Axes>"
      ]
     },
     "metadata": {},
     "output_type": "display_data"
    }
   ],
   "source": [
    "reorder_freq.plot(kind='bar', \n",
    "                     xlabel='Product Name', \n",
    "                     ylabel='Frequency', \n",
    "                     title='Top 20 Reordered Items',\n",
    "                     figsize=(12, 6),\n",
    "                     rot=45)"
   ]
  },
  {
   "cell_type": "markdown",
   "id": "80e70c74",
   "metadata": {
    "id": "80e70c74"
   },
   "source": [
    "It looks like produce and dairy comprise the most reordered products as well. It makes sense that perishables would be the most reordered items."
   ]
  },
  {
   "cell_type": "markdown",
   "id": "27a30f46",
   "metadata": {},
   "source": [
    "<div class=\"alert alert-block alert-success\">✔️\n",
    "    \n",
    "\n",
    "__Reviewer's comment №1__\n",
    "\n",
    "All right"
   ]
  },
  {
   "cell_type": "markdown",
   "id": "9d312b14",
   "metadata": {
    "id": "9d312b14"
   },
   "source": [
    "### [C3] For each product, what proportion of its orders are reorders?\n",
    "\n",
    "To calculate the proportion of orders for each product that are reorders:\n",
    "\n",
    "1. **Merge the datasets**: Combine `order_products` with the `products` dataset to access product names and IDs in the same DataFrame.\n",
    "2. **Group the data**: Group by `product_id` and `product_name` to isolate each product's order history.\n",
    "3. **Calculate the mean of `reordered`**: Use `.mean()` on the `reordered` column to compute the proportion of orders for each product that were reorders. The value represents the reorder rate.\n",
    "4. **Sort the results**: Use `.sort_values(ascending=False)` to rank products by their reorder rates.\n",
    "5. **Convert to a DataFrame**: Use `.reset_index()` to organize the grouped data into a readable DataFrame.\n",
    "6. **Optional Sorting**: Sort the results by `product_id` or another column for better clarity.\n",
    "\n",
    "This approach provides insights into how frequently each product is reordered, helping identify customer favorites or staples.\n"
   ]
  },
  {
   "cell_type": "code",
   "execution_count": 54,
   "id": "8ae9f4b1",
   "metadata": {
    "id": "8ae9f4b1",
    "trusted": false
   },
   "outputs": [],
   "source": [
    "detailed_orders = order_products.merge(products, on='product_id', how='inner')"
   ]
  },
  {
   "cell_type": "code",
   "execution_count": 55,
   "id": "103e7fe1",
   "metadata": {
    "id": "103e7fe1",
    "trusted": false
   },
   "outputs": [],
   "source": [
    "product_grp = detailed_orders.groupby(['product_id', 'product_name'])"
   ]
  },
  {
   "cell_type": "code",
   "execution_count": 56,
   "id": "social-individual",
   "metadata": {
    "id": "social-individual",
    "trusted": false
   },
   "outputs": [
    {
     "data": {
      "text/plain": [
       "product_id  product_name                              \n",
       "18121       jalapenos with sea salt                       1.0\n",
       "27387       banana greek nonfat yogurt                    1.0\n",
       "17773       quinoa- with olive oil                        1.0\n",
       "49063       rosemary & sea salt crackers                  1.0\n",
       "14935       kombucha blueberry basil                      1.0\n",
       "                                                         ... \n",
       "25053       frost arctic blitz sports drink               0.0\n",
       "25051       herb for beef gravy mix                       0.0\n",
       "25045       bandages- waterproof                          0.0\n",
       "25044       pure pacific mountain strawberry preserves    0.0\n",
       "24793       sea salt- course                              0.0\n",
       "Name: reordered, Length: 44516, dtype: float64"
      ]
     },
     "execution_count": 56,
     "metadata": {},
     "output_type": "execute_result"
    }
   ],
   "source": [
    "mean_reorders = product_grp['reordered'].mean().sort_values(ascending=False)\n",
    "mean_reorders"
   ]
  },
  {
   "cell_type": "code",
   "execution_count": 57,
   "id": "7716fcba",
   "metadata": {
    "trusted": false
   },
   "outputs": [
    {
     "data": {
      "text/html": [
       "<div>\n",
       "<style scoped>\n",
       "    .dataframe tbody tr th:only-of-type {\n",
       "        vertical-align: middle;\n",
       "    }\n",
       "\n",
       "    .dataframe tbody tr th {\n",
       "        vertical-align: top;\n",
       "    }\n",
       "\n",
       "    .dataframe thead th {\n",
       "        text-align: right;\n",
       "    }\n",
       "</style>\n",
       "<table border=\"1\" class=\"dataframe\">\n",
       "  <thead>\n",
       "    <tr style=\"text-align: right;\">\n",
       "      <th></th>\n",
       "      <th>product_id</th>\n",
       "      <th>product_name</th>\n",
       "      <th>reordered</th>\n",
       "    </tr>\n",
       "  </thead>\n",
       "  <tbody>\n",
       "    <tr>\n",
       "      <th>11957</th>\n",
       "      <td>1</td>\n",
       "      <td>chocolate sandwich cookies</td>\n",
       "      <td>0.564286</td>\n",
       "    </tr>\n",
       "    <tr>\n",
       "      <th>44430</th>\n",
       "      <td>2</td>\n",
       "      <td>all-seasons salt</td>\n",
       "      <td>0.000000</td>\n",
       "    </tr>\n",
       "    <tr>\n",
       "      <th>3746</th>\n",
       "      <td>3</td>\n",
       "      <td>robust golden unsweetened oolong tea</td>\n",
       "      <td>0.738095</td>\n",
       "    </tr>\n",
       "    <tr>\n",
       "      <th>14764</th>\n",
       "      <td>4</td>\n",
       "      <td>smart ones classic favorites mini rigatoni wit...</td>\n",
       "      <td>0.510204</td>\n",
       "    </tr>\n",
       "    <tr>\n",
       "      <th>17908</th>\n",
       "      <td>7</td>\n",
       "      <td>pure coconut water with orange</td>\n",
       "      <td>0.500000</td>\n",
       "    </tr>\n",
       "    <tr>\n",
       "      <th>...</th>\n",
       "      <td>...</td>\n",
       "      <td>...</td>\n",
       "      <td>...</td>\n",
       "    </tr>\n",
       "    <tr>\n",
       "      <th>38357</th>\n",
       "      <td>49684</td>\n",
       "      <td>vodka- triple distilled- twist of vanilla</td>\n",
       "      <td>0.000000</td>\n",
       "    </tr>\n",
       "    <tr>\n",
       "      <th>17853</th>\n",
       "      <td>49685</td>\n",
       "      <td>en croute roast hazelnut cranberry</td>\n",
       "      <td>0.500000</td>\n",
       "    </tr>\n",
       "    <tr>\n",
       "      <th>8600</th>\n",
       "      <td>49686</td>\n",
       "      <td>artisan baguette</td>\n",
       "      <td>0.625000</td>\n",
       "    </tr>\n",
       "    <tr>\n",
       "      <th>38360</th>\n",
       "      <td>49687</td>\n",
       "      <td>smartblend healthy metabolism dry cat food</td>\n",
       "      <td>0.000000</td>\n",
       "    </tr>\n",
       "    <tr>\n",
       "      <th>34870</th>\n",
       "      <td>49688</td>\n",
       "      <td>fresh foaming cleanser</td>\n",
       "      <td>0.111111</td>\n",
       "    </tr>\n",
       "  </tbody>\n",
       "</table>\n",
       "<p>44516 rows × 3 columns</p>\n",
       "</div>"
      ],
      "text/plain": [
       "       product_id                                       product_name  \\\n",
       "11957           1                         chocolate sandwich cookies   \n",
       "44430           2                                   all-seasons salt   \n",
       "3746            3               robust golden unsweetened oolong tea   \n",
       "14764           4  smart ones classic favorites mini rigatoni wit...   \n",
       "17908           7                     pure coconut water with orange   \n",
       "...           ...                                                ...   \n",
       "38357       49684          vodka- triple distilled- twist of vanilla   \n",
       "17853       49685                 en croute roast hazelnut cranberry   \n",
       "8600        49686                                   artisan baguette   \n",
       "38360       49687         smartblend healthy metabolism dry cat food   \n",
       "34870       49688                             fresh foaming cleanser   \n",
       "\n",
       "       reordered  \n",
       "11957   0.564286  \n",
       "44430   0.000000  \n",
       "3746    0.738095  \n",
       "14764   0.510204  \n",
       "17908   0.500000  \n",
       "...          ...  \n",
       "38357   0.000000  \n",
       "17853   0.500000  \n",
       "8600    0.625000  \n",
       "38360   0.000000  \n",
       "34870   0.111111  \n",
       "\n",
       "[44516 rows x 3 columns]"
      ]
     },
     "execution_count": 57,
     "metadata": {},
     "output_type": "execute_result"
    }
   ],
   "source": [
    "mean_reorders_df = mean_reorders.reset_index().sort_values('product_id')\n",
    "mean_reorders_df"
   ]
  },
  {
   "cell_type": "markdown",
   "id": "subject-boxing",
   "metadata": {
    "id": "subject-boxing"
   },
   "source": [
    "### [C4] For each customer, what proportion of their products ordered are reorders?\n",
    "\n",
    "To calculate the proportion of products reordered by each customer:\n",
    "\n",
    "1. **Merge the datasets**: Combine `order_products` with `orders` to link order and customer information.\n",
    "2. **Group the data**: Group by `user_id` to focus on each customer's ordering behavior.\n",
    "3. **Calculate the mean of `reordered`**: Use `.mean()` on the `reordered` column to determine the proportion of products reordered by each customer.\n",
    "4. **Sort the results**: Use `.sort_values(ascending=False)` to identify customers with the highest reorder rates.\n",
    "5. **Convert to a DataFrame**: Use `.reset_index()` to format the grouped data into a structured DataFrame for further analysis.\n",
    "\n",
    "This analysis reveals the extent to which individual customers reorder products, providing insights into customer loyalty and preferences.\n"
   ]
  },
  {
   "cell_type": "code",
   "execution_count": 58,
   "id": "medical-couple",
   "metadata": {
    "id": "medical-couple",
    "scrolled": true,
    "trusted": false
   },
   "outputs": [],
   "source": [
    "customer_reorder_stats = order_products.merge(orders, on='order_id', how='inner').groupby('user_id')['reordered'].mean()"
   ]
  },
  {
   "cell_type": "code",
   "execution_count": 59,
   "id": "8892e4b4",
   "metadata": {
    "id": "8892e4b4",
    "scrolled": true,
    "trusted": false
   },
   "outputs": [
    {
     "data": {
      "text/html": [
       "<div>\n",
       "<style scoped>\n",
       "    .dataframe tbody tr th:only-of-type {\n",
       "        vertical-align: middle;\n",
       "    }\n",
       "\n",
       "    .dataframe tbody tr th {\n",
       "        vertical-align: top;\n",
       "    }\n",
       "\n",
       "    .dataframe thead th {\n",
       "        text-align: right;\n",
       "    }\n",
       "</style>\n",
       "<table border=\"1\" class=\"dataframe\">\n",
       "  <thead>\n",
       "    <tr style=\"text-align: right;\">\n",
       "      <th></th>\n",
       "      <th>user_id</th>\n",
       "      <th>reordered</th>\n",
       "    </tr>\n",
       "  </thead>\n",
       "  <tbody>\n",
       "    <tr>\n",
       "      <th>0</th>\n",
       "      <td>137587</td>\n",
       "      <td>1.0</td>\n",
       "    </tr>\n",
       "    <tr>\n",
       "      <th>1</th>\n",
       "      <td>173474</td>\n",
       "      <td>1.0</td>\n",
       "    </tr>\n",
       "    <tr>\n",
       "      <th>2</th>\n",
       "      <td>13918</td>\n",
       "      <td>1.0</td>\n",
       "    </tr>\n",
       "    <tr>\n",
       "      <th>3</th>\n",
       "      <td>62300</td>\n",
       "      <td>1.0</td>\n",
       "    </tr>\n",
       "    <tr>\n",
       "      <th>4</th>\n",
       "      <td>62307</td>\n",
       "      <td>1.0</td>\n",
       "    </tr>\n",
       "    <tr>\n",
       "      <th>...</th>\n",
       "      <td>...</td>\n",
       "      <td>...</td>\n",
       "    </tr>\n",
       "    <tr>\n",
       "      <th>149621</th>\n",
       "      <td>190953</td>\n",
       "      <td>0.0</td>\n",
       "    </tr>\n",
       "    <tr>\n",
       "      <th>149622</th>\n",
       "      <td>119371</td>\n",
       "      <td>0.0</td>\n",
       "    </tr>\n",
       "    <tr>\n",
       "      <th>149623</th>\n",
       "      <td>63173</td>\n",
       "      <td>0.0</td>\n",
       "    </tr>\n",
       "    <tr>\n",
       "      <th>149624</th>\n",
       "      <td>63163</td>\n",
       "      <td>0.0</td>\n",
       "    </tr>\n",
       "    <tr>\n",
       "      <th>149625</th>\n",
       "      <td>165726</td>\n",
       "      <td>0.0</td>\n",
       "    </tr>\n",
       "  </tbody>\n",
       "</table>\n",
       "<p>149626 rows × 2 columns</p>\n",
       "</div>"
      ],
      "text/plain": [
       "        user_id  reordered\n",
       "0        137587        1.0\n",
       "1        173474        1.0\n",
       "2         13918        1.0\n",
       "3         62300        1.0\n",
       "4         62307        1.0\n",
       "...         ...        ...\n",
       "149621   190953        0.0\n",
       "149622   119371        0.0\n",
       "149623    63173        0.0\n",
       "149624    63163        0.0\n",
       "149625   165726        0.0\n",
       "\n",
       "[149626 rows x 2 columns]"
      ]
     },
     "execution_count": 59,
     "metadata": {},
     "output_type": "execute_result"
    }
   ],
   "source": [
    "sorted_reorder_stats = customer_reorder_stats.sort_values(ascending=False)\n",
    "                                                          \n",
    "sorted_reorder_stats_df = sorted_reorder_stats.reset_index()\n",
    "sorted_reorder_stats_df"
   ]
  },
  {
   "cell_type": "markdown",
   "id": "92d35137",
   "metadata": {
    "id": "92d35137"
   },
   "source": [
    "### [C5] What are the top 20 items that people put in their carts first?\n",
    "\n",
    "To identify the top 20 items that people most frequently add to their carts first:\n",
    "\n",
    "1. **Merge the datasets**: Combine `order_products` with `products` to link product names and IDs.\n",
    "2. **Filter the data**: Focus on rows where `add_to_cart_order` equals 1, indicating the first item added to the cart.\n",
    "3. **Group the data**: Group by `product_id` and `product_name` to aggregate the count of how often each product was the first in a cart.\n",
    "4. **Count occurrences**: Use `.count()` to calculate the total number of times each product was the first added.\n",
    "5. **Sort the results**: Use `.sort_values(ascending=False)` to rank products by their first-in-cart frequency.\n",
    "6. **Display the top 20**: Use `.head(20)` to extract the most popular first-in-cart items.\n",
    "\n",
    "This provides insights into which products customers prioritize in their shopping process.\n"
   ]
  },
  {
   "cell_type": "code",
   "execution_count": 60,
   "id": "0ae57274",
   "metadata": {
    "id": "0ae57274",
    "scrolled": true,
    "trusted": false
   },
   "outputs": [],
   "source": [
    "freq_orders = order_products.merge(products, on='product_id', how='inner')\n",
    "first_added = freq_orders[freq_orders['add_to_cart_order'] == 1]"
   ]
  },
  {
   "cell_type": "code",
   "execution_count": 61,
   "id": "forty-netherlands",
   "metadata": {
    "id": "forty-netherlands",
    "scrolled": true,
    "trusted": false
   },
   "outputs": [],
   "source": [
    "top_20 = first_added.groupby(['product_id', 'product_name']).size().sort_values(ascending=False).head(20).reset_index()"
   ]
  },
  {
   "cell_type": "code",
   "execution_count": 62,
   "id": "08e41ec2",
   "metadata": {
    "id": "08e41ec2",
    "trusted": false
   },
   "outputs": [
    {
     "data": {
      "text/html": [
       "<div>\n",
       "<style scoped>\n",
       "    .dataframe tbody tr th:only-of-type {\n",
       "        vertical-align: middle;\n",
       "    }\n",
       "\n",
       "    .dataframe tbody tr th {\n",
       "        vertical-align: top;\n",
       "    }\n",
       "\n",
       "    .dataframe thead th {\n",
       "        text-align: right;\n",
       "    }\n",
       "</style>\n",
       "<table border=\"1\" class=\"dataframe\">\n",
       "  <thead>\n",
       "    <tr style=\"text-align: right;\">\n",
       "      <th></th>\n",
       "      <th>product_id</th>\n",
       "      <th>product_name</th>\n",
       "      <th>0</th>\n",
       "    </tr>\n",
       "  </thead>\n",
       "  <tbody>\n",
       "    <tr>\n",
       "      <th>0</th>\n",
       "      <td>24852</td>\n",
       "      <td>banana</td>\n",
       "      <td>15562</td>\n",
       "    </tr>\n",
       "    <tr>\n",
       "      <th>1</th>\n",
       "      <td>13176</td>\n",
       "      <td>bag of organic bananas</td>\n",
       "      <td>11026</td>\n",
       "    </tr>\n",
       "    <tr>\n",
       "      <th>2</th>\n",
       "      <td>27845</td>\n",
       "      <td>organic whole milk</td>\n",
       "      <td>4363</td>\n",
       "    </tr>\n",
       "    <tr>\n",
       "      <th>3</th>\n",
       "      <td>21137</td>\n",
       "      <td>organic strawberries</td>\n",
       "      <td>3946</td>\n",
       "    </tr>\n",
       "    <tr>\n",
       "      <th>4</th>\n",
       "      <td>47209</td>\n",
       "      <td>organic hass avocado</td>\n",
       "      <td>3390</td>\n",
       "    </tr>\n",
       "    <tr>\n",
       "      <th>5</th>\n",
       "      <td>21903</td>\n",
       "      <td>organic baby spinach</td>\n",
       "      <td>3336</td>\n",
       "    </tr>\n",
       "    <tr>\n",
       "      <th>6</th>\n",
       "      <td>47766</td>\n",
       "      <td>organic avocado</td>\n",
       "      <td>3044</td>\n",
       "    </tr>\n",
       "    <tr>\n",
       "      <th>7</th>\n",
       "      <td>19660</td>\n",
       "      <td>spring water</td>\n",
       "      <td>2336</td>\n",
       "    </tr>\n",
       "    <tr>\n",
       "      <th>8</th>\n",
       "      <td>16797</td>\n",
       "      <td>strawberries</td>\n",
       "      <td>2308</td>\n",
       "    </tr>\n",
       "    <tr>\n",
       "      <th>9</th>\n",
       "      <td>27966</td>\n",
       "      <td>organic raspberries</td>\n",
       "      <td>2024</td>\n",
       "    </tr>\n",
       "    <tr>\n",
       "      <th>10</th>\n",
       "      <td>44632</td>\n",
       "      <td>sparkling water grapefruit</td>\n",
       "      <td>1914</td>\n",
       "    </tr>\n",
       "    <tr>\n",
       "      <th>11</th>\n",
       "      <td>49235</td>\n",
       "      <td>organic half &amp; half</td>\n",
       "      <td>1797</td>\n",
       "    </tr>\n",
       "    <tr>\n",
       "      <th>12</th>\n",
       "      <td>47626</td>\n",
       "      <td>large lemon</td>\n",
       "      <td>1737</td>\n",
       "    </tr>\n",
       "    <tr>\n",
       "      <th>13</th>\n",
       "      <td>196</td>\n",
       "      <td>soda</td>\n",
       "      <td>1733</td>\n",
       "    </tr>\n",
       "    <tr>\n",
       "      <th>14</th>\n",
       "      <td>38689</td>\n",
       "      <td>organic reduced fat milk</td>\n",
       "      <td>1397</td>\n",
       "    </tr>\n",
       "    <tr>\n",
       "      <th>15</th>\n",
       "      <td>26209</td>\n",
       "      <td>limes</td>\n",
       "      <td>1370</td>\n",
       "    </tr>\n",
       "    <tr>\n",
       "      <th>16</th>\n",
       "      <td>12341</td>\n",
       "      <td>hass avocados</td>\n",
       "      <td>1340</td>\n",
       "    </tr>\n",
       "    <tr>\n",
       "      <th>17</th>\n",
       "      <td>5785</td>\n",
       "      <td>organic reduced fat 2% milk</td>\n",
       "      <td>1310</td>\n",
       "    </tr>\n",
       "    <tr>\n",
       "      <th>18</th>\n",
       "      <td>27086</td>\n",
       "      <td>half &amp; half</td>\n",
       "      <td>1309</td>\n",
       "    </tr>\n",
       "    <tr>\n",
       "      <th>19</th>\n",
       "      <td>43352</td>\n",
       "      <td>raspberries</td>\n",
       "      <td>1246</td>\n",
       "    </tr>\n",
       "  </tbody>\n",
       "</table>\n",
       "</div>"
      ],
      "text/plain": [
       "    product_id                 product_name      0\n",
       "0        24852                       banana  15562\n",
       "1        13176       bag of organic bananas  11026\n",
       "2        27845           organic whole milk   4363\n",
       "3        21137         organic strawberries   3946\n",
       "4        47209         organic hass avocado   3390\n",
       "5        21903         organic baby spinach   3336\n",
       "6        47766              organic avocado   3044\n",
       "7        19660                 spring water   2336\n",
       "8        16797                 strawberries   2308\n",
       "9        27966          organic raspberries   2024\n",
       "10       44632   sparkling water grapefruit   1914\n",
       "11       49235          organic half & half   1797\n",
       "12       47626                  large lemon   1737\n",
       "13         196                         soda   1733\n",
       "14       38689     organic reduced fat milk   1397\n",
       "15       26209                        limes   1370\n",
       "16       12341                hass avocados   1340\n",
       "17        5785  organic reduced fat 2% milk   1310\n",
       "18       27086                  half & half   1309\n",
       "19       43352                  raspberries   1246"
      ]
     },
     "execution_count": 62,
     "metadata": {},
     "output_type": "execute_result"
    }
   ],
   "source": [
    "top_20"
   ]
  },
  {
   "cell_type": "markdown",
   "id": "28ce9872",
   "metadata": {
    "id": "28ce9872"
   },
   "source": [
    "The products that are most often placed into the cart first are produce, dairy, and beverages such as soda or water. I couldn't really say why that is without experience using Instacart because this could have more to do with app design than properties of the products. I do notice that there is considerable overlap between this result and the previous result for most popular and most reordered item types. It could simply be that the app prioritizes popular items as the first suggested purchases, so it happens to be more convenient for customers to place these items in their cart first."
   ]
  },
  {
   "cell_type": "code",
   "execution_count": 63,
   "id": "f4a2af09",
   "metadata": {
    "id": "f4a2af09",
    "trusted": false
   },
   "outputs": [],
   "source": [
    "# Merge order_products with products on 'product_id'\n",
    "merged = order_products.merge(products, on='product_id', how='left')"
   ]
  },
  {
   "cell_type": "code",
   "execution_count": 64,
   "id": "f7fb7a1a",
   "metadata": {
    "trusted": false
   },
   "outputs": [],
   "source": [
    "# Filter to only first added items\n",
    "first_added = merged[merged['add_to_cart_order'] == 1]"
   ]
  },
  {
   "cell_type": "code",
   "execution_count": 65,
   "id": "3a1ded10",
   "metadata": {
    "trusted": false
   },
   "outputs": [
    {
     "data": {
      "text/html": [
       "<div>\n",
       "<style scoped>\n",
       "    .dataframe tbody tr th:only-of-type {\n",
       "        vertical-align: middle;\n",
       "    }\n",
       "\n",
       "    .dataframe tbody tr th {\n",
       "        vertical-align: top;\n",
       "    }\n",
       "\n",
       "    .dataframe thead th {\n",
       "        text-align: right;\n",
       "    }\n",
       "</style>\n",
       "<table border=\"1\" class=\"dataframe\">\n",
       "  <thead>\n",
       "    <tr style=\"text-align: right;\">\n",
       "      <th></th>\n",
       "      <th>product_id</th>\n",
       "      <th>product_name</th>\n",
       "      <th>first_add_count</th>\n",
       "    </tr>\n",
       "  </thead>\n",
       "  <tbody>\n",
       "    <tr>\n",
       "      <th>0</th>\n",
       "      <td>24852</td>\n",
       "      <td>banana</td>\n",
       "      <td>15562</td>\n",
       "    </tr>\n",
       "    <tr>\n",
       "      <th>1</th>\n",
       "      <td>13176</td>\n",
       "      <td>bag of organic bananas</td>\n",
       "      <td>11026</td>\n",
       "    </tr>\n",
       "    <tr>\n",
       "      <th>2</th>\n",
       "      <td>27845</td>\n",
       "      <td>organic whole milk</td>\n",
       "      <td>4363</td>\n",
       "    </tr>\n",
       "    <tr>\n",
       "      <th>3</th>\n",
       "      <td>21137</td>\n",
       "      <td>organic strawberries</td>\n",
       "      <td>3946</td>\n",
       "    </tr>\n",
       "    <tr>\n",
       "      <th>4</th>\n",
       "      <td>47209</td>\n",
       "      <td>organic hass avocado</td>\n",
       "      <td>3390</td>\n",
       "    </tr>\n",
       "    <tr>\n",
       "      <th>5</th>\n",
       "      <td>21903</td>\n",
       "      <td>organic baby spinach</td>\n",
       "      <td>3336</td>\n",
       "    </tr>\n",
       "    <tr>\n",
       "      <th>6</th>\n",
       "      <td>47766</td>\n",
       "      <td>organic avocado</td>\n",
       "      <td>3044</td>\n",
       "    </tr>\n",
       "    <tr>\n",
       "      <th>7</th>\n",
       "      <td>19660</td>\n",
       "      <td>spring water</td>\n",
       "      <td>2336</td>\n",
       "    </tr>\n",
       "    <tr>\n",
       "      <th>8</th>\n",
       "      <td>16797</td>\n",
       "      <td>strawberries</td>\n",
       "      <td>2308</td>\n",
       "    </tr>\n",
       "    <tr>\n",
       "      <th>9</th>\n",
       "      <td>27966</td>\n",
       "      <td>organic raspberries</td>\n",
       "      <td>2024</td>\n",
       "    </tr>\n",
       "    <tr>\n",
       "      <th>10</th>\n",
       "      <td>44632</td>\n",
       "      <td>sparkling water grapefruit</td>\n",
       "      <td>1914</td>\n",
       "    </tr>\n",
       "    <tr>\n",
       "      <th>11</th>\n",
       "      <td>49235</td>\n",
       "      <td>organic half &amp; half</td>\n",
       "      <td>1797</td>\n",
       "    </tr>\n",
       "    <tr>\n",
       "      <th>12</th>\n",
       "      <td>47626</td>\n",
       "      <td>large lemon</td>\n",
       "      <td>1737</td>\n",
       "    </tr>\n",
       "    <tr>\n",
       "      <th>13</th>\n",
       "      <td>196</td>\n",
       "      <td>soda</td>\n",
       "      <td>1733</td>\n",
       "    </tr>\n",
       "    <tr>\n",
       "      <th>14</th>\n",
       "      <td>38689</td>\n",
       "      <td>organic reduced fat milk</td>\n",
       "      <td>1397</td>\n",
       "    </tr>\n",
       "    <tr>\n",
       "      <th>15</th>\n",
       "      <td>26209</td>\n",
       "      <td>limes</td>\n",
       "      <td>1370</td>\n",
       "    </tr>\n",
       "    <tr>\n",
       "      <th>16</th>\n",
       "      <td>12341</td>\n",
       "      <td>hass avocados</td>\n",
       "      <td>1340</td>\n",
       "    </tr>\n",
       "    <tr>\n",
       "      <th>17</th>\n",
       "      <td>5785</td>\n",
       "      <td>organic reduced fat 2% milk</td>\n",
       "      <td>1310</td>\n",
       "    </tr>\n",
       "    <tr>\n",
       "      <th>18</th>\n",
       "      <td>27086</td>\n",
       "      <td>half &amp; half</td>\n",
       "      <td>1309</td>\n",
       "    </tr>\n",
       "    <tr>\n",
       "      <th>19</th>\n",
       "      <td>43352</td>\n",
       "      <td>raspberries</td>\n",
       "      <td>1246</td>\n",
       "    </tr>\n",
       "  </tbody>\n",
       "</table>\n",
       "</div>"
      ],
      "text/plain": [
       "    product_id                 product_name  first_add_count\n",
       "0        24852                       banana            15562\n",
       "1        13176       bag of organic bananas            11026\n",
       "2        27845           organic whole milk             4363\n",
       "3        21137         organic strawberries             3946\n",
       "4        47209         organic hass avocado             3390\n",
       "5        21903         organic baby spinach             3336\n",
       "6        47766              organic avocado             3044\n",
       "7        19660                 spring water             2336\n",
       "8        16797                 strawberries             2308\n",
       "9        27966          organic raspberries             2024\n",
       "10       44632   sparkling water grapefruit             1914\n",
       "11       49235          organic half & half             1797\n",
       "12       47626                  large lemon             1737\n",
       "13         196                         soda             1733\n",
       "14       38689     organic reduced fat milk             1397\n",
       "15       26209                        limes             1370\n",
       "16       12341                hass avocados             1340\n",
       "17        5785  organic reduced fat 2% milk             1310\n",
       "18       27086                  half & half             1309\n",
       "19       43352                  raspberries             1246"
      ]
     },
     "execution_count": 65,
     "metadata": {},
     "output_type": "execute_result"
    }
   ],
   "source": [
    "# Group by product_id and product_name, then count\n",
    "top_20_first_added = (\n",
    "    first_added.groupby(['product_id', 'product_name'])\n",
    "    .size()\n",
    "    .sort_values(ascending=False)\n",
    "    .head(20)\n",
    "    .reset_index(name='first_add_count')  # Rename column \n",
    ")\n",
    "\n",
    "top_20_first_added"
   ]
  },
  {
   "cell_type": "code",
   "execution_count": 66,
   "id": "1c53c5e0",
   "metadata": {
    "trusted": false
   },
   "outputs": [
    {
     "data": {
      "text/html": [
       "<div>\n",
       "<style scoped>\n",
       "    .dataframe tbody tr th:only-of-type {\n",
       "        vertical-align: middle;\n",
       "    }\n",
       "\n",
       "    .dataframe tbody tr th {\n",
       "        vertical-align: top;\n",
       "    }\n",
       "\n",
       "    .dataframe thead th {\n",
       "        text-align: right;\n",
       "    }\n",
       "</style>\n",
       "<table border=\"1\" class=\"dataframe\">\n",
       "  <thead>\n",
       "    <tr style=\"text-align: right;\">\n",
       "      <th></th>\n",
       "      <th>product_id</th>\n",
       "      <th>reorder_rate</th>\n",
       "    </tr>\n",
       "  </thead>\n",
       "  <tbody>\n",
       "    <tr>\n",
       "      <th>0</th>\n",
       "      <td>1</td>\n",
       "      <td>0.564286</td>\n",
       "    </tr>\n",
       "    <tr>\n",
       "      <th>1</th>\n",
       "      <td>2</td>\n",
       "      <td>0.000000</td>\n",
       "    </tr>\n",
       "    <tr>\n",
       "      <th>2</th>\n",
       "      <td>3</td>\n",
       "      <td>0.738095</td>\n",
       "    </tr>\n",
       "    <tr>\n",
       "      <th>3</th>\n",
       "      <td>4</td>\n",
       "      <td>0.510204</td>\n",
       "    </tr>\n",
       "    <tr>\n",
       "      <th>4</th>\n",
       "      <td>7</td>\n",
       "      <td>0.500000</td>\n",
       "    </tr>\n",
       "    <tr>\n",
       "      <th>...</th>\n",
       "      <td>...</td>\n",
       "      <td>...</td>\n",
       "    </tr>\n",
       "    <tr>\n",
       "      <th>45568</th>\n",
       "      <td>49690</td>\n",
       "      <td>0.800000</td>\n",
       "    </tr>\n",
       "    <tr>\n",
       "      <th>45569</th>\n",
       "      <td>49691</td>\n",
       "      <td>0.430556</td>\n",
       "    </tr>\n",
       "    <tr>\n",
       "      <th>45570</th>\n",
       "      <td>49692</td>\n",
       "      <td>0.416667</td>\n",
       "    </tr>\n",
       "    <tr>\n",
       "      <th>45571</th>\n",
       "      <td>49693</td>\n",
       "      <td>0.440000</td>\n",
       "    </tr>\n",
       "    <tr>\n",
       "      <th>45572</th>\n",
       "      <td>49694</td>\n",
       "      <td>0.333333</td>\n",
       "    </tr>\n",
       "  </tbody>\n",
       "</table>\n",
       "<p>45573 rows × 2 columns</p>\n",
       "</div>"
      ],
      "text/plain": [
       "       product_id  reorder_rate\n",
       "0               1      0.564286\n",
       "1               2      0.000000\n",
       "2               3      0.738095\n",
       "3               4      0.510204\n",
       "4               7      0.500000\n",
       "...           ...           ...\n",
       "45568       49690      0.800000\n",
       "45569       49691      0.430556\n",
       "45570       49692      0.416667\n",
       "45571       49693      0.440000\n",
       "45572       49694      0.333333\n",
       "\n",
       "[45573 rows x 2 columns]"
      ]
     },
     "execution_count": 66,
     "metadata": {},
     "output_type": "execute_result"
    }
   ],
   "source": [
    "# Group by product_id to find mean reorder rate\n",
    "product_reorder_stats = (\n",
    "    order_products.groupby('product_id')['reordered']\n",
    "    .mean()\n",
    "    .reset_index(name='reorder_rate')  # descriptive name\n",
    ")\n",
    "\n",
    "product_reorder_stats"
   ]
  },
  {
   "cell_type": "code",
   "execution_count": 67,
   "id": "12467d3a",
   "metadata": {
    "trusted": false
   },
   "outputs": [
    {
     "data": {
      "text/html": [
       "<div>\n",
       "<style scoped>\n",
       "    .dataframe tbody tr th:only-of-type {\n",
       "        vertical-align: middle;\n",
       "    }\n",
       "\n",
       "    .dataframe tbody tr th {\n",
       "        vertical-align: top;\n",
       "    }\n",
       "\n",
       "    .dataframe thead th {\n",
       "        text-align: right;\n",
       "    }\n",
       "</style>\n",
       "<table border=\"1\" class=\"dataframe\">\n",
       "  <thead>\n",
       "    <tr style=\"text-align: right;\">\n",
       "      <th></th>\n",
       "      <th>product_id</th>\n",
       "      <th>product_name</th>\n",
       "      <th>first_add_count</th>\n",
       "      <th>reorder_rate</th>\n",
       "    </tr>\n",
       "  </thead>\n",
       "  <tbody>\n",
       "    <tr>\n",
       "      <th>0</th>\n",
       "      <td>24852</td>\n",
       "      <td>banana</td>\n",
       "      <td>15562</td>\n",
       "      <td>0.844254</td>\n",
       "    </tr>\n",
       "    <tr>\n",
       "      <th>1</th>\n",
       "      <td>13176</td>\n",
       "      <td>bag of organic bananas</td>\n",
       "      <td>11026</td>\n",
       "      <td>0.834006</td>\n",
       "    </tr>\n",
       "    <tr>\n",
       "      <th>2</th>\n",
       "      <td>27845</td>\n",
       "      <td>organic whole milk</td>\n",
       "      <td>4363</td>\n",
       "      <td>0.829133</td>\n",
       "    </tr>\n",
       "    <tr>\n",
       "      <th>3</th>\n",
       "      <td>21137</td>\n",
       "      <td>organic strawberries</td>\n",
       "      <td>3946</td>\n",
       "      <td>0.773212</td>\n",
       "    </tr>\n",
       "    <tr>\n",
       "      <th>4</th>\n",
       "      <td>47209</td>\n",
       "      <td>organic hass avocado</td>\n",
       "      <td>3390</td>\n",
       "      <td>0.793639</td>\n",
       "    </tr>\n",
       "    <tr>\n",
       "      <th>5</th>\n",
       "      <td>21903</td>\n",
       "      <td>organic baby spinach</td>\n",
       "      <td>3336</td>\n",
       "      <td>0.772217</td>\n",
       "    </tr>\n",
       "    <tr>\n",
       "      <th>6</th>\n",
       "      <td>47766</td>\n",
       "      <td>organic avocado</td>\n",
       "      <td>3044</td>\n",
       "      <td>0.759164</td>\n",
       "    </tr>\n",
       "    <tr>\n",
       "      <th>7</th>\n",
       "      <td>19660</td>\n",
       "      <td>spring water</td>\n",
       "      <td>2336</td>\n",
       "      <td>0.810814</td>\n",
       "    </tr>\n",
       "    <tr>\n",
       "      <th>8</th>\n",
       "      <td>16797</td>\n",
       "      <td>strawberries</td>\n",
       "      <td>2308</td>\n",
       "      <td>0.696623</td>\n",
       "    </tr>\n",
       "    <tr>\n",
       "      <th>9</th>\n",
       "      <td>27966</td>\n",
       "      <td>organic raspberries</td>\n",
       "      <td>2024</td>\n",
       "      <td>0.768245</td>\n",
       "    </tr>\n",
       "    <tr>\n",
       "      <th>10</th>\n",
       "      <td>44632</td>\n",
       "      <td>sparkling water grapefruit</td>\n",
       "      <td>1914</td>\n",
       "      <td>0.774038</td>\n",
       "    </tr>\n",
       "    <tr>\n",
       "      <th>11</th>\n",
       "      <td>49235</td>\n",
       "      <td>organic half &amp; half</td>\n",
       "      <td>1797</td>\n",
       "      <td>0.780227</td>\n",
       "    </tr>\n",
       "    <tr>\n",
       "      <th>12</th>\n",
       "      <td>47626</td>\n",
       "      <td>large lemon</td>\n",
       "      <td>1737</td>\n",
       "      <td>0.699884</td>\n",
       "    </tr>\n",
       "    <tr>\n",
       "      <th>13</th>\n",
       "      <td>196</td>\n",
       "      <td>soda</td>\n",
       "      <td>1733</td>\n",
       "      <td>0.770375</td>\n",
       "    </tr>\n",
       "    <tr>\n",
       "      <th>14</th>\n",
       "      <td>38689</td>\n",
       "      <td>organic reduced fat milk</td>\n",
       "      <td>1397</td>\n",
       "      <td>0.848967</td>\n",
       "    </tr>\n",
       "    <tr>\n",
       "      <th>15</th>\n",
       "      <td>26209</td>\n",
       "      <td>limes</td>\n",
       "      <td>1370</td>\n",
       "      <td>0.676841</td>\n",
       "    </tr>\n",
       "    <tr>\n",
       "      <th>16</th>\n",
       "      <td>12341</td>\n",
       "      <td>hass avocados</td>\n",
       "      <td>1340</td>\n",
       "      <td>0.743391</td>\n",
       "    </tr>\n",
       "    <tr>\n",
       "      <th>17</th>\n",
       "      <td>5785</td>\n",
       "      <td>organic reduced fat 2% milk</td>\n",
       "      <td>1310</td>\n",
       "      <td>0.805727</td>\n",
       "    </tr>\n",
       "    <tr>\n",
       "      <th>18</th>\n",
       "      <td>27086</td>\n",
       "      <td>half &amp; half</td>\n",
       "      <td>1309</td>\n",
       "      <td>0.760117</td>\n",
       "    </tr>\n",
       "    <tr>\n",
       "      <th>19</th>\n",
       "      <td>43352</td>\n",
       "      <td>raspberries</td>\n",
       "      <td>1246</td>\n",
       "      <td>0.686941</td>\n",
       "    </tr>\n",
       "  </tbody>\n",
       "</table>\n",
       "</div>"
      ],
      "text/plain": [
       "    product_id                 product_name  first_add_count  reorder_rate\n",
       "0        24852                       banana            15562      0.844254\n",
       "1        13176       bag of organic bananas            11026      0.834006\n",
       "2        27845           organic whole milk             4363      0.829133\n",
       "3        21137         organic strawberries             3946      0.773212\n",
       "4        47209         organic hass avocado             3390      0.793639\n",
       "5        21903         organic baby spinach             3336      0.772217\n",
       "6        47766              organic avocado             3044      0.759164\n",
       "7        19660                 spring water             2336      0.810814\n",
       "8        16797                 strawberries             2308      0.696623\n",
       "9        27966          organic raspberries             2024      0.768245\n",
       "10       44632   sparkling water grapefruit             1914      0.774038\n",
       "11       49235          organic half & half             1797      0.780227\n",
       "12       47626                  large lemon             1737      0.699884\n",
       "13         196                         soda             1733      0.770375\n",
       "14       38689     organic reduced fat milk             1397      0.848967\n",
       "15       26209                        limes             1370      0.676841\n",
       "16       12341                hass avocados             1340      0.743391\n",
       "17        5785  organic reduced fat 2% milk             1310      0.805727\n",
       "18       27086                  half & half             1309      0.760117\n",
       "19       43352                  raspberries             1246      0.686941"
      ]
     },
     "execution_count": 67,
     "metadata": {},
     "output_type": "execute_result"
    }
   ],
   "source": [
    "# Merge top 20 first added products with their reorder rates\n",
    "top_20_comparison = top_20_first_added.merge(product_reorder_stats, on='product_id', how='left')\n",
    "\n",
    "top_20_comparison"
   ]
  },
  {
   "cell_type": "markdown",
   "id": "ccd7196f",
   "metadata": {},
   "source": [
    "Comparison of top 20 first added to cart items and highest item reorder rates:\n",
    "\n",
    "* Produce, dairy, and beverages have the highest occurence in the first-added list, indicating customers might add essential items (often perishable) to their carts first.\n",
    "\n",
    "* High reorder rates for products like bananas, milk, and organic strawberries(over non-organic strawberries) show strong customer loyalty, suggesting these products are frequently restocked and should remain so. \n",
    "\n",
    "* The first-add behavior likely reflects a combination of consumer habits and app design. Popular items are likely prioritized in the app interface, which might make them more likely to be added first."
   ]
  },
  {
   "cell_type": "markdown",
   "id": "ea4c26ba",
   "metadata": {},
   "source": [
    "<div class=\"alert alert-block alert-danger\">✍\n",
    "    \n",
    "\n",
    "__Reviewer's comment №1__\n",
    "\n",
    "In the conclusion of the project, you should aim to summarize the key outcomes, reflect on the objectives you achieved, and highlight the significance of your findings. Consider the following structure:\n",
    "\n",
    "1. **Restate the Project Objectives**: Briefly mention the main goals of your project.\n",
    "2. **Summarize Key Results**: Highlight the most important findings or outcomes you achieved during the project.\n",
    "3. **eflect on Challenges and Learning**: Share any significant challenges you faced and how you overcame them, as well as what you learned during the process.\n",
    "4. **Discuss Impact and Implications**: Explain how your project contributes to the field, solves a problem, or opens new opportunities for further research.\n",
    "5. **End with a Future Outlook**: Mention potential next steps, improvements, or unanswered questions that could be explored in future work.\n",
    "    \n",
    "    \n",
    "For example: *\"In conclusion, this project successfully achieved its objectives by [briefly mention main results]. Despite challenges such as [name challenges], the experience provided valuable insights into [key learnings]. The outcomes contribute to [relevance to field or application], paving the way for future exploration into [potential next steps].\"*"
   ]
  },
  {
   "cell_type": "markdown",
   "id": "327e58c8",
   "metadata": {},
   "source": [
    "<div class=\"alert alert-info\"> </b> Student Comment..</div>\n",
    "\n",
    "Just FYI, I wasn't sure how best to format my findings and conclusions etc, so I did two versions. Let me know which one is more desirable and if it needs adjustments. "
   ]
  },
  {
   "cell_type": "markdown",
   "id": "114b9df1",
   "metadata": {},
   "source": [
    "<div class=\"alert alert-info\"> </b> Student answer..</div>\n",
    " "
   ]
  },
  {
   "cell_type": "markdown",
   "id": "399e2b62",
   "metadata": {},
   "source": [
    "__Project Objective:__\n",
    "\n",
    "Clean and analyze datasets about the Instacart grocery delivery platform to provide key insights into customer order patterns and behavior in an effort to improve customer understanding and platform usage. \n",
    "\n",
    "* Datasets include: instacart_orders.csv, product.csv, order_products.csv, aisles.csv, departments.csv\n",
    "\n",
    "1. Cleaned the data by filtering out missing values. Itentifying duplicate product names and converting all date to the lowercase before removing duplicates, to avoid losing any data. \n",
    "\n",
    "\n",
    "2. Created visualizations for the data. \n",
    "\n",
    "\n",
    "3. Provide insights and feedback into customer behavior and trends to help with business strategy and platform efficiency. \n"
   ]
  },
  {
   "cell_type": "markdown",
   "id": "cd2c2e47",
   "metadata": {},
   "source": [
    "__Key Results from data analysis:__\n",
    "    \n",
    " __Order Statistics:__\n",
    " \n",
    "* Most orders are placed between 9am and 5pm, with peaks at 10am and 3pm.\n",
    "\n",
    "\n",
    "* Based on the dataset provided, assuming Sunday = day 0 (as this is not explicitly specified), most customers place.  \n",
    "\n",
    "\n",
    "* Most customers wait 7 days between placing their first and second order, indicating customers who place weekly grocery orders. \n",
    "\n",
    "    - There are some outliers as some data shows 0 days, which might represent customers who place multiple orders       in a single day. The spike at 30 days is unexpected and could be a result of customers with a monthly               subscription or automatic delivery set up. The 30 day spike was not taken into account for the ultimate             finding of 7 days being the most common wait time.  \n",
    "    \n",
    "    \n",
    "* To find the most active order hours of the day, I compared orders placed over a 24 hour period on a Wednesday versus a Saturday. This showed a small dip from the 11th to the 13th hours on Wednesday, which could be a result of people that go out for lunch during these hours, or pack lunches on work days.\n",
    "\n",
    "\n",
    "* Most customers place 1-10 orders. Data shows a sharp drop off after 1 order that could benefit from further analysis. Possible reasons for this might include: \n",
    "    \n",
    "    - First time order promotions\n",
    "    \n",
    "    - Users experimenting with the service\n",
    "   \n",
    "    - Possible result of customer disatisfaction with the service\n",
    "   \n",
    "    - Situational/Occasional, such as orders placed when someone is sick or busy\n",
    "\n",
    "\n",
    "* Fresh produce are the most popular products among shoppers, particuarly fruits and vegetables.\n",
    "\n",
    "\n",
    "* An average order contains 5-6 items. Most orders have between 1-20 items. \n",
    "   \n",
    "   - This suggests a supplemental-style of grocery shopping rather than someone stocking up on items. Indicates customer use is driven by convenience when they need a few things at a time, for meal planning/needing specific ingredients for a recipe, and emergency, last minute purchases, or impulse buys. \n",
    "        \n",
    "\n",
    "\n",
    "__Product Statistics:__\n",
    "\n",
    "\n",
    "* Produce and dairy products are the most reordered items, which makes sense as they would need to be replaced most frequently. \n",
    "\n",
    "\n",
    "* High reorder rates for products like bananas, milk, and organic strawberries(over non-organic strawberries) show strong customer loyalty, suggesting these products are frequently restocked and should remain so.\n",
    "\n",
    "\n",
    "* Low reorder rates on products like facial cleanser, specific seasonings and flavored vodka may indicate one-off purchases. \n",
    "\n",
    "\n",
    "* Produce, dairy and beverages like soda and water are the first items customers add to their carts.\n"
   ]
  },
  {
   "cell_type": "markdown",
   "id": "b1a835ed",
   "metadata": {},
   "source": [
    "__Challenges & Learnings:__\n",
    "\n",
    "For me personally, I sometimes struggle with the wording of questions and overcomplicating code. For example, we cover so many topics in the coursework portion, that I sometimes will apply methods that are unnecessary or redundant. So utilizing Dot and tutor hours has been helpful for me to make sure I'm working as cleanly as possible.\n",
    "\n",
    "Then this portion of summary was tricky for me. I obviously am doubting myself slightly in how best to format and provide feedback in a straightforward but still detailed way. \n",
    "\n",
    "Issues within the dataset were that the days of the week were not specified, which would make a definitive takeaway on statistics to do with days of the week. "
   ]
  },
  {
   "cell_type": "markdown",
   "id": "cc058234",
   "metadata": {},
   "source": [
    "__Summary of Findings:__\n",
    "\n",
    "\n",
    "__Pattern Analysis:__\n",
    "\n",
    "\n",
    "First-Added Items Pattern:\n",
    "\n",
    "* Focus on essentials (produce, dairy, beverages)\n",
    "* Primarily perishable items\n",
    "* Basic household staples\n",
    "\n",
    "\n",
    "Reorder Pattern Insights:\n",
    "\n",
    "* High loyalty to specific items\n",
    "* Preference for certain varieties (organic over non-organic strawberries)\n",
    "* Essential/staple items show strong repeat purchases\n",
    "\n",
    "\n",
    "__Behavioral Insights:__\n",
    "\n",
    "\n",
    "Shopping Psychology:\n",
    "\n",
    "* Customers build carts around essential items\n",
    "* Regular replenishment patterns for basics\n",
    "* Quality preferences (organic) driving loyalty\n",
    "* Lower reorder rates could indicate impulse or “one-off” purchases\n",
    "\n",
    "\n",
    "__Suggestions for improvements:__\n",
    "\n",
    "\n",
    "1. User Interface Optomization:\n",
    "* Create \"Quick Add\" bundles of commonly first-added items\n",
    "* Design smart shopping lists based on reorder patterns\n",
    "* Highlight frequently paired items (e.g., if bananas and milk often go together)\n",
    "\n",
    "\n",
    "2. Inventory Management:\n",
    "* Ensure higher stock levels of high-reorder items\n",
    "* Optimize delivery routes to prioritize freshness of perishables\n",
    "* Implement predictive stocking for popular organic items\n",
    "\n",
    "3. Customer Experience:\n",
    "* Add \"Essential Restocking\" feature for high-reorder items\n",
    "* Create automated reorder reminders based on typical purchase intervals\n",
    "* Develop a \"Fresh First\" shopping flow since produce is often first-added\n",
    "\n",
    "4. Personalization:\n",
    "* Build personalized \"Start Cart\" suggestions based on individual reorder history\n",
    "* Customize homepage displays based on first-add preferences\n",
    "* Offer relevant promotions based on reorder patterns"
   ]
  },
  {
   "cell_type": "markdown",
   "id": "b2ab1390",
   "metadata": {},
   "source": [
    "<div class=\"alert alert-info\"> <b>Student сomments:\n",
    "\n",
    "Am I meant to combine all of the info above into one paragraph? I'm confused if this portion is meant to be relayed to the \"client\" or simply for learing purposes?"
   ]
  },
  {
   "cell_type": "markdown",
   "id": "2655aad6",
   "metadata": {},
   "source": [
    "In conclusion, this project successfully achieved its objectives in cleaning and analyzing the following Instacart datasets: instacart_orders.csv, product.csv, order_products.csv, aisles.csv, departments.csv.\n",
    "\n",
    "\n",
    "Despite the challenges of not having definitive knowledge as to how the days of the week were organized within the data, and several duplicated product names, we were able to identify and visualize trends within order days and times, frequency, and most popular and reordered products. By utilizing side-by-side comparisons of data sets, we were able to provide visualizations of the data. \n",
    "\n",
    "The outcomes contribute to the approach Instacart, or any consumer facing app, might implement to boost customer retention, lessen inventory waste, and save money. By isolating the most popular product types and most reordered products, we can establish a more streamlined inventory system. Also, by understanding their customer base, they can better prepare for times of high use versus low use, to ensure that they can meet the demand. They also can create more personalized features that will best serve the customer.  "
   ]
  },
  {
   "cell_type": "markdown",
   "id": "b6a9b5ec",
   "metadata": {},
   "source": [
    "<div class=\"alert alert-block alert-warning\">📝\n",
    "    \n",
    "\n",
    "__Reviewer's comment №2__\n",
    "\n",
    "Thank you for your thoughtful and detailed submission. It’s great that you explored different ways to structure your findings and conclusions — this shows genuine effort and critical thinking.\n",
    "\n",
    "Between the two versions, the final structured summary at the end is the most appropriate for a project conclusion. It clearly addresses the project objectives, outlines challenges, highlights key findings, and suggests real-world implications, which is exactly what’s expected.\n",
    "\n",
    "A few suggestions to improve it even further:\n",
    "\n",
    "    1. Consolidate some of the bullet point insights (like order stats and product stats) into concise summary statements. Too many separate points can overwhelm the reader.\n",
    "\n",
    "    2. Polish the grammar and clarity slightly — for example, fix typos like “Optomization” (should be “Optimization”), and ensure consistent formatting (e.g., complete sentences in bullet points).\n",
    "\n",
    "    3. Clarify the audience — while this conclusion is fine for learning purposes, you can add a sentence at the start or end indicating whether it's meant for internal analysis or hypothetical business presentation. That will help frame the tone.\n",
    "\n",
    "To your question — no, it doesn’t all need to be one paragraph. A mix of concise sections or short paragraphs is often more readable. And yes, it’s mainly for learning purposes, but writing as though you're communicating to a client is excellent practice for real-world scenarios.\n",
    "\n",
    "You're on the right track — just refine and simplify a bit for better flow.\n",
    "\n",
    "Would you like help polishing the grammar and structure of your final conclusion paragraph?"
   ]
  },
  {
   "cell_type": "markdown",
   "id": "15e3b798",
   "metadata": {},
   "source": []
  },
  {
   "cell_type": "markdown",
   "id": "90880b93",
   "metadata": {},
   "source": []
  },
  {
   "cell_type": "markdown",
   "id": "6f460211",
   "metadata": {},
   "source": [
    "<div class=\"alert alert-block alert-success\">✔️\n",
    "    \n",
    "\n",
    "__Reviewer's comment №2__\n",
    "\n",
    "\n",
    "Otherwise it's great😊. Your project is begging for github =)   \n",
    "    \n",
    "Congratulations on the successful completion of the project 😊👍\n",
    "And I wish you success in new works 😊"
   ]
  }
 ],
 "metadata": {
  "ExecuteTimeLog": [
   {
    "duration": 163,
    "start_time": "2025-04-27T16:46:22.457Z"
   },
   {
    "duration": 2137,
    "start_time": "2025-04-27T16:47:08.878Z"
   },
   {
    "duration": 1043,
    "start_time": "2025-04-27T16:47:11.018Z"
   },
   {
    "duration": 11,
    "start_time": "2025-04-27T16:47:12.063Z"
   },
   {
    "duration": 2,
    "start_time": "2025-04-27T16:47:12.076Z"
   },
   {
    "duration": 3,
    "start_time": "2025-04-27T16:47:12.080Z"
   },
   {
    "duration": 3,
    "start_time": "2025-04-27T16:47:12.084Z"
   },
   {
    "duration": 4,
    "start_time": "2025-04-27T16:47:12.088Z"
   },
   {
    "duration": 4,
    "start_time": "2025-04-27T16:47:12.093Z"
   },
   {
    "duration": 3,
    "start_time": "2025-04-27T16:47:12.098Z"
   },
   {
    "duration": 2,
    "start_time": "2025-04-27T16:47:12.105Z"
   },
   {
    "duration": 2,
    "start_time": "2025-04-27T16:47:12.143Z"
   },
   {
    "duration": 3,
    "start_time": "2025-04-27T16:47:12.147Z"
   },
   {
    "duration": 3,
    "start_time": "2025-04-27T16:47:12.151Z"
   },
   {
    "duration": 3,
    "start_time": "2025-04-27T16:47:12.156Z"
   },
   {
    "duration": 3,
    "start_time": "2025-04-27T16:47:12.160Z"
   },
   {
    "duration": 3,
    "start_time": "2025-04-27T16:47:12.165Z"
   },
   {
    "duration": 3,
    "start_time": "2025-04-27T16:47:12.169Z"
   },
   {
    "duration": 3,
    "start_time": "2025-04-27T16:47:12.174Z"
   },
   {
    "duration": 3,
    "start_time": "2025-04-27T16:47:12.178Z"
   },
   {
    "duration": 2,
    "start_time": "2025-04-27T16:47:12.183Z"
   },
   {
    "duration": 3,
    "start_time": "2025-04-27T16:47:12.187Z"
   },
   {
    "duration": 4,
    "start_time": "2025-04-27T16:47:12.191Z"
   },
   {
    "duration": 46,
    "start_time": "2025-04-27T16:47:12.197Z"
   },
   {
    "duration": 4,
    "start_time": "2025-04-27T16:47:12.245Z"
   },
   {
    "duration": 2,
    "start_time": "2025-04-27T16:47:12.251Z"
   },
   {
    "duration": 22,
    "start_time": "2025-04-27T16:47:12.255Z"
   },
   {
    "duration": 2,
    "start_time": "2025-04-27T16:47:12.279Z"
   },
   {
    "duration": 5,
    "start_time": "2025-04-27T16:47:12.284Z"
   },
   {
    "duration": 2,
    "start_time": "2025-04-27T16:47:12.291Z"
   },
   {
    "duration": 3,
    "start_time": "2025-04-27T16:47:12.294Z"
   },
   {
    "duration": 5,
    "start_time": "2025-04-27T16:48:27.910Z"
   },
   {
    "duration": 11,
    "start_time": "2025-04-27T16:52:39.310Z"
   },
   {
    "duration": 11,
    "start_time": "2025-04-27T16:52:53.770Z"
   },
   {
    "duration": 12,
    "start_time": "2025-04-27T16:53:54.520Z"
   },
   {
    "duration": 11,
    "start_time": "2025-04-27T16:54:58.460Z"
   },
   {
    "duration": 11,
    "start_time": "2025-04-27T16:57:16.637Z"
   },
   {
    "duration": 13,
    "start_time": "2025-04-27T16:57:50.051Z"
   },
   {
    "duration": 12,
    "start_time": "2025-04-27T16:59:05.045Z"
   },
   {
    "duration": 12,
    "start_time": "2025-04-27T16:59:12.453Z"
   },
   {
    "duration": 12,
    "start_time": "2025-04-27T17:00:11.915Z"
   },
   {
    "duration": 10,
    "start_time": "2025-04-27T17:00:13.106Z"
   },
   {
    "duration": 12,
    "start_time": "2025-04-27T17:00:56.928Z"
   },
   {
    "duration": 11,
    "start_time": "2025-04-27T17:00:59.699Z"
   },
   {
    "duration": 12,
    "start_time": "2025-04-27T17:01:01.854Z"
   },
   {
    "duration": 8,
    "start_time": "2025-04-27T17:01:27.832Z"
   },
   {
    "duration": 9,
    "start_time": "2025-04-27T17:01:48.600Z"
   },
   {
    "duration": 8,
    "start_time": "2025-04-27T17:02:10.660Z"
   },
   {
    "duration": 6,
    "start_time": "2025-04-27T17:06:20.745Z"
   },
   {
    "duration": 860,
    "start_time": "2025-04-27T17:06:20.754Z"
   },
   {
    "duration": 12,
    "start_time": "2025-04-27T17:06:21.616Z"
   },
   {
    "duration": 17,
    "start_time": "2025-04-27T17:06:21.631Z"
   },
   {
    "duration": 13,
    "start_time": "2025-04-27T17:06:21.650Z"
   },
   {
    "duration": 9,
    "start_time": "2025-04-27T17:06:21.665Z"
   },
   {
    "duration": 8,
    "start_time": "2025-04-27T17:06:21.676Z"
   },
   {
    "duration": 13,
    "start_time": "2025-04-27T17:14:10.150Z"
   },
   {
    "duration": 11,
    "start_time": "2025-04-27T17:18:03.527Z"
   },
   {
    "duration": 11,
    "start_time": "2025-04-27T17:22:10.928Z"
   },
   {
    "duration": 10,
    "start_time": "2025-04-27T17:35:49.958Z"
   },
   {
    "duration": 2267,
    "start_time": "2025-04-27T21:34:10.792Z"
   },
   {
    "duration": 1192,
    "start_time": "2025-04-27T21:34:13.061Z"
   },
   {
    "duration": 14,
    "start_time": "2025-04-27T21:34:14.254Z"
   },
   {
    "duration": 18,
    "start_time": "2025-04-27T21:34:14.270Z"
   },
   {
    "duration": 9,
    "start_time": "2025-04-27T21:34:14.291Z"
   },
   {
    "duration": 10,
    "start_time": "2025-04-27T21:34:14.302Z"
   },
   {
    "duration": 9,
    "start_time": "2025-04-27T21:34:14.314Z"
   },
   {
    "duration": 6,
    "start_time": "2025-04-27T21:37:35.827Z"
   },
   {
    "duration": 18,
    "start_time": "2025-04-27T21:44:23.240Z"
   },
   {
    "duration": 15,
    "start_time": "2025-04-27T21:44:57.184Z"
   },
   {
    "duration": 12,
    "start_time": "2025-04-27T21:45:14.260Z"
   },
   {
    "duration": 13,
    "start_time": "2025-04-27T21:45:38.589Z"
   },
   {
    "duration": 11,
    "start_time": "2025-04-27T21:45:49.167Z"
   },
   {
    "duration": 11,
    "start_time": "2025-04-27T21:46:24.753Z"
   },
   {
    "duration": 10,
    "start_time": "2025-04-27T21:46:32.563Z"
   },
   {
    "duration": 18,
    "start_time": "2025-04-27T21:47:19.179Z"
   },
   {
    "duration": 6,
    "start_time": "2025-04-27T21:48:47.267Z"
   },
   {
    "duration": 8,
    "start_time": "2025-04-27T21:49:00.214Z"
   },
   {
    "duration": 22,
    "start_time": "2025-04-27T21:50:00.864Z"
   },
   {
    "duration": 9,
    "start_time": "2025-04-27T21:50:27.844Z"
   },
   {
    "duration": 6,
    "start_time": "2025-04-27T21:52:53.462Z"
   },
   {
    "duration": 5,
    "start_time": "2025-04-27T21:53:15.468Z"
   },
   {
    "duration": 5,
    "start_time": "2025-04-27T21:53:39.549Z"
   },
   {
    "duration": 392,
    "start_time": "2025-04-27T21:53:48.951Z"
   },
   {
    "duration": 970,
    "start_time": "2025-04-27T21:53:49.345Z"
   },
   {
    "duration": 18,
    "start_time": "2025-04-27T21:53:50.317Z"
   },
   {
    "duration": 13,
    "start_time": "2025-04-27T21:53:50.338Z"
   },
   {
    "duration": 10,
    "start_time": "2025-04-27T21:53:50.352Z"
   },
   {
    "duration": 51,
    "start_time": "2025-04-27T21:53:50.364Z"
   },
   {
    "duration": 10,
    "start_time": "2025-04-27T21:53:50.417Z"
   },
   {
    "duration": 6,
    "start_time": "2025-04-27T21:53:50.428Z"
   },
   {
    "duration": 5,
    "start_time": "2025-04-27T21:53:50.435Z"
   },
   {
    "duration": 7,
    "start_time": "2025-04-27T21:53:50.444Z"
   },
   {
    "duration": 2,
    "start_time": "2025-04-27T21:53:50.453Z"
   },
   {
    "duration": 2,
    "start_time": "2025-04-27T21:53:50.457Z"
   },
   {
    "duration": 7,
    "start_time": "2025-04-27T21:53:50.462Z"
   },
   {
    "duration": 28,
    "start_time": "2025-04-27T21:53:50.470Z"
   },
   {
    "duration": 15,
    "start_time": "2025-04-27T21:53:50.499Z"
   },
   {
    "duration": 2,
    "start_time": "2025-04-27T21:53:50.519Z"
   },
   {
    "duration": 3,
    "start_time": "2025-04-27T21:53:50.523Z"
   },
   {
    "duration": 3,
    "start_time": "2025-04-27T21:53:50.527Z"
   },
   {
    "duration": 2,
    "start_time": "2025-04-27T21:53:50.533Z"
   },
   {
    "duration": 3,
    "start_time": "2025-04-27T21:53:50.537Z"
   },
   {
    "duration": 3,
    "start_time": "2025-04-27T21:53:50.541Z"
   },
   {
    "duration": 3,
    "start_time": "2025-04-27T21:53:50.546Z"
   },
   {
    "duration": 3,
    "start_time": "2025-04-27T21:53:50.550Z"
   },
   {
    "duration": 3,
    "start_time": "2025-04-27T21:53:50.554Z"
   },
   {
    "duration": 3,
    "start_time": "2025-04-27T21:53:50.559Z"
   },
   {
    "duration": 4,
    "start_time": "2025-04-27T21:53:50.563Z"
   },
   {
    "duration": 9,
    "start_time": "2025-04-27T21:53:50.588Z"
   },
   {
    "duration": 23,
    "start_time": "2025-04-27T21:53:50.608Z"
   },
   {
    "duration": 2,
    "start_time": "2025-04-27T21:53:50.633Z"
   },
   {
    "duration": 6,
    "start_time": "2025-04-27T21:53:50.637Z"
   },
   {
    "duration": 2,
    "start_time": "2025-04-27T21:53:50.645Z"
   },
   {
    "duration": 2,
    "start_time": "2025-04-27T21:53:50.649Z"
   },
   {
    "duration": 8,
    "start_time": "2025-04-27T21:54:21.980Z"
   },
   {
    "duration": 7,
    "start_time": "2025-04-27T21:54:37.137Z"
   },
   {
    "duration": 8,
    "start_time": "2025-04-27T21:55:18.419Z"
   },
   {
    "duration": 9,
    "start_time": "2025-04-27T21:56:29.307Z"
   },
   {
    "duration": 5,
    "start_time": "2025-04-27T21:58:28.802Z"
   },
   {
    "duration": 5,
    "start_time": "2025-04-27T21:59:42.323Z"
   },
   {
    "duration": 15,
    "start_time": "2025-04-27T21:59:52.085Z"
   },
   {
    "duration": 6,
    "start_time": "2025-04-27T22:01:36.386Z"
   },
   {
    "duration": 6,
    "start_time": "2025-04-27T22:05:07.523Z"
   },
   {
    "duration": 8,
    "start_time": "2025-04-27T22:06:24.462Z"
   },
   {
    "duration": 11,
    "start_time": "2025-04-27T22:09:30.162Z"
   },
   {
    "duration": 4,
    "start_time": "2025-04-27T22:13:07.549Z"
   },
   {
    "duration": 3,
    "start_time": "2025-04-27T22:13:11.142Z"
   },
   {
    "duration": 7,
    "start_time": "2025-04-27T22:13:18.831Z"
   },
   {
    "duration": 6,
    "start_time": "2025-04-27T22:16:18.218Z"
   },
   {
    "duration": 8,
    "start_time": "2025-04-27T22:16:23.011Z"
   },
   {
    "duration": 6,
    "start_time": "2025-04-27T22:16:29.216Z"
   },
   {
    "duration": 182,
    "start_time": "2025-04-27T22:18:36.305Z"
   },
   {
    "duration": 17,
    "start_time": "2025-04-27T22:19:51.192Z"
   },
   {
    "duration": 11,
    "start_time": "2025-04-27T22:23:17.123Z"
   },
   {
    "duration": 41,
    "start_time": "2025-04-27T22:24:57.309Z"
   },
   {
    "duration": 40,
    "start_time": "2025-04-27T22:26:17.424Z"
   },
   {
    "duration": 34,
    "start_time": "2025-04-27T22:27:42.231Z"
   },
   {
    "duration": 7,
    "start_time": "2025-04-27T23:02:36.992Z"
   },
   {
    "duration": 8,
    "start_time": "2025-04-27T23:04:57.178Z"
   },
   {
    "duration": 7,
    "start_time": "2025-04-27T23:06:16.563Z"
   },
   {
    "duration": 6,
    "start_time": "2025-04-27T23:06:19.835Z"
   },
   {
    "duration": 11,
    "start_time": "2025-04-27T23:06:51.412Z"
   },
   {
    "duration": 14,
    "start_time": "2025-04-27T23:06:56.411Z"
   },
   {
    "duration": 61,
    "start_time": "2025-04-27T23:07:42.458Z"
   },
   {
    "duration": 8,
    "start_time": "2025-04-27T23:08:23.007Z"
   },
   {
    "duration": 60,
    "start_time": "2025-04-27T23:08:29.423Z"
   },
   {
    "duration": 63,
    "start_time": "2025-04-27T23:10:31.033Z"
   },
   {
    "duration": 63,
    "start_time": "2025-04-27T23:10:42.771Z"
   },
   {
    "duration": 62,
    "start_time": "2025-04-27T23:13:25.429Z"
   },
   {
    "duration": 23,
    "start_time": "2025-04-27T23:14:13.283Z"
   },
   {
    "duration": 74,
    "start_time": "2025-04-27T23:14:24.638Z"
   },
   {
    "duration": 64,
    "start_time": "2025-04-27T23:14:31.240Z"
   },
   {
    "duration": 34,
    "start_time": "2025-04-27T23:16:42.467Z"
   },
   {
    "duration": 32,
    "start_time": "2025-04-27T23:17:12.789Z"
   },
   {
    "duration": 12,
    "start_time": "2025-04-27T23:21:23.613Z"
   },
   {
    "duration": 5,
    "start_time": "2025-04-27T23:21:57.201Z"
   },
   {
    "duration": 2222,
    "start_time": "2025-04-28T02:06:09.102Z"
   },
   {
    "duration": 1027,
    "start_time": "2025-04-28T02:06:11.326Z"
   },
   {
    "duration": 23,
    "start_time": "2025-04-28T02:06:12.355Z"
   },
   {
    "duration": 16,
    "start_time": "2025-04-28T02:06:12.380Z"
   },
   {
    "duration": 20,
    "start_time": "2025-04-28T02:06:12.400Z"
   },
   {
    "duration": 13,
    "start_time": "2025-04-28T02:06:12.443Z"
   },
   {
    "duration": 11,
    "start_time": "2025-04-28T02:06:12.457Z"
   },
   {
    "duration": 6,
    "start_time": "2025-04-28T02:06:12.471Z"
   },
   {
    "duration": 9,
    "start_time": "2025-04-28T02:06:12.481Z"
   },
   {
    "duration": 11,
    "start_time": "2025-04-28T02:06:12.492Z"
   },
   {
    "duration": 45,
    "start_time": "2025-04-28T02:06:12.505Z"
   },
   {
    "duration": 5,
    "start_time": "2025-04-28T02:06:12.553Z"
   },
   {
    "duration": 6,
    "start_time": "2025-04-28T02:06:12.561Z"
   },
   {
    "duration": 17,
    "start_time": "2025-04-28T02:06:12.571Z"
   },
   {
    "duration": 8,
    "start_time": "2025-04-28T02:06:12.590Z"
   },
   {
    "duration": 52,
    "start_time": "2025-04-28T02:06:12.600Z"
   },
   {
    "duration": 43,
    "start_time": "2025-04-28T02:06:12.654Z"
   },
   {
    "duration": 9,
    "start_time": "2025-04-28T02:06:12.699Z"
   },
   {
    "duration": 96,
    "start_time": "2025-04-28T02:06:12.710Z"
   },
   {
    "duration": 49,
    "start_time": "2025-04-28T02:06:12.808Z"
   },
   {
    "duration": 2,
    "start_time": "2025-04-28T02:06:12.859Z"
   },
   {
    "duration": 3,
    "start_time": "2025-04-28T02:06:12.863Z"
   },
   {
    "duration": 2,
    "start_time": "2025-04-28T02:06:12.868Z"
   },
   {
    "duration": 3,
    "start_time": "2025-04-28T02:06:12.872Z"
   },
   {
    "duration": 2,
    "start_time": "2025-04-28T02:06:12.877Z"
   },
   {
    "duration": 3,
    "start_time": "2025-04-28T02:06:12.881Z"
   },
   {
    "duration": 4,
    "start_time": "2025-04-28T02:06:12.885Z"
   },
   {
    "duration": 57,
    "start_time": "2025-04-28T02:06:12.890Z"
   },
   {
    "duration": 7,
    "start_time": "2025-04-28T02:06:12.949Z"
   },
   {
    "duration": 8,
    "start_time": "2025-04-28T02:06:12.958Z"
   },
   {
    "duration": 7,
    "start_time": "2025-04-28T02:06:12.968Z"
   },
   {
    "duration": 4,
    "start_time": "2025-04-28T02:06:12.977Z"
   },
   {
    "duration": 104,
    "start_time": "2025-04-28T02:07:50.846Z"
   },
   {
    "duration": 101,
    "start_time": "2025-04-28T02:08:02.855Z"
   },
   {
    "duration": 94,
    "start_time": "2025-04-28T02:08:08.947Z"
   },
   {
    "duration": 120,
    "start_time": "2025-04-28T02:08:36.023Z"
   },
   {
    "duration": 101,
    "start_time": "2025-04-28T02:09:43.563Z"
   },
   {
    "duration": 94,
    "start_time": "2025-04-28T02:09:50.633Z"
   },
   {
    "duration": 97,
    "start_time": "2025-04-28T02:10:10.143Z"
   },
   {
    "duration": 81,
    "start_time": "2025-04-28T02:10:38.247Z"
   },
   {
    "duration": 79,
    "start_time": "2025-04-28T02:10:54.601Z"
   },
   {
    "duration": 16,
    "start_time": "2025-04-28T02:11:31.113Z"
   },
   {
    "duration": 731,
    "start_time": "2025-04-28T02:12:11.758Z"
   },
   {
    "duration": 71,
    "start_time": "2025-04-28T02:12:23.452Z"
   },
   {
    "duration": 76,
    "start_time": "2025-04-28T02:12:30.641Z"
   },
   {
    "duration": 73,
    "start_time": "2025-04-28T02:12:31.495Z"
   },
   {
    "duration": 232,
    "start_time": "2025-04-28T02:16:40.918Z"
   },
   {
    "duration": 8,
    "start_time": "2025-04-28T02:21:56.111Z"
   },
   {
    "duration": 10,
    "start_time": "2025-04-28T02:23:21.911Z"
   },
   {
    "duration": 6,
    "start_time": "2025-04-28T02:30:32.907Z"
   },
   {
    "duration": 12,
    "start_time": "2025-04-28T02:34:10.419Z"
   },
   {
    "duration": 29,
    "start_time": "2025-04-28T02:36:25.649Z"
   },
   {
    "duration": 4,
    "start_time": "2025-04-28T02:37:23.411Z"
   },
   {
    "duration": 288,
    "start_time": "2025-04-28T02:37:41.146Z"
   },
   {
    "duration": 12,
    "start_time": "2025-04-28T02:44:55.634Z"
   },
   {
    "duration": 18,
    "start_time": "2025-04-28T02:45:42.453Z"
   },
   {
    "duration": 30,
    "start_time": "2025-04-28T02:54:29.631Z"
   },
   {
    "duration": 51,
    "start_time": "2025-04-28T03:00:18.438Z"
   },
   {
    "duration": 56,
    "start_time": "2025-04-28T03:02:09.937Z"
   },
   {
    "duration": 48,
    "start_time": "2025-04-28T03:02:15.927Z"
   },
   {
    "duration": 29,
    "start_time": "2025-04-28T03:04:08.442Z"
   },
   {
    "duration": 34,
    "start_time": "2025-04-28T03:05:03.079Z"
   },
   {
    "duration": 32,
    "start_time": "2025-04-28T03:05:20.520Z"
   },
   {
    "duration": 3,
    "start_time": "2025-04-28T03:05:34.626Z"
   },
   {
    "duration": 40,
    "start_time": "2025-04-28T03:05:40.536Z"
   },
   {
    "duration": 45,
    "start_time": "2025-04-28T03:06:06.739Z"
   },
   {
    "duration": 4,
    "start_time": "2025-04-28T03:06:23.545Z"
   },
   {
    "duration": 3,
    "start_time": "2025-04-28T03:07:05.332Z"
   },
   {
    "duration": 6,
    "start_time": "2025-04-28T03:07:26.847Z"
   },
   {
    "duration": 161,
    "start_time": "2025-04-28T17:14:33.450Z"
   },
   {
    "duration": 12,
    "start_time": "2025-04-28T17:14:53.665Z"
   },
   {
    "duration": 13,
    "start_time": "2025-04-28T17:15:01.692Z"
   },
   {
    "duration": 2106,
    "start_time": "2025-04-28T17:15:04.989Z"
   },
   {
    "duration": 996,
    "start_time": "2025-04-28T17:15:07.097Z"
   },
   {
    "duration": 19,
    "start_time": "2025-04-28T17:15:08.606Z"
   },
   {
    "duration": 14,
    "start_time": "2025-04-28T17:15:14.762Z"
   },
   {
    "duration": 13,
    "start_time": "2025-04-28T17:15:18.671Z"
   },
   {
    "duration": 13,
    "start_time": "2025-04-28T17:15:26.242Z"
   },
   {
    "duration": 392,
    "start_time": "2025-04-28T17:15:50.893Z"
   },
   {
    "duration": 918,
    "start_time": "2025-04-28T17:15:51.287Z"
   },
   {
    "duration": 25,
    "start_time": "2025-04-28T17:15:52.206Z"
   },
   {
    "duration": 14,
    "start_time": "2025-04-28T17:15:52.232Z"
   },
   {
    "duration": 11,
    "start_time": "2025-04-28T17:15:52.248Z"
   },
   {
    "duration": 10,
    "start_time": "2025-04-28T17:15:52.261Z"
   },
   {
    "duration": 9,
    "start_time": "2025-04-28T17:15:52.273Z"
   },
   {
    "duration": 6,
    "start_time": "2025-04-28T17:15:52.283Z"
   },
   {
    "duration": 8,
    "start_time": "2025-04-28T17:15:52.323Z"
   },
   {
    "duration": 9,
    "start_time": "2025-04-28T17:15:52.333Z"
   },
   {
    "duration": 7,
    "start_time": "2025-04-28T17:15:52.343Z"
   },
   {
    "duration": 5,
    "start_time": "2025-04-28T17:15:52.352Z"
   },
   {
    "duration": 6,
    "start_time": "2025-04-28T17:15:52.358Z"
   },
   {
    "duration": 11,
    "start_time": "2025-04-28T17:15:52.369Z"
   },
   {
    "duration": 43,
    "start_time": "2025-04-28T17:15:52.382Z"
   },
   {
    "duration": 17,
    "start_time": "2025-04-28T17:15:52.426Z"
   },
   {
    "duration": 30,
    "start_time": "2025-04-28T17:15:52.445Z"
   },
   {
    "duration": 8,
    "start_time": "2025-04-28T17:15:52.477Z"
   },
   {
    "duration": 88,
    "start_time": "2025-04-28T17:15:52.486Z"
   },
   {
    "duration": 47,
    "start_time": "2025-04-28T17:15:52.576Z"
   },
   {
    "duration": 105,
    "start_time": "2025-04-28T17:15:52.625Z"
   },
   {
    "duration": 104,
    "start_time": "2025-04-28T17:15:52.732Z"
   },
   {
    "duration": 111,
    "start_time": "2025-04-28T17:15:52.838Z"
   },
   {
    "duration": 88,
    "start_time": "2025-04-28T17:15:52.950Z"
   },
   {
    "duration": 15,
    "start_time": "2025-04-28T17:15:53.040Z"
   },
   {
    "duration": 11,
    "start_time": "2025-04-28T17:15:53.057Z"
   },
   {
    "duration": 29,
    "start_time": "2025-04-28T17:15:53.069Z"
   },
   {
    "duration": 24,
    "start_time": "2025-04-28T17:15:53.100Z"
   },
   {
    "duration": 19,
    "start_time": "2025-04-28T17:15:53.128Z"
   },
   {
    "duration": 51,
    "start_time": "2025-04-28T17:15:53.149Z"
   },
   {
    "duration": 23,
    "start_time": "2025-04-28T17:15:53.202Z"
   },
   {
    "duration": 5,
    "start_time": "2025-04-28T17:15:53.227Z"
   },
   {
    "duration": 2,
    "start_time": "2025-04-28T17:15:53.234Z"
   },
   {
    "duration": 3,
    "start_time": "2025-04-28T17:15:53.238Z"
   },
   {
    "duration": 11,
    "start_time": "2025-04-28T17:16:23.457Z"
   },
   {
    "duration": 12,
    "start_time": "2025-04-28T17:16:29.873Z"
   },
   {
    "duration": 3,
    "start_time": "2025-04-28T17:16:46.117Z"
   },
   {
    "duration": 848,
    "start_time": "2025-04-28T17:16:46.122Z"
   },
   {
    "duration": 15,
    "start_time": "2025-04-28T17:16:46.972Z"
   },
   {
    "duration": 13,
    "start_time": "2025-04-28T17:16:46.989Z"
   },
   {
    "duration": 27,
    "start_time": "2025-04-28T17:16:47.003Z"
   },
   {
    "duration": 10,
    "start_time": "2025-04-28T17:16:47.032Z"
   },
   {
    "duration": 9,
    "start_time": "2025-04-28T17:16:47.045Z"
   },
   {
    "duration": 6,
    "start_time": "2025-04-28T17:16:47.056Z"
   },
   {
    "duration": 7,
    "start_time": "2025-04-28T17:16:47.065Z"
   },
   {
    "duration": 7,
    "start_time": "2025-04-28T17:16:47.073Z"
   },
   {
    "duration": 44,
    "start_time": "2025-04-28T17:16:47.082Z"
   },
   {
    "duration": 5,
    "start_time": "2025-04-28T17:16:47.128Z"
   },
   {
    "duration": 6,
    "start_time": "2025-04-28T17:16:47.134Z"
   },
   {
    "duration": 12,
    "start_time": "2025-04-28T17:16:47.141Z"
   },
   {
    "duration": 5,
    "start_time": "2025-04-28T17:16:47.155Z"
   },
   {
    "duration": 17,
    "start_time": "2025-04-28T17:16:47.162Z"
   },
   {
    "duration": 63,
    "start_time": "2025-04-28T17:16:47.181Z"
   },
   {
    "duration": 7,
    "start_time": "2025-04-28T17:16:47.246Z"
   },
   {
    "duration": 79,
    "start_time": "2025-04-28T17:16:47.254Z"
   },
   {
    "duration": 35,
    "start_time": "2025-04-28T17:16:47.335Z"
   },
   {
    "duration": 89,
    "start_time": "2025-04-28T17:16:47.372Z"
   },
   {
    "duration": 82,
    "start_time": "2025-04-28T17:16:47.463Z"
   },
   {
    "duration": 86,
    "start_time": "2025-04-28T17:16:47.547Z"
   },
   {
    "duration": 72,
    "start_time": "2025-04-28T17:16:47.636Z"
   },
   {
    "duration": 28,
    "start_time": "2025-04-28T17:16:47.709Z"
   },
   {
    "duration": 8,
    "start_time": "2025-04-28T17:16:47.739Z"
   },
   {
    "duration": 27,
    "start_time": "2025-04-28T17:16:47.749Z"
   },
   {
    "duration": 3,
    "start_time": "2025-04-28T17:16:47.778Z"
   },
   {
    "duration": 46,
    "start_time": "2025-04-28T17:16:47.783Z"
   },
   {
    "duration": 53,
    "start_time": "2025-04-28T17:16:47.832Z"
   },
   {
    "duration": 2,
    "start_time": "2025-04-28T17:16:47.887Z"
   },
   {
    "duration": 7,
    "start_time": "2025-04-28T17:16:47.891Z"
   },
   {
    "duration": 9,
    "start_time": "2025-04-28T17:21:50.016Z"
   },
   {
    "duration": 5,
    "start_time": "2025-04-28T17:21:54.776Z"
   },
   {
    "duration": 425,
    "start_time": "2025-04-28T17:22:19.794Z"
   },
   {
    "duration": 933,
    "start_time": "2025-04-28T17:22:20.223Z"
   },
   {
    "duration": 18,
    "start_time": "2025-04-28T17:22:21.158Z"
   },
   {
    "duration": 21,
    "start_time": "2025-04-28T17:22:21.178Z"
   },
   {
    "duration": 28,
    "start_time": "2025-04-28T17:22:21.202Z"
   },
   {
    "duration": 12,
    "start_time": "2025-04-28T17:22:21.232Z"
   },
   {
    "duration": 11,
    "start_time": "2025-04-28T17:22:21.246Z"
   },
   {
    "duration": 7,
    "start_time": "2025-04-28T17:22:21.258Z"
   },
   {
    "duration": 7,
    "start_time": "2025-04-28T17:22:21.266Z"
   },
   {
    "duration": 8,
    "start_time": "2025-04-28T17:22:21.275Z"
   },
   {
    "duration": 49,
    "start_time": "2025-04-28T17:22:21.285Z"
   },
   {
    "duration": 6,
    "start_time": "2025-04-28T17:22:21.336Z"
   },
   {
    "duration": 5,
    "start_time": "2025-04-28T17:22:21.344Z"
   },
   {
    "duration": 13,
    "start_time": "2025-04-28T17:22:21.352Z"
   },
   {
    "duration": 6,
    "start_time": "2025-04-28T17:22:21.367Z"
   },
   {
    "duration": 17,
    "start_time": "2025-04-28T17:22:21.375Z"
   },
   {
    "duration": 33,
    "start_time": "2025-04-28T17:22:21.425Z"
   },
   {
    "duration": 9,
    "start_time": "2025-04-28T17:22:21.459Z"
   },
   {
    "duration": 83,
    "start_time": "2025-04-28T17:22:21.469Z"
   },
   {
    "duration": 40,
    "start_time": "2025-04-28T17:22:21.553Z"
   },
   {
    "duration": 116,
    "start_time": "2025-04-28T17:22:21.594Z"
   },
   {
    "duration": 113,
    "start_time": "2025-04-28T17:22:21.712Z"
   },
   {
    "duration": 130,
    "start_time": "2025-04-28T17:22:21.827Z"
   },
   {
    "duration": 99,
    "start_time": "2025-04-28T17:22:21.959Z"
   },
   {
    "duration": 16,
    "start_time": "2025-04-28T17:22:22.059Z"
   },
   {
    "duration": 9,
    "start_time": "2025-04-28T17:22:22.077Z"
   },
   {
    "duration": 50,
    "start_time": "2025-04-28T17:22:22.088Z"
   },
   {
    "duration": 3,
    "start_time": "2025-04-28T17:22:22.139Z"
   },
   {
    "duration": 19,
    "start_time": "2025-04-28T17:22:22.144Z"
   },
   {
    "duration": 71,
    "start_time": "2025-04-28T17:22:22.165Z"
   },
   {
    "duration": 3,
    "start_time": "2025-04-28T17:22:22.238Z"
   },
   {
    "duration": 6,
    "start_time": "2025-04-28T17:22:22.243Z"
   },
   {
    "duration": 4,
    "start_time": "2025-04-28T17:22:22.251Z"
   },
   {
    "duration": 5,
    "start_time": "2025-04-28T17:22:22.257Z"
   },
   {
    "duration": 102,
    "start_time": "2025-04-28T17:24:10.931Z"
   },
   {
    "duration": 89,
    "start_time": "2025-04-28T17:24:15.822Z"
   },
   {
    "duration": 41,
    "start_time": "2025-04-28T17:24:51.875Z"
   },
   {
    "duration": 5,
    "start_time": "2025-04-28T17:25:58.873Z"
   },
   {
    "duration": 23,
    "start_time": "2025-04-28T17:27:13.073Z"
   },
   {
    "duration": 21,
    "start_time": "2025-04-28T17:27:53.971Z"
   },
   {
    "duration": 8,
    "start_time": "2025-04-28T17:29:32.371Z"
   },
   {
    "duration": 5,
    "start_time": "2025-04-28T17:30:17.891Z"
   },
   {
    "duration": 4,
    "start_time": "2025-04-28T17:31:01.795Z"
   },
   {
    "duration": 709,
    "start_time": "2025-04-28T17:31:21.536Z"
   },
   {
    "duration": 6,
    "start_time": "2025-04-28T17:50:10.232Z"
   },
   {
    "duration": 11,
    "start_time": "2025-04-28T17:54:53.475Z"
   },
   {
    "duration": 9,
    "start_time": "2025-04-28T17:55:04.679Z"
   },
   {
    "duration": 7,
    "start_time": "2025-04-28T17:55:42.097Z"
   },
   {
    "duration": 623,
    "start_time": "2025-04-28T17:57:37.757Z"
   },
   {
    "duration": 59,
    "start_time": "2025-04-28T17:58:00.121Z"
   },
   {
    "duration": 11,
    "start_time": "2025-04-28T18:03:02.511Z"
   },
   {
    "duration": 37,
    "start_time": "2025-04-28T18:03:53.805Z"
   },
   {
    "duration": 32,
    "start_time": "2025-04-28T18:04:00.301Z"
   },
   {
    "duration": 11,
    "start_time": "2025-04-28T18:04:20.680Z"
   },
   {
    "duration": 10,
    "start_time": "2025-04-28T18:04:36.268Z"
   },
   {
    "duration": 8,
    "start_time": "2025-04-28T18:04:43.148Z"
   },
   {
    "duration": 10,
    "start_time": "2025-04-28T18:05:34.074Z"
   },
   {
    "duration": 12,
    "start_time": "2025-04-28T18:05:59.797Z"
   },
   {
    "duration": 218,
    "start_time": "2025-04-28T18:09:35.612Z"
   },
   {
    "duration": 173,
    "start_time": "2025-04-28T18:11:00.417Z"
   },
   {
    "duration": 214,
    "start_time": "2025-04-28T18:13:48.901Z"
   },
   {
    "duration": 689,
    "start_time": "2025-04-28T18:14:09.580Z"
   },
   {
    "duration": 246,
    "start_time": "2025-04-28T18:16:04.488Z"
   },
   {
    "duration": 115,
    "start_time": "2025-04-28T18:17:23.811Z"
   },
   {
    "duration": 241,
    "start_time": "2025-04-28T18:20:46.014Z"
   },
   {
    "duration": 122,
    "start_time": "2025-04-28T18:20:59.621Z"
   },
   {
    "duration": 193,
    "start_time": "2025-04-28T18:21:13.756Z"
   },
   {
    "duration": 141,
    "start_time": "2025-04-28T18:21:33.488Z"
   },
   {
    "duration": 227,
    "start_time": "2025-04-28T18:21:39.007Z"
   },
   {
    "duration": 192,
    "start_time": "2025-04-28T18:21:54.636Z"
   },
   {
    "duration": 171,
    "start_time": "2025-04-28T18:35:46.209Z"
   },
   {
    "duration": 115,
    "start_time": "2025-04-28T18:37:33.556Z"
   },
   {
    "duration": 195,
    "start_time": "2025-04-28T18:38:18.380Z"
   },
   {
    "duration": 12,
    "start_time": "2025-04-28T18:46:38.236Z"
   },
   {
    "duration": 14,
    "start_time": "2025-04-28T18:46:58.329Z"
   },
   {
    "duration": 4,
    "start_time": "2025-04-28T18:54:15.877Z"
   },
   {
    "duration": 3,
    "start_time": "2025-04-28T18:54:16.869Z"
   },
   {
    "duration": 138,
    "start_time": "2025-04-28T18:55:09.400Z"
   },
   {
    "duration": 14,
    "start_time": "2025-04-28T18:58:19.387Z"
   },
   {
    "duration": 17,
    "start_time": "2025-04-28T18:58:44.035Z"
   },
   {
    "duration": 15,
    "start_time": "2025-04-28T18:59:03.715Z"
   },
   {
    "duration": 221,
    "start_time": "2025-04-28T19:00:13.750Z"
   },
   {
    "duration": 121,
    "start_time": "2025-04-28T19:00:20.666Z"
   },
   {
    "duration": 4,
    "start_time": "2025-04-28T19:00:56.340Z"
   },
   {
    "duration": 362,
    "start_time": "2025-04-28T19:00:58.192Z"
   },
   {
    "duration": 52,
    "start_time": "2025-04-28T19:21:39.754Z"
   },
   {
    "duration": 284,
    "start_time": "2025-04-28T19:30:41.964Z"
   },
   {
    "duration": 232,
    "start_time": "2025-04-28T19:30:52.815Z"
   },
   {
    "duration": 283,
    "start_time": "2025-04-28T19:31:12.144Z"
   },
   {
    "duration": 297,
    "start_time": "2025-04-28T19:31:36.818Z"
   },
   {
    "duration": 153,
    "start_time": "2025-04-28T19:32:05.404Z"
   },
   {
    "duration": 167,
    "start_time": "2025-04-28T19:32:30.962Z"
   },
   {
    "duration": 204,
    "start_time": "2025-04-28T19:33:07.559Z"
   },
   {
    "duration": 121,
    "start_time": "2025-04-28T19:37:44.081Z"
   },
   {
    "duration": 63,
    "start_time": "2025-04-28T19:41:02.802Z"
   },
   {
    "duration": 207,
    "start_time": "2025-04-28T19:42:05.309Z"
   },
   {
    "duration": 178,
    "start_time": "2025-04-28T19:45:13.230Z"
   },
   {
    "duration": 181,
    "start_time": "2025-04-28T19:46:52.983Z"
   },
   {
    "duration": 922,
    "start_time": "2025-04-28T19:57:24.344Z"
   },
   {
    "duration": 337,
    "start_time": "2025-04-28T19:59:42.739Z"
   },
   {
    "duration": 6,
    "start_time": "2025-04-28T19:59:52.419Z"
   },
   {
    "duration": 4,
    "start_time": "2025-04-28T20:02:01.485Z"
   },
   {
    "duration": 56,
    "start_time": "2025-04-28T20:06:53.615Z"
   },
   {
    "duration": 170,
    "start_time": "2025-04-28T20:07:02.062Z"
   },
   {
    "duration": 503,
    "start_time": "2025-04-28T20:17:45.397Z"
   },
   {
    "duration": 947,
    "start_time": "2025-04-28T20:17:45.902Z"
   },
   {
    "duration": 20,
    "start_time": "2025-04-28T20:17:46.851Z"
   },
   {
    "duration": 18,
    "start_time": "2025-04-28T20:17:46.874Z"
   },
   {
    "duration": 34,
    "start_time": "2025-04-28T20:17:46.894Z"
   },
   {
    "duration": 15,
    "start_time": "2025-04-28T20:17:46.930Z"
   },
   {
    "duration": 11,
    "start_time": "2025-04-28T20:17:46.947Z"
   },
   {
    "duration": 6,
    "start_time": "2025-04-28T20:17:46.960Z"
   },
   {
    "duration": 7,
    "start_time": "2025-04-28T20:17:46.967Z"
   },
   {
    "duration": 11,
    "start_time": "2025-04-28T20:17:46.976Z"
   },
   {
    "duration": 42,
    "start_time": "2025-04-28T20:17:46.988Z"
   },
   {
    "duration": 6,
    "start_time": "2025-04-28T20:17:47.031Z"
   },
   {
    "duration": 7,
    "start_time": "2025-04-28T20:17:47.039Z"
   },
   {
    "duration": 15,
    "start_time": "2025-04-28T20:17:47.052Z"
   },
   {
    "duration": 7,
    "start_time": "2025-04-28T20:17:47.069Z"
   },
   {
    "duration": 55,
    "start_time": "2025-04-28T20:17:47.078Z"
   },
   {
    "duration": 32,
    "start_time": "2025-04-28T20:17:47.135Z"
   },
   {
    "duration": 9,
    "start_time": "2025-04-28T20:17:47.171Z"
   },
   {
    "duration": 84,
    "start_time": "2025-04-28T20:17:47.182Z"
   },
   {
    "duration": 40,
    "start_time": "2025-04-28T20:17:47.268Z"
   },
   {
    "duration": 119,
    "start_time": "2025-04-28T20:17:47.310Z"
   },
   {
    "duration": 114,
    "start_time": "2025-04-28T20:17:47.431Z"
   },
   {
    "duration": 124,
    "start_time": "2025-04-28T20:17:47.547Z"
   },
   {
    "duration": 92,
    "start_time": "2025-04-28T20:17:47.674Z"
   },
   {
    "duration": 19,
    "start_time": "2025-04-28T20:17:47.768Z"
   },
   {
    "duration": 4,
    "start_time": "2025-04-28T20:17:47.789Z"
   },
   {
    "duration": 43,
    "start_time": "2025-04-28T20:17:47.795Z"
   },
   {
    "duration": 28,
    "start_time": "2025-04-28T20:17:47.840Z"
   },
   {
    "duration": 6,
    "start_time": "2025-04-28T20:17:47.871Z"
   },
   {
    "duration": 4,
    "start_time": "2025-04-28T20:17:47.879Z"
   },
   {
    "duration": 5,
    "start_time": "2025-04-28T20:17:47.884Z"
   },
   {
    "duration": 820,
    "start_time": "2025-04-28T20:17:47.891Z"
   },
   {
    "duration": 11,
    "start_time": "2025-04-28T20:17:48.713Z"
   },
   {
    "duration": 7,
    "start_time": "2025-04-28T20:17:48.728Z"
   },
   {
    "duration": 200,
    "start_time": "2025-04-28T20:17:48.736Z"
   },
   {
    "duration": 122,
    "start_time": "2025-04-28T20:17:48.937Z"
   },
   {
    "duration": 240,
    "start_time": "2025-04-28T20:17:49.062Z"
   },
   {
    "duration": 9,
    "start_time": "2025-04-28T20:17:49.303Z"
   },
   {
    "duration": 6,
    "start_time": "2025-04-28T20:17:49.323Z"
   },
   {
    "duration": 5,
    "start_time": "2025-04-28T20:17:49.331Z"
   },
   {
    "duration": 294,
    "start_time": "2025-04-28T20:17:49.342Z"
   },
   {
    "duration": 44,
    "start_time": "2025-04-28T20:17:49.639Z"
   },
   {
    "duration": 206,
    "start_time": "2025-04-28T20:17:49.685Z"
   },
   {
    "duration": 713,
    "start_time": "2025-04-28T20:17:49.893Z"
   },
   {
    "duration": 355,
    "start_time": "2025-04-28T20:17:50.608Z"
   },
   {
    "duration": 6,
    "start_time": "2025-04-28T20:17:50.965Z"
   },
   {
    "duration": 4,
    "start_time": "2025-04-28T20:17:50.973Z"
   },
   {
    "duration": 327,
    "start_time": "2025-04-28T20:25:26.641Z"
   },
   {
    "duration": 22,
    "start_time": "2025-04-28T20:29:16.127Z"
   },
   {
    "duration": 24,
    "start_time": "2025-04-28T20:37:36.615Z"
   },
   {
    "duration": 4,
    "start_time": "2025-04-28T20:37:56.870Z"
   },
   {
    "duration": 270,
    "start_time": "2025-04-28T20:39:07.352Z"
   },
   {
    "duration": 247,
    "start_time": "2025-04-28T20:43:24.073Z"
   },
   {
    "duration": 281,
    "start_time": "2025-04-28T20:44:24.195Z"
   },
   {
    "duration": 455,
    "start_time": "2025-04-28T20:52:49.408Z"
   },
   {
    "duration": 430,
    "start_time": "2025-04-28T20:53:33.627Z"
   },
   {
    "duration": 271,
    "start_time": "2025-04-28T20:53:54.659Z"
   },
   {
    "duration": 491,
    "start_time": "2025-04-28T20:54:01.810Z"
   },
   {
    "duration": 548,
    "start_time": "2025-04-28T20:54:04.464Z"
   },
   {
    "duration": 489,
    "start_time": "2025-04-28T20:54:07.788Z"
   },
   {
    "duration": 441,
    "start_time": "2025-04-28T20:54:26.544Z"
   },
   {
    "duration": 110,
    "start_time": "2025-04-28T20:58:07.233Z"
   },
   {
    "duration": 15,
    "start_time": "2025-04-28T21:05:33.022Z"
   },
   {
    "duration": 4,
    "start_time": "2025-04-28T21:05:53.450Z"
   },
   {
    "duration": 4,
    "start_time": "2025-04-28T21:06:03.760Z"
   },
   {
    "duration": 270,
    "start_time": "2025-04-28T21:07:30.248Z"
   },
   {
    "duration": 3,
    "start_time": "2025-04-28T21:07:32.960Z"
   },
   {
    "duration": 215,
    "start_time": "2025-04-28T21:08:51.894Z"
   },
   {
    "duration": 213,
    "start_time": "2025-04-28T21:09:21.188Z"
   },
   {
    "duration": 207,
    "start_time": "2025-04-28T21:09:31.998Z"
   },
   {
    "duration": 260,
    "start_time": "2025-04-28T21:09:34.850Z"
   },
   {
    "duration": 51,
    "start_time": "2025-04-28T21:09:36.349Z"
   },
   {
    "duration": 421,
    "start_time": "2025-04-28T21:09:47.069Z"
   },
   {
    "duration": 917,
    "start_time": "2025-04-28T21:09:47.492Z"
   },
   {
    "duration": 21,
    "start_time": "2025-04-28T21:09:48.410Z"
   },
   {
    "duration": 14,
    "start_time": "2025-04-28T21:09:48.433Z"
   },
   {
    "duration": 10,
    "start_time": "2025-04-28T21:09:48.449Z"
   },
   {
    "duration": 10,
    "start_time": "2025-04-28T21:09:48.461Z"
   },
   {
    "duration": 10,
    "start_time": "2025-04-28T21:09:48.473Z"
   },
   {
    "duration": 42,
    "start_time": "2025-04-28T21:09:48.484Z"
   },
   {
    "duration": 7,
    "start_time": "2025-04-28T21:09:48.527Z"
   },
   {
    "duration": 8,
    "start_time": "2025-04-28T21:09:48.535Z"
   },
   {
    "duration": 8,
    "start_time": "2025-04-28T21:09:48.544Z"
   },
   {
    "duration": 4,
    "start_time": "2025-04-28T21:09:48.553Z"
   },
   {
    "duration": 6,
    "start_time": "2025-04-28T21:09:48.559Z"
   },
   {
    "duration": 12,
    "start_time": "2025-04-28T21:09:48.569Z"
   },
   {
    "duration": 42,
    "start_time": "2025-04-28T21:09:48.583Z"
   },
   {
    "duration": 17,
    "start_time": "2025-04-28T21:09:48.627Z"
   },
   {
    "duration": 31,
    "start_time": "2025-04-28T21:09:48.646Z"
   },
   {
    "duration": 7,
    "start_time": "2025-04-28T21:09:48.678Z"
   },
   {
    "duration": 91,
    "start_time": "2025-04-28T21:09:48.686Z"
   },
   {
    "duration": 35,
    "start_time": "2025-04-28T21:09:48.779Z"
   },
   {
    "duration": 117,
    "start_time": "2025-04-28T21:09:48.825Z"
   },
   {
    "duration": 104,
    "start_time": "2025-04-28T21:09:48.943Z"
   },
   {
    "duration": 113,
    "start_time": "2025-04-28T21:09:49.049Z"
   },
   {
    "duration": 89,
    "start_time": "2025-04-28T21:09:49.164Z"
   },
   {
    "duration": 13,
    "start_time": "2025-04-28T21:09:49.255Z"
   },
   {
    "duration": 5,
    "start_time": "2025-04-28T21:09:49.270Z"
   },
   {
    "duration": 18,
    "start_time": "2025-04-28T21:09:49.277Z"
   },
   {
    "duration": 44,
    "start_time": "2025-04-28T21:09:49.297Z"
   },
   {
    "duration": 8,
    "start_time": "2025-04-28T21:09:49.343Z"
   },
   {
    "duration": 5,
    "start_time": "2025-04-28T21:09:49.352Z"
   },
   {
    "duration": 5,
    "start_time": "2025-04-28T21:09:49.358Z"
   },
   {
    "duration": 785,
    "start_time": "2025-04-28T21:09:49.365Z"
   },
   {
    "duration": 6,
    "start_time": "2025-04-28T21:09:50.153Z"
   },
   {
    "duration": 7,
    "start_time": "2025-04-28T21:09:50.160Z"
   },
   {
    "duration": 201,
    "start_time": "2025-04-28T21:09:50.170Z"
   },
   {
    "duration": 121,
    "start_time": "2025-04-28T21:09:50.373Z"
   },
   {
    "duration": 203,
    "start_time": "2025-04-28T21:09:50.496Z"
   },
   {
    "duration": 12,
    "start_time": "2025-04-28T21:09:50.700Z"
   },
   {
    "duration": 12,
    "start_time": "2025-04-28T21:09:50.714Z"
   },
   {
    "duration": 3,
    "start_time": "2025-04-28T21:09:50.728Z"
   },
   {
    "duration": 224,
    "start_time": "2025-04-28T21:09:50.735Z"
   },
   {
    "duration": 48,
    "start_time": "2025-04-28T21:09:50.961Z"
   },
   {
    "duration": 170,
    "start_time": "2025-04-28T21:09:51.011Z"
   },
   {
    "duration": 681,
    "start_time": "2025-04-28T21:09:51.183Z"
   },
   {
    "duration": 355,
    "start_time": "2025-04-28T21:09:51.865Z"
   },
   {
    "duration": 6,
    "start_time": "2025-04-28T21:09:52.221Z"
   },
   {
    "duration": 255,
    "start_time": "2025-04-28T21:09:52.229Z"
   },
   {
    "duration": 248,
    "start_time": "2025-04-28T21:09:52.485Z"
   },
   {
    "duration": 449,
    "start_time": "2025-04-28T21:09:52.734Z"
   },
   {
    "duration": 108,
    "start_time": "2025-04-28T21:09:53.184Z"
   },
   {
    "duration": 280,
    "start_time": "2025-04-28T21:09:53.293Z"
   },
   {
    "duration": 224,
    "start_time": "2025-04-28T21:09:53.794Z"
   },
   {
    "duration": 219,
    "start_time": "2025-04-28T21:13:19.214Z"
   },
   {
    "duration": 6,
    "start_time": "2025-04-28T21:14:39.082Z"
   },
   {
    "duration": 4,
    "start_time": "2025-04-28T21:14:46.180Z"
   },
   {
    "duration": 3,
    "start_time": "2025-04-28T21:14:56.486Z"
   },
   {
    "duration": 4,
    "start_time": "2025-04-28T21:15:01.924Z"
   },
   {
    "duration": 4,
    "start_time": "2025-04-28T21:15:33.786Z"
   },
   {
    "duration": 3,
    "start_time": "2025-04-28T21:15:40.846Z"
   },
   {
    "duration": 293,
    "start_time": "2025-04-28T21:17:13.257Z"
   },
   {
    "duration": 59,
    "start_time": "2025-04-28T21:19:47.313Z"
   },
   {
    "duration": 223,
    "start_time": "2025-04-28T21:19:48.260Z"
   },
   {
    "duration": 207,
    "start_time": "2025-04-28T21:19:50.253Z"
   },
   {
    "duration": 500,
    "start_time": "2025-04-28T21:21:02.392Z"
   },
   {
    "duration": 1038,
    "start_time": "2025-04-28T21:21:02.894Z"
   },
   {
    "duration": 20,
    "start_time": "2025-04-28T21:21:03.934Z"
   },
   {
    "duration": 14,
    "start_time": "2025-04-28T21:21:03.956Z"
   },
   {
    "duration": 11,
    "start_time": "2025-04-28T21:21:03.971Z"
   },
   {
    "duration": 40,
    "start_time": "2025-04-28T21:21:03.984Z"
   },
   {
    "duration": 13,
    "start_time": "2025-04-28T21:21:04.026Z"
   },
   {
    "duration": 7,
    "start_time": "2025-04-28T21:21:04.042Z"
   },
   {
    "duration": 8,
    "start_time": "2025-04-28T21:21:04.050Z"
   },
   {
    "duration": 8,
    "start_time": "2025-04-28T21:21:04.061Z"
   },
   {
    "duration": 18,
    "start_time": "2025-04-28T21:21:04.071Z"
   },
   {
    "duration": 39,
    "start_time": "2025-04-28T21:21:04.091Z"
   },
   {
    "duration": 7,
    "start_time": "2025-04-28T21:21:04.132Z"
   },
   {
    "duration": 13,
    "start_time": "2025-04-28T21:21:04.142Z"
   },
   {
    "duration": 7,
    "start_time": "2025-04-28T21:21:04.157Z"
   },
   {
    "duration": 18,
    "start_time": "2025-04-28T21:21:04.165Z"
   },
   {
    "duration": 66,
    "start_time": "2025-04-28T21:21:04.185Z"
   },
   {
    "duration": 8,
    "start_time": "2025-04-28T21:21:04.253Z"
   },
   {
    "duration": 80,
    "start_time": "2025-04-28T21:21:04.262Z"
   },
   {
    "duration": 40,
    "start_time": "2025-04-28T21:21:04.344Z"
   },
   {
    "duration": 121,
    "start_time": "2025-04-28T21:21:04.386Z"
   },
   {
    "duration": 112,
    "start_time": "2025-04-28T21:21:04.508Z"
   },
   {
    "duration": 120,
    "start_time": "2025-04-28T21:21:04.623Z"
   },
   {
    "duration": 98,
    "start_time": "2025-04-28T21:21:04.745Z"
   },
   {
    "duration": 14,
    "start_time": "2025-04-28T21:21:04.845Z"
   },
   {
    "duration": 5,
    "start_time": "2025-04-28T21:21:04.861Z"
   },
   {
    "duration": 20,
    "start_time": "2025-04-28T21:21:04.867Z"
   },
   {
    "duration": 49,
    "start_time": "2025-04-28T21:21:04.892Z"
   },
   {
    "duration": 10,
    "start_time": "2025-04-28T21:21:04.943Z"
   },
   {
    "duration": 4,
    "start_time": "2025-04-28T21:21:04.955Z"
   },
   {
    "duration": 4,
    "start_time": "2025-04-28T21:21:04.961Z"
   },
   {
    "duration": 980,
    "start_time": "2025-04-28T21:21:04.967Z"
   },
   {
    "duration": 7,
    "start_time": "2025-04-28T21:21:05.949Z"
   },
   {
    "duration": 7,
    "start_time": "2025-04-28T21:21:05.958Z"
   },
   {
    "duration": 234,
    "start_time": "2025-04-28T21:21:05.967Z"
   },
   {
    "duration": 150,
    "start_time": "2025-04-28T21:21:06.203Z"
   },
   {
    "duration": 342,
    "start_time": "2025-04-28T21:21:06.356Z"
   },
   {
    "duration": 24,
    "start_time": "2025-04-28T21:21:06.700Z"
   },
   {
    "duration": 7,
    "start_time": "2025-04-28T21:21:06.727Z"
   },
   {
    "duration": 4,
    "start_time": "2025-04-28T21:21:06.736Z"
   },
   {
    "duration": 249,
    "start_time": "2025-04-28T21:21:06.742Z"
   },
   {
    "duration": 56,
    "start_time": "2025-04-28T21:21:06.993Z"
   },
   {
    "duration": 194,
    "start_time": "2025-04-28T21:21:07.051Z"
   },
   {
    "duration": 736,
    "start_time": "2025-04-28T21:21:07.246Z"
   },
   {
    "duration": 377,
    "start_time": "2025-04-28T21:21:07.984Z"
   },
   {
    "duration": 6,
    "start_time": "2025-04-28T21:21:08.363Z"
   },
   {
    "duration": 305,
    "start_time": "2025-04-28T21:21:08.371Z"
   },
   {
    "duration": 282,
    "start_time": "2025-04-28T21:21:08.678Z"
   },
   {
    "duration": 509,
    "start_time": "2025-04-28T21:21:08.962Z"
   },
   {
    "duration": 121,
    "start_time": "2025-04-28T21:21:09.473Z"
   },
   {
    "duration": 307,
    "start_time": "2025-04-28T21:21:09.596Z"
   },
   {
    "duration": 250,
    "start_time": "2025-04-28T21:21:09.905Z"
   },
   {
    "duration": 298,
    "start_time": "2025-04-28T21:21:10.450Z"
   },
   {
    "duration": 225,
    "start_time": "2025-04-28T21:21:16.968Z"
   },
   {
    "duration": 2260,
    "start_time": "2025-04-28T23:32:07.289Z"
   },
   {
    "duration": 1057,
    "start_time": "2025-04-28T23:32:09.551Z"
   },
   {
    "duration": 22,
    "start_time": "2025-04-28T23:32:10.610Z"
   },
   {
    "duration": 17,
    "start_time": "2025-04-28T23:32:10.636Z"
   },
   {
    "duration": 15,
    "start_time": "2025-04-28T23:32:10.655Z"
   },
   {
    "duration": 13,
    "start_time": "2025-04-28T23:32:10.672Z"
   },
   {
    "duration": 46,
    "start_time": "2025-04-28T23:32:10.687Z"
   },
   {
    "duration": 11,
    "start_time": "2025-04-28T23:32:10.735Z"
   },
   {
    "duration": 10,
    "start_time": "2025-04-28T23:32:10.748Z"
   },
   {
    "duration": 14,
    "start_time": "2025-04-28T23:32:10.762Z"
   },
   {
    "duration": 10,
    "start_time": "2025-04-28T23:32:10.778Z"
   },
   {
    "duration": 10,
    "start_time": "2025-04-28T23:32:10.790Z"
   },
   {
    "duration": 7,
    "start_time": "2025-04-28T23:32:10.801Z"
   },
   {
    "duration": 33,
    "start_time": "2025-04-28T23:32:10.810Z"
   },
   {
    "duration": 6,
    "start_time": "2025-04-28T23:32:10.846Z"
   },
   {
    "duration": 21,
    "start_time": "2025-04-28T23:32:10.854Z"
   },
   {
    "duration": 59,
    "start_time": "2025-04-28T23:32:10.876Z"
   },
   {
    "duration": 9,
    "start_time": "2025-04-28T23:32:10.937Z"
   },
   {
    "duration": 66,
    "start_time": "2025-04-28T23:32:10.948Z"
   },
   {
    "duration": 50,
    "start_time": "2025-04-28T23:32:11.016Z"
   },
   {
    "duration": 110,
    "start_time": "2025-04-28T23:32:11.068Z"
   },
   {
    "duration": 107,
    "start_time": "2025-04-28T23:32:11.180Z"
   },
   {
    "duration": 115,
    "start_time": "2025-04-28T23:32:11.289Z"
   },
   {
    "duration": 101,
    "start_time": "2025-04-28T23:32:11.406Z"
   },
   {
    "duration": 13,
    "start_time": "2025-04-28T23:32:11.508Z"
   },
   {
    "duration": 4,
    "start_time": "2025-04-28T23:32:11.531Z"
   },
   {
    "duration": 19,
    "start_time": "2025-04-28T23:32:11.536Z"
   },
   {
    "duration": 20,
    "start_time": "2025-04-28T23:32:11.560Z"
   },
   {
    "duration": 7,
    "start_time": "2025-04-28T23:32:11.581Z"
   },
   {
    "duration": 4,
    "start_time": "2025-04-28T23:32:11.589Z"
   },
   {
    "duration": 36,
    "start_time": "2025-04-28T23:32:11.595Z"
   },
   {
    "duration": 740,
    "start_time": "2025-04-28T23:32:11.633Z"
   },
   {
    "duration": 6,
    "start_time": "2025-04-28T23:32:12.377Z"
   },
   {
    "duration": 7,
    "start_time": "2025-04-28T23:32:12.385Z"
   },
   {
    "duration": 242,
    "start_time": "2025-04-28T23:32:12.394Z"
   },
   {
    "duration": 124,
    "start_time": "2025-04-28T23:32:12.638Z"
   },
   {
    "duration": 215,
    "start_time": "2025-04-28T23:32:12.764Z"
   },
   {
    "duration": 10,
    "start_time": "2025-04-28T23:32:12.980Z"
   },
   {
    "duration": 5,
    "start_time": "2025-04-28T23:32:12.991Z"
   },
   {
    "duration": 4,
    "start_time": "2025-04-28T23:32:12.997Z"
   },
   {
    "duration": 240,
    "start_time": "2025-04-28T23:32:13.003Z"
   },
   {
    "duration": 43,
    "start_time": "2025-04-28T23:32:13.245Z"
   },
   {
    "duration": 171,
    "start_time": "2025-04-28T23:32:13.289Z"
   },
   {
    "duration": 690,
    "start_time": "2025-04-28T23:32:13.461Z"
   },
   {
    "duration": 350,
    "start_time": "2025-04-28T23:32:14.153Z"
   },
   {
    "duration": 5,
    "start_time": "2025-04-28T23:32:14.505Z"
   },
   {
    "duration": 280,
    "start_time": "2025-04-28T23:32:14.511Z"
   },
   {
    "duration": 258,
    "start_time": "2025-04-28T23:32:14.793Z"
   },
   {
    "duration": 463,
    "start_time": "2025-04-28T23:32:15.052Z"
   },
   {
    "duration": 115,
    "start_time": "2025-04-28T23:32:15.516Z"
   },
   {
    "duration": 307,
    "start_time": "2025-04-28T23:32:15.633Z"
   },
   {
    "duration": 235,
    "start_time": "2025-04-28T23:32:15.941Z"
   },
   {
    "duration": 266,
    "start_time": "2025-04-28T23:32:16.178Z"
   },
   {
    "duration": 492,
    "start_time": "2025-04-28T23:38:33.713Z"
   },
   {
    "duration": 3,
    "start_time": "2025-04-28T23:40:49.288Z"
   },
   {
    "duration": 503,
    "start_time": "2025-04-28T23:41:37.998Z"
   },
   {
    "duration": 482,
    "start_time": "2025-04-28T23:43:58.812Z"
   },
   {
    "duration": 13,
    "start_time": "2025-04-28T23:44:09.474Z"
   },
   {
    "duration": 345,
    "start_time": "2025-04-28T23:45:13.938Z"
   },
   {
    "duration": 59,
    "start_time": "2025-04-28T23:46:51.770Z"
   },
   {
    "duration": 36,
    "start_time": "2025-04-28T23:47:16.254Z"
   },
   {
    "duration": 246,
    "start_time": "2025-04-28T23:58:27.977Z"
   },
   {
    "duration": 18,
    "start_time": "2025-04-28T23:58:39.704Z"
   },
   {
    "duration": 13,
    "start_time": "2025-04-28T23:59:29.049Z"
   },
   {
    "duration": 485,
    "start_time": "2025-04-29T00:01:19.123Z"
   },
   {
    "duration": 14,
    "start_time": "2025-04-29T00:01:20.792Z"
   },
   {
    "duration": 339,
    "start_time": "2025-04-29T00:01:41.364Z"
   },
   {
    "duration": 22,
    "start_time": "2025-04-29T00:07:31.867Z"
   },
   {
    "duration": 19,
    "start_time": "2025-04-29T00:08:35.558Z"
   },
   {
    "duration": 19,
    "start_time": "2025-04-29T00:08:42.566Z"
   },
   {
    "duration": 9,
    "start_time": "2025-04-29T00:09:31.393Z"
   },
   {
    "duration": 13,
    "start_time": "2025-04-29T00:10:02.607Z"
   },
   {
    "duration": 14,
    "start_time": "2025-04-29T00:10:09.236Z"
   },
   {
    "duration": 18,
    "start_time": "2025-04-29T00:10:14.751Z"
   },
   {
    "duration": 20,
    "start_time": "2025-04-29T00:12:30.136Z"
   },
   {
    "duration": 19,
    "start_time": "2025-04-29T00:14:48.186Z"
   },
   {
    "duration": 18,
    "start_time": "2025-04-29T00:15:13.276Z"
   },
   {
    "duration": 20,
    "start_time": "2025-04-29T00:17:06.523Z"
   },
   {
    "duration": 602,
    "start_time": "2025-04-29T00:19:27.235Z"
   },
   {
    "duration": 764,
    "start_time": "2025-04-29T00:22:26.286Z"
   },
   {
    "duration": 703,
    "start_time": "2025-04-29T00:22:30.551Z"
   },
   {
    "duration": 711,
    "start_time": "2025-04-29T00:24:59.428Z"
   },
   {
    "duration": 14,
    "start_time": "2025-04-29T00:25:18.774Z"
   },
   {
    "duration": 17,
    "start_time": "2025-04-29T00:26:00.822Z"
   },
   {
    "duration": 677,
    "start_time": "2025-04-29T00:27:02.561Z"
   },
   {
    "duration": 14,
    "start_time": "2025-04-29T00:27:04.767Z"
   },
   {
    "duration": 7,
    "start_time": "2025-04-29T00:29:05.132Z"
   },
   {
    "duration": 14,
    "start_time": "2025-04-29T00:30:35.508Z"
   },
   {
    "duration": 18,
    "start_time": "2025-04-29T00:30:44.333Z"
   },
   {
    "duration": 2754,
    "start_time": "2025-04-29T01:25:46.693Z"
   },
   {
    "duration": 1340,
    "start_time": "2025-04-29T01:25:49.449Z"
   },
   {
    "duration": 41,
    "start_time": "2025-04-29T01:25:50.791Z"
   },
   {
    "duration": 13,
    "start_time": "2025-04-29T01:25:50.834Z"
   },
   {
    "duration": 11,
    "start_time": "2025-04-29T01:25:50.848Z"
   },
   {
    "duration": 15,
    "start_time": "2025-04-29T01:25:50.860Z"
   },
   {
    "duration": 27,
    "start_time": "2025-04-29T01:25:50.878Z"
   },
   {
    "duration": 7,
    "start_time": "2025-04-29T01:25:50.906Z"
   },
   {
    "duration": 14,
    "start_time": "2025-04-29T01:25:50.914Z"
   },
   {
    "duration": 8,
    "start_time": "2025-04-29T01:25:50.932Z"
   },
   {
    "duration": 9,
    "start_time": "2025-04-29T01:25:50.941Z"
   },
   {
    "duration": 4,
    "start_time": "2025-04-29T01:25:50.952Z"
   },
   {
    "duration": 7,
    "start_time": "2025-04-29T01:25:50.958Z"
   },
   {
    "duration": 56,
    "start_time": "2025-04-29T01:25:50.981Z"
   },
   {
    "duration": 8,
    "start_time": "2025-04-29T01:25:51.038Z"
   },
   {
    "duration": 17,
    "start_time": "2025-04-29T01:25:51.048Z"
   },
   {
    "duration": 66,
    "start_time": "2025-04-29T01:25:51.067Z"
   },
   {
    "duration": 8,
    "start_time": "2025-04-29T01:25:51.135Z"
   },
   {
    "duration": 85,
    "start_time": "2025-04-29T01:25:51.145Z"
   },
   {
    "duration": 35,
    "start_time": "2025-04-29T01:25:51.235Z"
   },
   {
    "duration": 136,
    "start_time": "2025-04-29T01:25:51.286Z"
   },
   {
    "duration": 111,
    "start_time": "2025-04-29T01:25:51.424Z"
   },
   {
    "duration": 155,
    "start_time": "2025-04-29T01:25:51.536Z"
   },
   {
    "duration": 123,
    "start_time": "2025-04-29T01:25:51.692Z"
   },
   {
    "duration": 23,
    "start_time": "2025-04-29T01:25:51.817Z"
   },
   {
    "duration": 3,
    "start_time": "2025-04-29T01:25:51.842Z"
   },
   {
    "duration": 19,
    "start_time": "2025-04-29T01:25:51.847Z"
   },
   {
    "duration": 57,
    "start_time": "2025-04-29T01:25:51.872Z"
   },
   {
    "duration": 8,
    "start_time": "2025-04-29T01:25:51.931Z"
   },
   {
    "duration": 6,
    "start_time": "2025-04-29T01:25:51.941Z"
   },
   {
    "duration": 5,
    "start_time": "2025-04-29T01:25:51.948Z"
   },
   {
    "duration": 939,
    "start_time": "2025-04-29T01:25:51.954Z"
   },
   {
    "duration": 18,
    "start_time": "2025-04-29T01:25:52.896Z"
   },
   {
    "duration": 16,
    "start_time": "2025-04-29T01:25:52.916Z"
   },
   {
    "duration": 279,
    "start_time": "2025-04-29T01:25:52.934Z"
   },
   {
    "duration": 132,
    "start_time": "2025-04-29T01:25:53.226Z"
   },
   {
    "duration": 250,
    "start_time": "2025-04-29T01:25:53.359Z"
   },
   {
    "duration": 11,
    "start_time": "2025-04-29T01:25:53.621Z"
   },
   {
    "duration": 4,
    "start_time": "2025-04-29T01:25:53.634Z"
   },
   {
    "duration": 4,
    "start_time": "2025-04-29T01:25:53.639Z"
   },
   {
    "duration": 308,
    "start_time": "2025-04-29T01:25:53.645Z"
   },
   {
    "duration": 72,
    "start_time": "2025-04-29T01:25:53.955Z"
   },
   {
    "duration": 304,
    "start_time": "2025-04-29T01:25:54.028Z"
   },
   {
    "duration": 759,
    "start_time": "2025-04-29T01:25:54.338Z"
   },
   {
    "duration": 429,
    "start_time": "2025-04-29T01:25:55.098Z"
   },
   {
    "duration": 6,
    "start_time": "2025-04-29T01:25:55.529Z"
   },
   {
    "duration": 327,
    "start_time": "2025-04-29T01:25:55.537Z"
   },
   {
    "duration": 339,
    "start_time": "2025-04-29T01:25:55.866Z"
   },
   {
    "duration": 555,
    "start_time": "2025-04-29T01:25:56.206Z"
   },
   {
    "duration": 173,
    "start_time": "2025-04-29T01:25:56.764Z"
   },
   {
    "duration": 348,
    "start_time": "2025-04-29T01:25:56.941Z"
   },
   {
    "duration": 293,
    "start_time": "2025-04-29T01:25:57.305Z"
   },
   {
    "duration": 309,
    "start_time": "2025-04-29T01:25:57.602Z"
   },
   {
    "duration": 592,
    "start_time": "2025-04-29T01:25:57.913Z"
   },
   {
    "duration": 3,
    "start_time": "2025-04-29T01:25:58.514Z"
   },
   {
    "duration": 488,
    "start_time": "2025-04-29T01:25:58.519Z"
   },
   {
    "duration": 21,
    "start_time": "2025-04-29T01:25:59.012Z"
   },
   {
    "duration": 885,
    "start_time": "2025-04-29T01:25:59.034Z"
   },
   {
    "duration": 21,
    "start_time": "2025-04-29T01:25:59.930Z"
   },
   {
    "duration": 170,
    "start_time": "2025-04-29T01:34:23.919Z"
   },
   {
    "duration": 20,
    "start_time": "2025-04-29T01:35:35.241Z"
   },
   {
    "duration": 48,
    "start_time": "2025-04-29T01:35:43.164Z"
   },
   {
    "duration": 726,
    "start_time": "2025-04-29T01:37:44.423Z"
   },
   {
    "duration": 100,
    "start_time": "2025-04-29T01:40:30.422Z"
   },
   {
    "duration": 96,
    "start_time": "2025-04-29T01:45:26.650Z"
   },
   {
    "duration": 13,
    "start_time": "2025-04-29T01:45:31.733Z"
   },
   {
    "duration": 4,
    "start_time": "2025-04-29T01:45:49.439Z"
   },
   {
    "duration": 7,
    "start_time": "2025-04-29T01:45:55.590Z"
   },
   {
    "duration": 69,
    "start_time": "2025-04-29T01:47:58.215Z"
   },
   {
    "duration": 49,
    "start_time": "2025-04-29T01:48:09.073Z"
   },
   {
    "duration": 21,
    "start_time": "2025-04-29T01:54:27.100Z"
   },
   {
    "duration": 103,
    "start_time": "2025-04-29T01:58:30.634Z"
   },
   {
    "duration": 103,
    "start_time": "2025-04-29T01:58:59.800Z"
   },
   {
    "duration": 493,
    "start_time": "2025-04-29T02:01:21.048Z"
   },
   {
    "duration": 91,
    "start_time": "2025-04-29T02:01:27.520Z"
   },
   {
    "duration": 63,
    "start_time": "2025-04-29T02:02:41.921Z"
   },
   {
    "duration": 114,
    "start_time": "2025-04-29T02:03:23.076Z"
   },
   {
    "duration": 13,
    "start_time": "2025-04-29T02:03:38.560Z"
   },
   {
    "duration": 2148,
    "start_time": "2025-04-29T06:32:43.674Z"
   },
   {
    "duration": 1025,
    "start_time": "2025-04-29T06:32:45.824Z"
   },
   {
    "duration": 19,
    "start_time": "2025-04-29T06:32:46.851Z"
   },
   {
    "duration": 13,
    "start_time": "2025-04-29T06:32:46.872Z"
   },
   {
    "duration": 11,
    "start_time": "2025-04-29T06:32:46.887Z"
   },
   {
    "duration": 11,
    "start_time": "2025-04-29T06:32:46.899Z"
   },
   {
    "duration": 10,
    "start_time": "2025-04-29T06:32:46.944Z"
   },
   {
    "duration": 6,
    "start_time": "2025-04-29T06:32:46.956Z"
   },
   {
    "duration": 6,
    "start_time": "2025-04-29T06:32:46.964Z"
   },
   {
    "duration": 9,
    "start_time": "2025-04-29T06:32:46.972Z"
   },
   {
    "duration": 7,
    "start_time": "2025-04-29T06:32:46.983Z"
   },
   {
    "duration": 5,
    "start_time": "2025-04-29T06:32:46.991Z"
   },
   {
    "duration": 48,
    "start_time": "2025-04-29T06:32:46.998Z"
   },
   {
    "duration": 11,
    "start_time": "2025-04-29T06:32:47.050Z"
   },
   {
    "duration": 5,
    "start_time": "2025-04-29T06:32:47.063Z"
   },
   {
    "duration": 19,
    "start_time": "2025-04-29T06:32:47.070Z"
   },
   {
    "duration": 62,
    "start_time": "2025-04-29T06:32:47.091Z"
   },
   {
    "duration": 8,
    "start_time": "2025-04-29T06:32:47.154Z"
   },
   {
    "duration": 63,
    "start_time": "2025-04-29T06:32:47.163Z"
   },
   {
    "duration": 48,
    "start_time": "2025-04-29T06:32:47.227Z"
   },
   {
    "duration": 116,
    "start_time": "2025-04-29T06:32:47.277Z"
   },
   {
    "duration": 108,
    "start_time": "2025-04-29T06:32:47.395Z"
   },
   {
    "duration": 115,
    "start_time": "2025-04-29T06:32:47.505Z"
   },
   {
    "duration": 93,
    "start_time": "2025-04-29T06:32:47.622Z"
   },
   {
    "duration": 13,
    "start_time": "2025-04-29T06:32:47.717Z"
   },
   {
    "duration": 13,
    "start_time": "2025-04-29T06:32:47.732Z"
   },
   {
    "duration": 18,
    "start_time": "2025-04-29T06:32:47.747Z"
   },
   {
    "duration": 18,
    "start_time": "2025-04-29T06:32:47.766Z"
   },
   {
    "duration": 8,
    "start_time": "2025-04-29T06:32:47.786Z"
   },
   {
    "duration": 4,
    "start_time": "2025-04-29T06:32:47.796Z"
   },
   {
    "duration": 4,
    "start_time": "2025-04-29T06:32:47.802Z"
   },
   {
    "duration": 852,
    "start_time": "2025-04-29T06:32:47.808Z"
   },
   {
    "duration": 7,
    "start_time": "2025-04-29T06:32:48.662Z"
   },
   {
    "duration": 6,
    "start_time": "2025-04-29T06:32:48.672Z"
   },
   {
    "duration": 210,
    "start_time": "2025-04-29T06:32:48.680Z"
   },
   {
    "duration": 125,
    "start_time": "2025-04-29T06:32:48.892Z"
   },
   {
    "duration": 244,
    "start_time": "2025-04-29T06:32:49.019Z"
   },
   {
    "duration": 9,
    "start_time": "2025-04-29T06:32:49.265Z"
   },
   {
    "duration": 5,
    "start_time": "2025-04-29T06:32:49.275Z"
   },
   {
    "duration": 4,
    "start_time": "2025-04-29T06:32:49.282Z"
   },
   {
    "duration": 239,
    "start_time": "2025-04-29T06:32:49.292Z"
   },
   {
    "duration": 45,
    "start_time": "2025-04-29T06:32:49.533Z"
   },
   {
    "duration": 170,
    "start_time": "2025-04-29T06:32:49.580Z"
   },
   {
    "duration": 728,
    "start_time": "2025-04-29T06:32:49.751Z"
   },
   {
    "duration": 368,
    "start_time": "2025-04-29T06:32:50.481Z"
   },
   {
    "duration": 5,
    "start_time": "2025-04-29T06:32:50.851Z"
   },
   {
    "duration": 252,
    "start_time": "2025-04-29T06:32:50.858Z"
   },
   {
    "duration": 252,
    "start_time": "2025-04-29T06:32:51.112Z"
   },
   {
    "duration": 454,
    "start_time": "2025-04-29T06:32:51.366Z"
   },
   {
    "duration": 109,
    "start_time": "2025-04-29T06:32:51.822Z"
   },
   {
    "duration": 281,
    "start_time": "2025-04-29T06:32:51.933Z"
   },
   {
    "duration": 227,
    "start_time": "2025-04-29T06:32:52.216Z"
   },
   {
    "duration": 255,
    "start_time": "2025-04-29T06:32:52.445Z"
   },
   {
    "duration": 488,
    "start_time": "2025-04-29T06:32:52.702Z"
   },
   {
    "duration": 3,
    "start_time": "2025-04-29T06:32:53.192Z"
   },
   {
    "duration": 353,
    "start_time": "2025-04-29T06:32:53.197Z"
   },
   {
    "duration": 17,
    "start_time": "2025-04-29T06:32:53.552Z"
   },
   {
    "duration": 760,
    "start_time": "2025-04-29T06:32:53.570Z"
   },
   {
    "duration": 24,
    "start_time": "2025-04-29T06:32:54.332Z"
   },
   {
    "duration": 591,
    "start_time": "2025-04-29T06:32:54.357Z"
   },
   {
    "duration": 63,
    "start_time": "2025-04-29T06:32:54.950Z"
   },
   {
    "duration": 7,
    "start_time": "2025-04-29T06:32:55.015Z"
   },
   {
    "duration": 536,
    "start_time": "2025-04-29T06:32:55.024Z"
   },
   {
    "duration": 96,
    "start_time": "2025-04-29T06:32:55.561Z"
   },
   {
    "duration": 85,
    "start_time": "2025-04-29T06:32:55.659Z"
   },
   {
    "duration": 119,
    "start_time": "2025-04-29T06:32:55.746Z"
   },
   {
    "duration": 11,
    "start_time": "2025-04-29T06:32:55.867Z"
   },
   {
    "duration": 13,
    "start_time": "2025-04-30T22:05:55.149Z"
   },
   {
    "duration": 4,
    "start_time": "2025-04-30T22:06:03.567Z"
   },
   {
    "duration": 4,
    "start_time": "2025-04-30T22:06:36.815Z"
   },
   {
    "duration": 159,
    "start_time": "2025-04-30T22:10:13.261Z"
   },
   {
    "duration": 25,
    "start_time": "2025-04-30T22:11:02.983Z"
   },
   {
    "duration": 23,
    "start_time": "2025-04-30T22:11:38.956Z"
   },
   {
    "duration": 2469,
    "start_time": "2025-04-30T22:12:15.844Z"
   },
   {
    "duration": 1059,
    "start_time": "2025-04-30T22:12:18.316Z"
   },
   {
    "duration": 19,
    "start_time": "2025-04-30T22:12:19.377Z"
   },
   {
    "duration": 14,
    "start_time": "2025-04-30T22:12:19.399Z"
   },
   {
    "duration": 12,
    "start_time": "2025-04-30T22:12:19.431Z"
   },
   {
    "duration": 12,
    "start_time": "2025-04-30T22:12:19.445Z"
   },
   {
    "duration": 14,
    "start_time": "2025-04-30T22:12:19.459Z"
   },
   {
    "duration": 7,
    "start_time": "2025-04-30T22:12:19.475Z"
   },
   {
    "duration": 8,
    "start_time": "2025-04-30T22:12:19.485Z"
   },
   {
    "duration": 42,
    "start_time": "2025-04-30T22:12:19.497Z"
   },
   {
    "duration": 10,
    "start_time": "2025-04-30T22:12:19.542Z"
   },
   {
    "duration": 8,
    "start_time": "2025-04-30T22:12:19.554Z"
   },
   {
    "duration": 6,
    "start_time": "2025-04-30T22:12:19.566Z"
   },
   {
    "duration": 12,
    "start_time": "2025-04-30T22:12:19.574Z"
   },
   {
    "duration": 6,
    "start_time": "2025-04-30T22:12:19.589Z"
   },
   {
    "duration": 51,
    "start_time": "2025-04-30T22:12:19.597Z"
   },
   {
    "duration": 46,
    "start_time": "2025-04-30T22:12:19.650Z"
   },
   {
    "duration": 9,
    "start_time": "2025-04-30T22:12:19.698Z"
   },
   {
    "duration": 83,
    "start_time": "2025-04-30T22:12:19.732Z"
   },
   {
    "duration": 42,
    "start_time": "2025-04-30T22:12:19.817Z"
   },
   {
    "duration": 117,
    "start_time": "2025-04-30T22:12:19.862Z"
   },
   {
    "duration": 121,
    "start_time": "2025-04-30T22:12:19.981Z"
   },
   {
    "duration": 129,
    "start_time": "2025-04-30T22:12:20.104Z"
   },
   {
    "duration": 108,
    "start_time": "2025-04-30T22:12:20.235Z"
   },
   {
    "duration": 18,
    "start_time": "2025-04-30T22:12:20.345Z"
   },
   {
    "duration": 5,
    "start_time": "2025-04-30T22:12:20.365Z"
   },
   {
    "duration": 28,
    "start_time": "2025-04-30T22:12:20.373Z"
   },
   {
    "duration": 46,
    "start_time": "2025-04-30T22:12:20.408Z"
   },
   {
    "duration": 9,
    "start_time": "2025-04-30T22:12:20.456Z"
   },
   {
    "duration": 4,
    "start_time": "2025-04-30T22:12:20.467Z"
   },
   {
    "duration": 5,
    "start_time": "2025-04-30T22:12:20.472Z"
   },
   {
    "duration": 932,
    "start_time": "2025-04-30T22:12:20.481Z"
   },
   {
    "duration": 17,
    "start_time": "2025-04-30T22:12:21.415Z"
   },
   {
    "duration": 6,
    "start_time": "2025-04-30T22:12:21.434Z"
   },
   {
    "duration": 214,
    "start_time": "2025-04-30T22:12:21.441Z"
   },
   {
    "duration": 123,
    "start_time": "2025-04-30T22:12:21.657Z"
   },
   {
    "duration": 270,
    "start_time": "2025-04-30T22:12:21.783Z"
   },
   {
    "duration": 13,
    "start_time": "2025-04-30T22:12:22.055Z"
   },
   {
    "duration": 5,
    "start_time": "2025-04-30T22:12:22.070Z"
   },
   {
    "duration": 3,
    "start_time": "2025-04-30T22:12:22.076Z"
   },
   {
    "duration": 273,
    "start_time": "2025-04-30T22:12:22.081Z"
   },
   {
    "duration": 49,
    "start_time": "2025-04-30T22:12:22.356Z"
   },
   {
    "duration": 191,
    "start_time": "2025-04-30T22:12:22.407Z"
   },
   {
    "duration": 718,
    "start_time": "2025-04-30T22:12:22.600Z"
   },
   {
    "duration": 367,
    "start_time": "2025-04-30T22:12:23.320Z"
   },
   {
    "duration": 5,
    "start_time": "2025-04-30T22:12:23.689Z"
   },
   {
    "duration": 296,
    "start_time": "2025-04-30T22:12:23.696Z"
   },
   {
    "duration": 304,
    "start_time": "2025-04-30T22:12:23.994Z"
   },
   {
    "duration": 522,
    "start_time": "2025-04-30T22:12:24.300Z"
   },
   {
    "duration": 117,
    "start_time": "2025-04-30T22:12:24.824Z"
   },
   {
    "duration": 294,
    "start_time": "2025-04-30T22:12:24.943Z"
   },
   {
    "duration": 229,
    "start_time": "2025-04-30T22:12:25.239Z"
   },
   {
    "duration": 255,
    "start_time": "2025-04-30T22:12:25.469Z"
   },
   {
    "duration": 587,
    "start_time": "2025-04-30T22:12:25.726Z"
   },
   {
    "duration": 3,
    "start_time": "2025-04-30T22:12:26.318Z"
   },
   {
    "duration": 379,
    "start_time": "2025-04-30T22:12:26.323Z"
   },
   {
    "duration": 17,
    "start_time": "2025-04-30T22:12:26.704Z"
   },
   {
    "duration": 867,
    "start_time": "2025-04-30T22:12:26.732Z"
   },
   {
    "duration": 20,
    "start_time": "2025-04-30T22:12:27.601Z"
   },
   {
    "duration": 611,
    "start_time": "2025-04-30T22:12:27.632Z"
   },
   {
    "duration": 66,
    "start_time": "2025-04-30T22:12:28.245Z"
   },
   {
    "duration": 18,
    "start_time": "2025-04-30T22:12:28.313Z"
   },
   {
    "duration": 539,
    "start_time": "2025-04-30T22:12:28.333Z"
   },
   {
    "duration": 108,
    "start_time": "2025-04-30T22:12:28.873Z"
   },
   {
    "duration": 85,
    "start_time": "2025-04-30T22:12:28.984Z"
   },
   {
    "duration": 118,
    "start_time": "2025-04-30T22:12:29.071Z"
   },
   {
    "duration": 13,
    "start_time": "2025-04-30T22:12:29.191Z"
   },
   {
    "duration": 99,
    "start_time": "2025-04-30T22:13:26.127Z"
   },
   {
    "duration": 46,
    "start_time": "2025-04-30T22:13:42.661Z"
   },
   {
    "duration": 43,
    "start_time": "2025-04-30T22:14:10.892Z"
   },
   {
    "duration": 2247,
    "start_time": "2025-05-01T15:14:50.677Z"
   },
   {
    "duration": 1029,
    "start_time": "2025-05-01T15:14:52.926Z"
   },
   {
    "duration": 18,
    "start_time": "2025-05-01T15:14:53.956Z"
   },
   {
    "duration": 13,
    "start_time": "2025-05-01T15:14:53.976Z"
   },
   {
    "duration": 10,
    "start_time": "2025-05-01T15:14:53.991Z"
   },
   {
    "duration": 11,
    "start_time": "2025-05-01T15:14:54.025Z"
   },
   {
    "duration": 10,
    "start_time": "2025-05-01T15:14:54.038Z"
   },
   {
    "duration": 5,
    "start_time": "2025-05-01T15:14:54.050Z"
   },
   {
    "duration": 7,
    "start_time": "2025-05-01T15:14:54.057Z"
   },
   {
    "duration": 8,
    "start_time": "2025-05-01T15:14:54.066Z"
   },
   {
    "duration": 49,
    "start_time": "2025-05-01T15:14:54.075Z"
   },
   {
    "duration": 6,
    "start_time": "2025-05-01T15:14:54.126Z"
   },
   {
    "duration": 5,
    "start_time": "2025-05-01T15:14:54.134Z"
   },
   {
    "duration": 12,
    "start_time": "2025-05-01T15:14:54.143Z"
   },
   {
    "duration": 6,
    "start_time": "2025-05-01T15:14:54.157Z"
   },
   {
    "duration": 18,
    "start_time": "2025-05-01T15:14:54.164Z"
   },
   {
    "duration": 65,
    "start_time": "2025-05-01T15:14:54.183Z"
   },
   {
    "duration": 8,
    "start_time": "2025-05-01T15:14:54.249Z"
   },
   {
    "duration": 83,
    "start_time": "2025-05-01T15:14:54.259Z"
   },
   {
    "duration": 50,
    "start_time": "2025-05-01T15:14:54.344Z"
   },
   {
    "duration": 122,
    "start_time": "2025-05-01T15:14:54.396Z"
   },
   {
    "duration": 107,
    "start_time": "2025-05-01T15:14:54.520Z"
   },
   {
    "duration": 116,
    "start_time": "2025-05-01T15:14:54.630Z"
   },
   {
    "duration": 102,
    "start_time": "2025-05-01T15:14:54.748Z"
   },
   {
    "duration": 14,
    "start_time": "2025-05-01T15:14:54.852Z"
   },
   {
    "duration": 4,
    "start_time": "2025-05-01T15:14:54.868Z"
   },
   {
    "duration": 20,
    "start_time": "2025-05-01T15:14:54.874Z"
   },
   {
    "duration": 44,
    "start_time": "2025-05-01T15:14:54.896Z"
   },
   {
    "duration": 7,
    "start_time": "2025-05-01T15:14:54.942Z"
   },
   {
    "duration": 5,
    "start_time": "2025-05-01T15:14:54.951Z"
   },
   {
    "duration": 4,
    "start_time": "2025-05-01T15:14:54.957Z"
   },
   {
    "duration": 861,
    "start_time": "2025-05-01T15:14:54.963Z"
   },
   {
    "duration": 6,
    "start_time": "2025-05-01T15:14:55.826Z"
   },
   {
    "duration": 6,
    "start_time": "2025-05-01T15:14:55.834Z"
   },
   {
    "duration": 207,
    "start_time": "2025-05-01T15:14:55.842Z"
   },
   {
    "duration": 162,
    "start_time": "2025-05-01T15:14:56.051Z"
   },
   {
    "duration": 210,
    "start_time": "2025-05-01T15:14:56.214Z"
   },
   {
    "duration": 9,
    "start_time": "2025-05-01T15:14:56.426Z"
   },
   {
    "duration": 5,
    "start_time": "2025-05-01T15:14:56.437Z"
   },
   {
    "duration": 4,
    "start_time": "2025-05-01T15:14:56.443Z"
   },
   {
    "duration": 240,
    "start_time": "2025-05-01T15:14:56.452Z"
   },
   {
    "duration": 50,
    "start_time": "2025-05-01T15:14:56.694Z"
   },
   {
    "duration": 164,
    "start_time": "2025-05-01T15:14:56.746Z"
   },
   {
    "duration": 698,
    "start_time": "2025-05-01T15:14:56.912Z"
   },
   {
    "duration": 351,
    "start_time": "2025-05-01T15:14:57.611Z"
   },
   {
    "duration": 6,
    "start_time": "2025-05-01T15:14:57.964Z"
   },
   {
    "duration": 314,
    "start_time": "2025-05-01T15:14:57.972Z"
   },
   {
    "duration": 308,
    "start_time": "2025-05-01T15:14:58.288Z"
   },
   {
    "duration": 512,
    "start_time": "2025-05-01T15:14:58.597Z"
   },
   {
    "duration": 75,
    "start_time": "2025-05-01T15:14:59.111Z"
   },
   {
    "duration": 386,
    "start_time": "2025-05-01T15:14:59.188Z"
   },
   {
    "duration": 249,
    "start_time": "2025-05-01T15:14:59.578Z"
   },
   {
    "duration": 264,
    "start_time": "2025-05-01T15:14:59.829Z"
   },
   {
    "duration": 676,
    "start_time": "2025-05-01T15:15:00.094Z"
   },
   {
    "duration": 3,
    "start_time": "2025-05-01T15:15:00.772Z"
   },
   {
    "duration": 357,
    "start_time": "2025-05-01T15:15:00.777Z"
   },
   {
    "duration": 17,
    "start_time": "2025-05-01T15:15:01.136Z"
   },
   {
    "duration": 1002,
    "start_time": "2025-05-01T15:15:01.155Z"
   },
   {
    "duration": 18,
    "start_time": "2025-05-01T15:15:02.160Z"
   },
   {
    "duration": 803,
    "start_time": "2025-05-01T15:15:02.180Z"
   },
   {
    "duration": 73,
    "start_time": "2025-05-01T15:15:02.985Z"
   },
   {
    "duration": 7,
    "start_time": "2025-05-01T15:15:03.060Z"
   },
   {
    "duration": 626,
    "start_time": "2025-05-01T15:15:03.069Z"
   },
   {
    "duration": 97,
    "start_time": "2025-05-01T15:15:03.697Z"
   },
   {
    "duration": 80,
    "start_time": "2025-05-01T15:15:03.796Z"
   },
   {
    "duration": 95,
    "start_time": "2025-05-01T15:15:03.879Z"
   },
   {
    "duration": 11,
    "start_time": "2025-05-01T15:15:03.976Z"
   },
   {
    "duration": 2143,
    "start_time": "2025-05-01T17:07:13.886Z"
   },
   {
    "duration": 993,
    "start_time": "2025-05-01T17:07:16.031Z"
   },
   {
    "duration": 27,
    "start_time": "2025-05-01T17:07:17.026Z"
   },
   {
    "duration": 14,
    "start_time": "2025-05-01T17:07:17.056Z"
   },
   {
    "duration": 11,
    "start_time": "2025-05-01T17:07:17.072Z"
   },
   {
    "duration": 10,
    "start_time": "2025-05-01T17:07:17.085Z"
   },
   {
    "duration": 10,
    "start_time": "2025-05-01T17:07:17.096Z"
   },
   {
    "duration": 40,
    "start_time": "2025-05-01T17:07:17.107Z"
   },
   {
    "duration": 7,
    "start_time": "2025-05-01T17:07:17.149Z"
   },
   {
    "duration": 8,
    "start_time": "2025-05-01T17:07:17.159Z"
   },
   {
    "duration": 8,
    "start_time": "2025-05-01T17:07:17.168Z"
   },
   {
    "duration": 5,
    "start_time": "2025-05-01T17:07:17.177Z"
   },
   {
    "duration": 6,
    "start_time": "2025-05-01T17:07:17.183Z"
   },
   {
    "duration": 11,
    "start_time": "2025-05-01T17:07:17.191Z"
   },
   {
    "duration": 43,
    "start_time": "2025-05-01T17:07:17.204Z"
   },
   {
    "duration": 20,
    "start_time": "2025-05-01T17:07:17.248Z"
   },
   {
    "duration": 31,
    "start_time": "2025-05-01T17:07:17.270Z"
   },
   {
    "duration": 7,
    "start_time": "2025-05-01T17:07:17.303Z"
   },
   {
    "duration": 92,
    "start_time": "2025-05-01T17:07:17.311Z"
   },
   {
    "duration": 58,
    "start_time": "2025-05-01T17:07:17.404Z"
   },
   {
    "duration": 108,
    "start_time": "2025-05-01T17:07:17.464Z"
   },
   {
    "duration": 99,
    "start_time": "2025-05-01T17:07:17.574Z"
   },
   {
    "duration": 109,
    "start_time": "2025-05-01T17:07:17.674Z"
   },
   {
    "duration": 88,
    "start_time": "2025-05-01T17:07:17.784Z"
   },
   {
    "duration": 13,
    "start_time": "2025-05-01T17:07:17.874Z"
   },
   {
    "duration": 4,
    "start_time": "2025-05-01T17:07:17.888Z"
   },
   {
    "duration": 19,
    "start_time": "2025-05-01T17:07:17.894Z"
   },
   {
    "duration": 42,
    "start_time": "2025-05-01T17:07:17.917Z"
   },
   {
    "duration": 8,
    "start_time": "2025-05-01T17:07:17.961Z"
   },
   {
    "duration": 5,
    "start_time": "2025-05-01T17:07:17.970Z"
   },
   {
    "duration": 4,
    "start_time": "2025-05-01T17:07:17.976Z"
   },
   {
    "duration": 751,
    "start_time": "2025-05-01T17:07:17.982Z"
   },
   {
    "duration": 11,
    "start_time": "2025-05-01T17:07:18.735Z"
   },
   {
    "duration": 6,
    "start_time": "2025-05-01T17:07:18.747Z"
   },
   {
    "duration": 208,
    "start_time": "2025-05-01T17:07:18.754Z"
   },
   {
    "duration": 129,
    "start_time": "2025-05-01T17:07:18.964Z"
   },
   {
    "duration": 236,
    "start_time": "2025-05-01T17:07:19.095Z"
   },
   {
    "duration": 16,
    "start_time": "2025-05-01T17:07:19.333Z"
   },
   {
    "duration": 4,
    "start_time": "2025-05-01T17:07:19.351Z"
   },
   {
    "duration": 3,
    "start_time": "2025-05-01T17:07:19.357Z"
   },
   {
    "duration": 226,
    "start_time": "2025-05-01T17:07:19.363Z"
   },
   {
    "duration": 55,
    "start_time": "2025-05-01T17:07:19.590Z"
   },
   {
    "duration": 159,
    "start_time": "2025-05-01T17:07:19.647Z"
   },
   {
    "duration": 638,
    "start_time": "2025-05-01T17:07:19.808Z"
   },
   {
    "duration": 345,
    "start_time": "2025-05-01T17:07:20.448Z"
   },
   {
    "duration": 5,
    "start_time": "2025-05-01T17:07:20.795Z"
   },
   {
    "duration": 254,
    "start_time": "2025-05-01T17:07:20.802Z"
   },
   {
    "duration": 254,
    "start_time": "2025-05-01T17:07:21.058Z"
   },
   {
    "duration": 500,
    "start_time": "2025-05-01T17:07:21.314Z"
   },
   {
    "duration": 75,
    "start_time": "2025-05-01T17:07:21.815Z"
   },
   {
    "duration": 339,
    "start_time": "2025-05-01T17:07:21.892Z"
   },
   {
    "duration": 227,
    "start_time": "2025-05-01T17:07:22.232Z"
   },
   {
    "duration": 255,
    "start_time": "2025-05-01T17:07:22.460Z"
   },
   {
    "duration": 633,
    "start_time": "2025-05-01T17:07:22.717Z"
   },
   {
    "duration": 2,
    "start_time": "2025-05-01T17:07:23.352Z"
   },
   {
    "duration": 362,
    "start_time": "2025-05-01T17:07:23.356Z"
   },
   {
    "duration": 23,
    "start_time": "2025-05-01T17:07:23.720Z"
   },
   {
    "duration": 915,
    "start_time": "2025-05-01T17:07:23.745Z"
   },
   {
    "duration": 20,
    "start_time": "2025-05-01T17:07:24.662Z"
   },
   {
    "duration": 741,
    "start_time": "2025-05-01T17:07:24.684Z"
   },
   {
    "duration": 70,
    "start_time": "2025-05-01T17:07:25.427Z"
   },
   {
    "duration": 7,
    "start_time": "2025-05-01T17:07:25.499Z"
   },
   {
    "duration": 570,
    "start_time": "2025-05-01T17:07:25.507Z"
   },
   {
    "duration": 92,
    "start_time": "2025-05-01T17:07:26.079Z"
   },
   {
    "duration": 71,
    "start_time": "2025-05-01T17:07:26.172Z"
   },
   {
    "duration": 98,
    "start_time": "2025-05-01T17:07:26.245Z"
   },
   {
    "duration": 18,
    "start_time": "2025-05-01T17:07:26.344Z"
   },
   {
    "duration": 10,
    "start_time": "2025-05-02T15:14:41.525Z"
   },
   {
    "duration": 4,
    "start_time": "2025-05-02T15:15:11.496Z"
   },
   {
    "duration": 2175,
    "start_time": "2025-05-02T19:22:28.502Z"
   },
   {
    "duration": 990,
    "start_time": "2025-05-02T19:22:30.679Z"
   },
   {
    "duration": 18,
    "start_time": "2025-05-02T19:22:31.671Z"
   },
   {
    "duration": 13,
    "start_time": "2025-05-02T19:22:31.691Z"
   },
   {
    "duration": 32,
    "start_time": "2025-05-02T19:22:31.706Z"
   },
   {
    "duration": 11,
    "start_time": "2025-05-02T19:22:31.740Z"
   },
   {
    "duration": 10,
    "start_time": "2025-05-02T19:22:31.753Z"
   },
   {
    "duration": 6,
    "start_time": "2025-05-02T19:22:31.764Z"
   },
   {
    "duration": 7,
    "start_time": "2025-05-02T19:22:31.771Z"
   },
   {
    "duration": 8,
    "start_time": "2025-05-02T19:22:31.782Z"
   },
   {
    "duration": 44,
    "start_time": "2025-05-02T19:22:31.792Z"
   },
   {
    "duration": 5,
    "start_time": "2025-05-02T19:22:31.838Z"
   },
   {
    "duration": 7,
    "start_time": "2025-05-02T19:22:31.845Z"
   },
   {
    "duration": 14,
    "start_time": "2025-05-02T19:22:31.853Z"
   },
   {
    "duration": 6,
    "start_time": "2025-05-02T19:22:31.869Z"
   },
   {
    "duration": 52,
    "start_time": "2025-05-02T19:22:31.879Z"
   },
   {
    "duration": 41,
    "start_time": "2025-05-02T19:22:31.933Z"
   },
   {
    "duration": 7,
    "start_time": "2025-05-02T19:22:31.976Z"
   },
   {
    "duration": 84,
    "start_time": "2025-05-02T19:22:31.984Z"
   },
   {
    "duration": 48,
    "start_time": "2025-05-02T19:22:32.070Z"
   },
   {
    "duration": 106,
    "start_time": "2025-05-02T19:22:32.132Z"
   },
   {
    "duration": 114,
    "start_time": "2025-05-02T19:22:32.239Z"
   },
   {
    "duration": 113,
    "start_time": "2025-05-02T19:22:32.355Z"
   },
   {
    "duration": 98,
    "start_time": "2025-05-02T19:22:32.470Z"
   },
   {
    "duration": 14,
    "start_time": "2025-05-02T19:22:32.569Z"
   },
   {
    "duration": 4,
    "start_time": "2025-05-02T19:22:32.584Z"
   },
   {
    "duration": 18,
    "start_time": "2025-05-02T19:22:32.590Z"
   },
   {
    "duration": 21,
    "start_time": "2025-05-02T19:22:32.633Z"
   },
   {
    "duration": 7,
    "start_time": "2025-05-02T19:22:32.656Z"
   },
   {
    "duration": 5,
    "start_time": "2025-05-02T19:22:32.665Z"
   },
   {
    "duration": 5,
    "start_time": "2025-05-02T19:22:32.671Z"
   },
   {
    "duration": 811,
    "start_time": "2025-05-02T19:22:32.677Z"
   },
   {
    "duration": 6,
    "start_time": "2025-05-02T19:22:33.490Z"
   },
   {
    "duration": 6,
    "start_time": "2025-05-02T19:22:33.498Z"
   },
   {
    "duration": 216,
    "start_time": "2025-05-02T19:22:33.506Z"
   },
   {
    "duration": 162,
    "start_time": "2025-05-02T19:22:33.731Z"
   },
   {
    "duration": 212,
    "start_time": "2025-05-02T19:22:33.895Z"
   },
   {
    "duration": 21,
    "start_time": "2025-05-02T19:22:34.110Z"
   },
   {
    "duration": 6,
    "start_time": "2025-05-02T19:22:34.133Z"
   },
   {
    "duration": 3,
    "start_time": "2025-05-02T19:22:34.141Z"
   },
   {
    "duration": 232,
    "start_time": "2025-05-02T19:22:34.146Z"
   },
   {
    "duration": 58,
    "start_time": "2025-05-02T19:22:34.380Z"
   },
   {
    "duration": 176,
    "start_time": "2025-05-02T19:22:34.439Z"
   },
   {
    "duration": 689,
    "start_time": "2025-05-02T19:22:34.617Z"
   },
   {
    "duration": 343,
    "start_time": "2025-05-02T19:22:35.308Z"
   },
   {
    "duration": 5,
    "start_time": "2025-05-02T19:22:35.653Z"
   },
   {
    "duration": 319,
    "start_time": "2025-05-02T19:22:35.660Z"
   },
   {
    "duration": 302,
    "start_time": "2025-05-02T19:22:35.980Z"
   },
   {
    "duration": 521,
    "start_time": "2025-05-02T19:22:36.285Z"
   },
   {
    "duration": 77,
    "start_time": "2025-05-02T19:22:36.808Z"
   },
   {
    "duration": 367,
    "start_time": "2025-05-02T19:22:36.887Z"
   },
   {
    "duration": 235,
    "start_time": "2025-05-02T19:22:37.256Z"
   },
   {
    "duration": 283,
    "start_time": "2025-05-02T19:22:37.493Z"
   },
   {
    "duration": 676,
    "start_time": "2025-05-02T19:22:37.777Z"
   },
   {
    "duration": 4,
    "start_time": "2025-05-02T19:22:38.454Z"
   },
   {
    "duration": 359,
    "start_time": "2025-05-02T19:22:38.459Z"
   },
   {
    "duration": 23,
    "start_time": "2025-05-02T19:22:38.820Z"
   },
   {
    "duration": 976,
    "start_time": "2025-05-02T19:22:38.845Z"
   },
   {
    "duration": 25,
    "start_time": "2025-05-02T19:22:39.823Z"
   },
   {
    "duration": 761,
    "start_time": "2025-05-02T19:22:39.849Z"
   },
   {
    "duration": 70,
    "start_time": "2025-05-02T19:22:40.612Z"
   },
   {
    "duration": 6,
    "start_time": "2025-05-02T19:22:40.684Z"
   },
   {
    "duration": 573,
    "start_time": "2025-05-02T19:22:40.692Z"
   },
   {
    "duration": 90,
    "start_time": "2025-05-02T19:22:41.267Z"
   },
   {
    "duration": 74,
    "start_time": "2025-05-02T19:22:41.359Z"
   },
   {
    "duration": 98,
    "start_time": "2025-05-02T19:22:41.435Z"
   },
   {
    "duration": 12,
    "start_time": "2025-05-02T19:22:41.534Z"
   },
   {
    "duration": 19,
    "start_time": "2025-05-02T19:35:52.342Z"
   },
   {
    "duration": 26,
    "start_time": "2025-05-02T19:37:31.249Z"
   },
   {
    "duration": 457,
    "start_time": "2025-05-02T21:02:42.223Z"
   },
   {
    "duration": 1010,
    "start_time": "2025-05-02T21:02:42.683Z"
   },
   {
    "duration": 22,
    "start_time": "2025-05-02T21:02:43.694Z"
   },
   {
    "duration": 13,
    "start_time": "2025-05-02T21:02:43.719Z"
   },
   {
    "duration": 10,
    "start_time": "2025-05-02T21:02:43.734Z"
   },
   {
    "duration": 11,
    "start_time": "2025-05-02T21:02:43.745Z"
   },
   {
    "duration": 10,
    "start_time": "2025-05-02T21:02:43.759Z"
   },
   {
    "duration": 41,
    "start_time": "2025-05-02T21:02:43.771Z"
   },
   {
    "duration": 7,
    "start_time": "2025-05-02T21:02:43.814Z"
   },
   {
    "duration": 8,
    "start_time": "2025-05-02T21:02:43.824Z"
   },
   {
    "duration": 6,
    "start_time": "2025-05-02T21:02:43.834Z"
   },
   {
    "duration": 6,
    "start_time": "2025-05-02T21:02:43.842Z"
   },
   {
    "duration": 5,
    "start_time": "2025-05-02T21:02:43.849Z"
   },
   {
    "duration": 11,
    "start_time": "2025-05-02T21:02:43.856Z"
   },
   {
    "duration": 7,
    "start_time": "2025-05-02T21:02:43.908Z"
   },
   {
    "duration": 17,
    "start_time": "2025-05-02T21:02:43.918Z"
   },
   {
    "duration": 30,
    "start_time": "2025-05-02T21:02:43.937Z"
   },
   {
    "duration": 7,
    "start_time": "2025-05-02T21:02:43.969Z"
   },
   {
    "duration": 87,
    "start_time": "2025-05-02T21:02:43.977Z"
   },
   {
    "duration": 47,
    "start_time": "2025-05-02T21:02:44.066Z"
   },
   {
    "duration": 103,
    "start_time": "2025-05-02T21:02:44.115Z"
   },
   {
    "duration": 102,
    "start_time": "2025-05-02T21:02:44.220Z"
   },
   {
    "duration": 104,
    "start_time": "2025-05-02T21:02:44.323Z"
   },
   {
    "duration": 93,
    "start_time": "2025-05-02T21:02:44.429Z"
   },
   {
    "duration": 13,
    "start_time": "2025-05-02T21:02:44.524Z"
   },
   {
    "duration": 4,
    "start_time": "2025-05-02T21:02:44.539Z"
   },
   {
    "duration": 18,
    "start_time": "2025-05-02T21:02:44.545Z"
   },
   {
    "duration": 43,
    "start_time": "2025-05-02T21:02:44.572Z"
   },
   {
    "duration": 8,
    "start_time": "2025-05-02T21:02:44.617Z"
   },
   {
    "duration": 5,
    "start_time": "2025-05-02T21:02:44.626Z"
   },
   {
    "duration": 5,
    "start_time": "2025-05-02T21:02:44.632Z"
   },
   {
    "duration": 786,
    "start_time": "2025-05-02T21:02:44.638Z"
   },
   {
    "duration": 6,
    "start_time": "2025-05-02T21:02:45.426Z"
   },
   {
    "duration": 7,
    "start_time": "2025-05-02T21:02:45.434Z"
   },
   {
    "duration": 208,
    "start_time": "2025-05-02T21:02:45.442Z"
   },
   {
    "duration": 124,
    "start_time": "2025-05-02T21:02:45.652Z"
   },
   {
    "duration": 205,
    "start_time": "2025-05-02T21:02:45.778Z"
   },
   {
    "duration": 9,
    "start_time": "2025-05-02T21:02:45.985Z"
   },
   {
    "duration": 17,
    "start_time": "2025-05-02T21:02:45.995Z"
   },
   {
    "duration": 3,
    "start_time": "2025-05-02T21:02:46.014Z"
   },
   {
    "duration": 234,
    "start_time": "2025-05-02T21:02:46.019Z"
   },
   {
    "duration": 43,
    "start_time": "2025-05-02T21:02:46.255Z"
   },
   {
    "duration": 175,
    "start_time": "2025-05-02T21:02:46.299Z"
   },
   {
    "duration": 682,
    "start_time": "2025-05-02T21:02:46.476Z"
   },
   {
    "duration": 364,
    "start_time": "2025-05-02T21:02:47.160Z"
   },
   {
    "duration": 5,
    "start_time": "2025-05-02T21:02:47.526Z"
   },
   {
    "duration": 290,
    "start_time": "2025-05-02T21:02:47.533Z"
   },
   {
    "duration": 258,
    "start_time": "2025-05-02T21:02:47.825Z"
   },
   {
    "duration": 470,
    "start_time": "2025-05-02T21:02:48.085Z"
   },
   {
    "duration": 78,
    "start_time": "2025-05-02T21:02:48.557Z"
   },
   {
    "duration": 378,
    "start_time": "2025-05-02T21:02:48.636Z"
   },
   {
    "duration": 219,
    "start_time": "2025-05-02T21:02:49.016Z"
   },
   {
    "duration": 309,
    "start_time": "2025-05-02T21:02:49.237Z"
   },
   {
    "duration": 648,
    "start_time": "2025-05-02T21:02:49.547Z"
   },
   {
    "duration": 3,
    "start_time": "2025-05-02T21:02:50.196Z"
   },
   {
    "duration": 341,
    "start_time": "2025-05-02T21:02:50.209Z"
   },
   {
    "duration": 16,
    "start_time": "2025-05-02T21:02:50.552Z"
   },
   {
    "duration": 913,
    "start_time": "2025-05-02T21:02:50.569Z"
   },
   {
    "duration": 27,
    "start_time": "2025-05-02T21:02:51.484Z"
   },
   {
    "duration": 730,
    "start_time": "2025-05-02T21:02:51.513Z"
   },
   {
    "duration": 64,
    "start_time": "2025-05-02T21:02:52.245Z"
   },
   {
    "duration": 7,
    "start_time": "2025-05-02T21:02:52.310Z"
   },
   {
    "duration": 554,
    "start_time": "2025-05-02T21:02:52.318Z"
   },
   {
    "duration": 96,
    "start_time": "2025-05-02T21:02:52.874Z"
   },
   {
    "duration": 71,
    "start_time": "2025-05-02T21:02:52.971Z"
   },
   {
    "duration": 109,
    "start_time": "2025-05-02T21:02:53.044Z"
   },
   {
    "duration": 11,
    "start_time": "2025-05-02T21:02:53.155Z"
   }
  ],
  "colab": {
   "provenance": []
  },
  "kernelspec": {
   "display_name": "Python 3 (ipykernel)",
   "language": "python",
   "name": "python3"
  },
  "language_info": {
   "codemirror_mode": {
    "name": "ipython",
    "version": 3
   },
   "file_extension": ".py",
   "mimetype": "text/x-python",
   "name": "python",
   "nbconvert_exporter": "python",
   "pygments_lexer": "ipython3",
   "version": "3.9.19"
  },
  "toc": {
   "base_numbering": 1,
   "nav_menu": {},
   "number_sections": true,
   "sideBar": true,
   "skip_h1_title": true,
   "title_cell": "Table of Contents",
   "title_sidebar": "Contents",
   "toc_cell": false,
   "toc_position": {
    "height": "calc(100% - 180px)",
    "left": "10px",
    "top": "150px",
    "width": "227.391px"
   },
   "toc_section_display": true,
   "toc_window_display": true
  }
 },
 "nbformat": 4,
 "nbformat_minor": 5
}
